{
 "cells": [
  {
   "cell_type": "markdown",
   "id": "a44fbb3a",
   "metadata": {},
   "source": [
    "# Исследование надежности заемщиков."
   ]
  },
  {
   "cell_type": "markdown",
   "id": "cf7e341e",
   "metadata": {},
   "source": [
    "# Описание проекта"
   ]
  },
  {
   "cell_type": "markdown",
   "id": "b460c8ef",
   "metadata": {},
   "source": [
    "Заказчик — кредитный отдел банка. Нужно разобраться, влияет ли семейное положение и количество детей клиента на факт погашения кредита в срок. Входные данные от банка — статистика о платёжеспособности клиентов."
   ]
  },
  {
   "cell_type": "markdown",
   "id": "4c7d3878",
   "metadata": {},
   "source": [
    "\n",
    "# Обзор данных"
   ]
  },
  {
   "cell_type": "markdown",
   "id": "21a8ceeb",
   "metadata": {},
   "source": [
    "***Путь к файлу: /datasets/data.csv***\n",
    "\n",
    "-Описание данных:\n",
    "\n",
    "-children — количество детей в семье; \n",
    "\n",
    "-days_employed — общий трудовой стаж в днях;\n",
    "\n",
    "-dob_years — возраст клиента в годах; \n",
    "\n",
    "-education — уровень образования клиента;\n",
    "\n",
    "-education_id — идентификатор уровня образования; \n",
    "\n",
    "-family_status — семейное положение; \n",
    "\n",
    "-family_status_id — идентификатор семейного положения; \n",
    "\n",
    "-gender — пол клиента; \n",
    "\n",
    "-income_type — тип занятости; \n",
    "\n",
    "-debt — имел ли задолженность по возврату кредитов; \n",
    "\n",
    "-total_income — ежемесячный доход -purpose — цель получения кредита;"
   ]
  },
  {
   "cell_type": "code",
   "execution_count": 1,
   "id": "a0f5455d",
   "metadata": {},
   "outputs": [
    {
     "name": "stdout",
     "output_type": "stream",
     "text": [
      "<class 'pandas.core.frame.DataFrame'>\n",
      "RangeIndex: 21525 entries, 0 to 21524\n",
      "Data columns (total 12 columns):\n",
      " #   Column            Non-Null Count  Dtype  \n",
      "---  ------            --------------  -----  \n",
      " 0   children          21525 non-null  int64  \n",
      " 1   days_employed     19351 non-null  float64\n",
      " 2   dob_years         21525 non-null  int64  \n",
      " 3   education         21525 non-null  object \n",
      " 4   education_id      21525 non-null  int64  \n",
      " 5   family_status     21525 non-null  object \n",
      " 6   family_status_id  21525 non-null  int64  \n",
      " 7   gender            21525 non-null  object \n",
      " 8   income_type       21525 non-null  object \n",
      " 9   debt              21525 non-null  int64  \n",
      " 10  total_income      19351 non-null  float64\n",
      " 11  purpose           21525 non-null  object \n",
      "dtypes: float64(2), int64(5), object(5)\n",
      "memory usage: 2.0+ MB\n",
      "None\n"
     ]
    }
   ],
   "source": [
    "import pandas as pd\n",
    "import numpy as np\n",
    "from json import dumps#импортируем библиотеки\n",
    "import seaborn\n",
    "df = pd.read_csv('/datasets/data.csv')\n",
    "print(df.info())"
   ]
  },
  {
   "cell_type": "code",
   "execution_count": 2,
   "id": "2237efd1",
   "metadata": {},
   "outputs": [
    {
     "data": {
      "text/html": [
       "<div>\n",
       "<style scoped>\n",
       "    .dataframe tbody tr th:only-of-type {\n",
       "        vertical-align: middle;\n",
       "    }\n",
       "\n",
       "    .dataframe tbody tr th {\n",
       "        vertical-align: top;\n",
       "    }\n",
       "\n",
       "    .dataframe thead th {\n",
       "        text-align: right;\n",
       "    }\n",
       "</style>\n",
       "<table border=\"1\" class=\"dataframe\">\n",
       "  <thead>\n",
       "    <tr style=\"text-align: right;\">\n",
       "      <th></th>\n",
       "      <th>children</th>\n",
       "      <th>days_employed</th>\n",
       "      <th>dob_years</th>\n",
       "      <th>education_id</th>\n",
       "      <th>family_status_id</th>\n",
       "      <th>debt</th>\n",
       "      <th>total_income</th>\n",
       "    </tr>\n",
       "  </thead>\n",
       "  <tbody>\n",
       "    <tr>\n",
       "      <th>count</th>\n",
       "      <td>21525.000000</td>\n",
       "      <td>19351.000000</td>\n",
       "      <td>21525.000000</td>\n",
       "      <td>21525.000000</td>\n",
       "      <td>21525.000000</td>\n",
       "      <td>21525.000000</td>\n",
       "      <td>1.935100e+04</td>\n",
       "    </tr>\n",
       "    <tr>\n",
       "      <th>mean</th>\n",
       "      <td>0.538908</td>\n",
       "      <td>63046.497661</td>\n",
       "      <td>43.293380</td>\n",
       "      <td>0.817236</td>\n",
       "      <td>0.972544</td>\n",
       "      <td>0.080883</td>\n",
       "      <td>1.674223e+05</td>\n",
       "    </tr>\n",
       "    <tr>\n",
       "      <th>std</th>\n",
       "      <td>1.381587</td>\n",
       "      <td>140827.311974</td>\n",
       "      <td>12.574584</td>\n",
       "      <td>0.548138</td>\n",
       "      <td>1.420324</td>\n",
       "      <td>0.272661</td>\n",
       "      <td>1.029716e+05</td>\n",
       "    </tr>\n",
       "    <tr>\n",
       "      <th>min</th>\n",
       "      <td>-1.000000</td>\n",
       "      <td>-18388.949901</td>\n",
       "      <td>0.000000</td>\n",
       "      <td>0.000000</td>\n",
       "      <td>0.000000</td>\n",
       "      <td>0.000000</td>\n",
       "      <td>2.066726e+04</td>\n",
       "    </tr>\n",
       "    <tr>\n",
       "      <th>25%</th>\n",
       "      <td>0.000000</td>\n",
       "      <td>-2747.423625</td>\n",
       "      <td>33.000000</td>\n",
       "      <td>1.000000</td>\n",
       "      <td>0.000000</td>\n",
       "      <td>0.000000</td>\n",
       "      <td>1.030532e+05</td>\n",
       "    </tr>\n",
       "    <tr>\n",
       "      <th>50%</th>\n",
       "      <td>0.000000</td>\n",
       "      <td>-1203.369529</td>\n",
       "      <td>42.000000</td>\n",
       "      <td>1.000000</td>\n",
       "      <td>0.000000</td>\n",
       "      <td>0.000000</td>\n",
       "      <td>1.450179e+05</td>\n",
       "    </tr>\n",
       "    <tr>\n",
       "      <th>75%</th>\n",
       "      <td>1.000000</td>\n",
       "      <td>-291.095954</td>\n",
       "      <td>53.000000</td>\n",
       "      <td>1.000000</td>\n",
       "      <td>1.000000</td>\n",
       "      <td>0.000000</td>\n",
       "      <td>2.034351e+05</td>\n",
       "    </tr>\n",
       "    <tr>\n",
       "      <th>max</th>\n",
       "      <td>20.000000</td>\n",
       "      <td>401755.400475</td>\n",
       "      <td>75.000000</td>\n",
       "      <td>4.000000</td>\n",
       "      <td>4.000000</td>\n",
       "      <td>1.000000</td>\n",
       "      <td>2.265604e+06</td>\n",
       "    </tr>\n",
       "  </tbody>\n",
       "</table>\n",
       "</div>"
      ],
      "text/plain": [
       "           children  days_employed     dob_years  education_id  \\\n",
       "count  21525.000000   19351.000000  21525.000000  21525.000000   \n",
       "mean       0.538908   63046.497661     43.293380      0.817236   \n",
       "std        1.381587  140827.311974     12.574584      0.548138   \n",
       "min       -1.000000  -18388.949901      0.000000      0.000000   \n",
       "25%        0.000000   -2747.423625     33.000000      1.000000   \n",
       "50%        0.000000   -1203.369529     42.000000      1.000000   \n",
       "75%        1.000000    -291.095954     53.000000      1.000000   \n",
       "max       20.000000  401755.400475     75.000000      4.000000   \n",
       "\n",
       "       family_status_id          debt  total_income  \n",
       "count      21525.000000  21525.000000  1.935100e+04  \n",
       "mean           0.972544      0.080883  1.674223e+05  \n",
       "std            1.420324      0.272661  1.029716e+05  \n",
       "min            0.000000      0.000000  2.066726e+04  \n",
       "25%            0.000000      0.000000  1.030532e+05  \n",
       "50%            0.000000      0.000000  1.450179e+05  \n",
       "75%            1.000000      0.000000  2.034351e+05  \n",
       "max            4.000000      1.000000  2.265604e+06  "
      ]
     },
     "execution_count": 2,
     "metadata": {},
     "output_type": "execute_result"
    }
   ],
   "source": [
    "df.describe()"
   ]
  },
  {
   "cell_type": "code",
   "execution_count": 3,
   "id": "ed49fcc0",
   "metadata": {},
   "outputs": [
    {
     "name": "stdout",
     "output_type": "stream",
     "text": [
      "54\n"
     ]
    }
   ],
   "source": [
    "duplicated_number = df.duplicated().sum()\n",
    "print(duplicated_number)"
   ]
  },
  {
   "cell_type": "code",
   "execution_count": 4,
   "id": "43488b6b",
   "metadata": {},
   "outputs": [
    {
     "name": "stdout",
     "output_type": "stream",
     "text": [
      "children               0\n",
      "days_employed       2174\n",
      "dob_years              0\n",
      "education              0\n",
      "education_id           0\n",
      "family_status          0\n",
      "family_status_id       0\n",
      "gender                 0\n",
      "income_type            0\n",
      "debt                   0\n",
      "total_income        2174\n",
      "purpose                0\n",
      "dtype: int64\n"
     ]
    }
   ],
   "source": [
    "print(df.isna().sum())"
   ]
  },
  {
   "cell_type": "markdown",
   "id": "63f9a745",
   "metadata": {},
   "source": [
    "В общей информации о данных мы можем наблюдать, что обнаружены пропущенные значения в столбце 'total_income'(ежемесячный доход), в таком же количестве как и в 'days_employed'(общий трудовой стаж в днях). Типы данных в данном случае соответсвуют целым числам,вещественным числам и строкам(здесь ничего необычного). Присутствует 54 дубликата. Присутствует отрицательное количество дней в стаже, в ежемесячном доходе дробное число, отрицательные значения в ежемесячном доходе, возвраст равный 0, отрицательное значение в количестве детей и так же 20 детей в семье. В столбце 'days_employed' аномальные отклонения в рабочих днях"
   ]
  },
  {
   "cell_type": "markdown",
   "id": "6a3ca12d",
   "metadata": {},
   "source": [
    "# Заполнение пропусков"
   ]
  },
  {
   "cell_type": "markdown",
   "id": "59c74ec3",
   "metadata": {},
   "source": [
    "Предобработка данных.\n",
    " В двух столбцах есть пропущенные значения. Один из них — days_employed. Пропуски в этом столбце вы обработаете на следующем этапе. Найдите другой столбец и заполните пропущенные значения в нём медианным значением по столбцу:\n",
    "- опишите, какие пропущенные значения вы обнаружили;\n",
    "- проверьте, какую долю составляют пропущенные значения в каждом из столбцов с пропусками;\n",
    "- приведите возможные причины появления пропусков в данных;\n",
    "- объясните, почему заполнить пропуски медианным значением — лучшее решение для количественных переменных."
   ]
  },
  {
   "cell_type": "code",
   "execution_count": 5,
   "id": "ea7b8283",
   "metadata": {},
   "outputs": [],
   "source": [
    "#df['total_income'] = df['total_income'].median()\n",
    "#print(df['total_income'])\n",
    "#нашли медианное значение"
   ]
  },
  {
   "cell_type": "code",
   "execution_count": 6,
   "id": "e3b23962",
   "metadata": {},
   "outputs": [],
   "source": [
    "df['total_income'] = df['total_income'].fillna(145017.937533)#заполним пропуски медианными значениями"
   ]
  },
  {
   "cell_type": "code",
   "execution_count": 7,
   "id": "2a4523bd",
   "metadata": {},
   "outputs": [
    {
     "data": {
      "text/html": [
       "<div>\n",
       "<style scoped>\n",
       "    .dataframe tbody tr th:only-of-type {\n",
       "        vertical-align: middle;\n",
       "    }\n",
       "\n",
       "    .dataframe tbody tr th {\n",
       "        vertical-align: top;\n",
       "    }\n",
       "\n",
       "    .dataframe thead th {\n",
       "        text-align: right;\n",
       "    }\n",
       "</style>\n",
       "<table border=\"1\" class=\"dataframe\">\n",
       "  <thead>\n",
       "    <tr style=\"text-align: right;\">\n",
       "      <th></th>\n",
       "      <th>children</th>\n",
       "      <th>days_employed</th>\n",
       "      <th>dob_years</th>\n",
       "      <th>education_id</th>\n",
       "      <th>family_status_id</th>\n",
       "      <th>debt</th>\n",
       "      <th>total_income</th>\n",
       "    </tr>\n",
       "  </thead>\n",
       "  <tbody>\n",
       "    <tr>\n",
       "      <th>count</th>\n",
       "      <td>21525.000000</td>\n",
       "      <td>19351.000000</td>\n",
       "      <td>21525.000000</td>\n",
       "      <td>21525.000000</td>\n",
       "      <td>21525.000000</td>\n",
       "      <td>21525.000000</td>\n",
       "      <td>2.152500e+04</td>\n",
       "    </tr>\n",
       "    <tr>\n",
       "      <th>mean</th>\n",
       "      <td>0.538908</td>\n",
       "      <td>63046.497661</td>\n",
       "      <td>43.293380</td>\n",
       "      <td>0.817236</td>\n",
       "      <td>0.972544</td>\n",
       "      <td>0.080883</td>\n",
       "      <td>1.651595e+05</td>\n",
       "    </tr>\n",
       "    <tr>\n",
       "      <th>std</th>\n",
       "      <td>1.381587</td>\n",
       "      <td>140827.311974</td>\n",
       "      <td>12.574584</td>\n",
       "      <td>0.548138</td>\n",
       "      <td>1.420324</td>\n",
       "      <td>0.272661</td>\n",
       "      <td>9.786607e+04</td>\n",
       "    </tr>\n",
       "    <tr>\n",
       "      <th>min</th>\n",
       "      <td>-1.000000</td>\n",
       "      <td>-18388.949901</td>\n",
       "      <td>0.000000</td>\n",
       "      <td>0.000000</td>\n",
       "      <td>0.000000</td>\n",
       "      <td>0.000000</td>\n",
       "      <td>2.066726e+04</td>\n",
       "    </tr>\n",
       "    <tr>\n",
       "      <th>25%</th>\n",
       "      <td>0.000000</td>\n",
       "      <td>-2747.423625</td>\n",
       "      <td>33.000000</td>\n",
       "      <td>1.000000</td>\n",
       "      <td>0.000000</td>\n",
       "      <td>0.000000</td>\n",
       "      <td>1.077982e+05</td>\n",
       "    </tr>\n",
       "    <tr>\n",
       "      <th>50%</th>\n",
       "      <td>0.000000</td>\n",
       "      <td>-1203.369529</td>\n",
       "      <td>42.000000</td>\n",
       "      <td>1.000000</td>\n",
       "      <td>0.000000</td>\n",
       "      <td>0.000000</td>\n",
       "      <td>1.450179e+05</td>\n",
       "    </tr>\n",
       "    <tr>\n",
       "      <th>75%</th>\n",
       "      <td>1.000000</td>\n",
       "      <td>-291.095954</td>\n",
       "      <td>53.000000</td>\n",
       "      <td>1.000000</td>\n",
       "      <td>1.000000</td>\n",
       "      <td>0.000000</td>\n",
       "      <td>1.955436e+05</td>\n",
       "    </tr>\n",
       "    <tr>\n",
       "      <th>max</th>\n",
       "      <td>20.000000</td>\n",
       "      <td>401755.400475</td>\n",
       "      <td>75.000000</td>\n",
       "      <td>4.000000</td>\n",
       "      <td>4.000000</td>\n",
       "      <td>1.000000</td>\n",
       "      <td>2.265604e+06</td>\n",
       "    </tr>\n",
       "  </tbody>\n",
       "</table>\n",
       "</div>"
      ],
      "text/plain": [
       "           children  days_employed     dob_years  education_id  \\\n",
       "count  21525.000000   19351.000000  21525.000000  21525.000000   \n",
       "mean       0.538908   63046.497661     43.293380      0.817236   \n",
       "std        1.381587  140827.311974     12.574584      0.548138   \n",
       "min       -1.000000  -18388.949901      0.000000      0.000000   \n",
       "25%        0.000000   -2747.423625     33.000000      1.000000   \n",
       "50%        0.000000   -1203.369529     42.000000      1.000000   \n",
       "75%        1.000000    -291.095954     53.000000      1.000000   \n",
       "max       20.000000  401755.400475     75.000000      4.000000   \n",
       "\n",
       "       family_status_id          debt  total_income  \n",
       "count      21525.000000  21525.000000  2.152500e+04  \n",
       "mean           0.972544      0.080883  1.651595e+05  \n",
       "std            1.420324      0.272661  9.786607e+04  \n",
       "min            0.000000      0.000000  2.066726e+04  \n",
       "25%            0.000000      0.000000  1.077982e+05  \n",
       "50%            0.000000      0.000000  1.450179e+05  \n",
       "75%            1.000000      0.000000  1.955436e+05  \n",
       "max            4.000000      1.000000  2.265604e+06  "
      ]
     },
     "execution_count": 7,
     "metadata": {},
     "output_type": "execute_result"
    }
   ],
   "source": [
    "df.describe()#получилось"
   ]
  },
  {
   "cell_type": "code",
   "execution_count": 8,
   "id": "a17cb4ae",
   "metadata": {},
   "outputs": [
    {
     "data": {
      "text/plain": [
       "10.099883855981417"
      ]
     },
     "execution_count": 8,
     "metadata": {},
     "output_type": "execute_result"
    }
   ],
   "source": [
    "2174 / 21525 * 100"
   ]
  },
  {
   "cell_type": "markdown",
   "id": "4690c263",
   "metadata": {},
   "source": [
    "Всего в таблице 21525 строк со значениями.Пропусков с столбцах 'total_income' и 'days_employed' по 2174, это примерно по 10% в каждом из столбцов. Пропуски в данных столбцах имеют прямую взаимосвязь,либо данные некоректно выгружены, либо люди никогда не работали, либо работали неофициально."
   ]
  },
  {
   "cell_type": "markdown",
   "id": "144b371a",
   "metadata": {},
   "source": [
    "# Проверка данных на аномалии и исправления."
   ]
  },
  {
   "cell_type": "markdown",
   "id": "05fe22ce",
   "metadata": {},
   "source": [
    "В данных могут встречаться артефакты (аномалии) — значения, которые не отражают действительность и появились по какой-то ошибке. Например, отрицательное количество дней трудового стажа в столбце days_employed. Для реальных данных это нормально. Обработайте значения в столбцах с аномалиями и опишите возможные причины появления таких данных. После обработки аномалий заполните пропуски в days_employed медианными значениями по этому столбцу."
   ]
  },
  {
   "cell_type": "code",
   "execution_count": 9,
   "id": "37763826",
   "metadata": {},
   "outputs": [
    {
     "data": {
      "text/html": [
       "<div>\n",
       "<style scoped>\n",
       "    .dataframe tbody tr th:only-of-type {\n",
       "        vertical-align: middle;\n",
       "    }\n",
       "\n",
       "    .dataframe tbody tr th {\n",
       "        vertical-align: top;\n",
       "    }\n",
       "\n",
       "    .dataframe thead th {\n",
       "        text-align: right;\n",
       "    }\n",
       "</style>\n",
       "<table border=\"1\" class=\"dataframe\">\n",
       "  <thead>\n",
       "    <tr style=\"text-align: right;\">\n",
       "      <th></th>\n",
       "      <th>children</th>\n",
       "      <th>days_employed</th>\n",
       "      <th>dob_years</th>\n",
       "      <th>education_id</th>\n",
       "      <th>family_status_id</th>\n",
       "      <th>debt</th>\n",
       "      <th>total_income</th>\n",
       "    </tr>\n",
       "  </thead>\n",
       "  <tbody>\n",
       "    <tr>\n",
       "      <th>count</th>\n",
       "      <td>21525.000000</td>\n",
       "      <td>19351.000000</td>\n",
       "      <td>21525.000000</td>\n",
       "      <td>21525.000000</td>\n",
       "      <td>21525.000000</td>\n",
       "      <td>21525.000000</td>\n",
       "      <td>2.152500e+04</td>\n",
       "    </tr>\n",
       "    <tr>\n",
       "      <th>mean</th>\n",
       "      <td>0.538908</td>\n",
       "      <td>63046.497661</td>\n",
       "      <td>43.293380</td>\n",
       "      <td>0.817236</td>\n",
       "      <td>0.972544</td>\n",
       "      <td>0.080883</td>\n",
       "      <td>1.651595e+05</td>\n",
       "    </tr>\n",
       "    <tr>\n",
       "      <th>std</th>\n",
       "      <td>1.381587</td>\n",
       "      <td>140827.311974</td>\n",
       "      <td>12.574584</td>\n",
       "      <td>0.548138</td>\n",
       "      <td>1.420324</td>\n",
       "      <td>0.272661</td>\n",
       "      <td>9.786607e+04</td>\n",
       "    </tr>\n",
       "    <tr>\n",
       "      <th>min</th>\n",
       "      <td>-1.000000</td>\n",
       "      <td>-18388.949901</td>\n",
       "      <td>0.000000</td>\n",
       "      <td>0.000000</td>\n",
       "      <td>0.000000</td>\n",
       "      <td>0.000000</td>\n",
       "      <td>2.066726e+04</td>\n",
       "    </tr>\n",
       "    <tr>\n",
       "      <th>25%</th>\n",
       "      <td>0.000000</td>\n",
       "      <td>-2747.423625</td>\n",
       "      <td>33.000000</td>\n",
       "      <td>1.000000</td>\n",
       "      <td>0.000000</td>\n",
       "      <td>0.000000</td>\n",
       "      <td>1.077982e+05</td>\n",
       "    </tr>\n",
       "    <tr>\n",
       "      <th>50%</th>\n",
       "      <td>0.000000</td>\n",
       "      <td>-1203.369529</td>\n",
       "      <td>42.000000</td>\n",
       "      <td>1.000000</td>\n",
       "      <td>0.000000</td>\n",
       "      <td>0.000000</td>\n",
       "      <td>1.450179e+05</td>\n",
       "    </tr>\n",
       "    <tr>\n",
       "      <th>75%</th>\n",
       "      <td>1.000000</td>\n",
       "      <td>-291.095954</td>\n",
       "      <td>53.000000</td>\n",
       "      <td>1.000000</td>\n",
       "      <td>1.000000</td>\n",
       "      <td>0.000000</td>\n",
       "      <td>1.955436e+05</td>\n",
       "    </tr>\n",
       "    <tr>\n",
       "      <th>max</th>\n",
       "      <td>20.000000</td>\n",
       "      <td>401755.400475</td>\n",
       "      <td>75.000000</td>\n",
       "      <td>4.000000</td>\n",
       "      <td>4.000000</td>\n",
       "      <td>1.000000</td>\n",
       "      <td>2.265604e+06</td>\n",
       "    </tr>\n",
       "  </tbody>\n",
       "</table>\n",
       "</div>"
      ],
      "text/plain": [
       "           children  days_employed     dob_years  education_id  \\\n",
       "count  21525.000000   19351.000000  21525.000000  21525.000000   \n",
       "mean       0.538908   63046.497661     43.293380      0.817236   \n",
       "std        1.381587  140827.311974     12.574584      0.548138   \n",
       "min       -1.000000  -18388.949901      0.000000      0.000000   \n",
       "25%        0.000000   -2747.423625     33.000000      1.000000   \n",
       "50%        0.000000   -1203.369529     42.000000      1.000000   \n",
       "75%        1.000000    -291.095954     53.000000      1.000000   \n",
       "max       20.000000  401755.400475     75.000000      4.000000   \n",
       "\n",
       "       family_status_id          debt  total_income  \n",
       "count      21525.000000  21525.000000  2.152500e+04  \n",
       "mean           0.972544      0.080883  1.651595e+05  \n",
       "std            1.420324      0.272661  9.786607e+04  \n",
       "min            0.000000      0.000000  2.066726e+04  \n",
       "25%            0.000000      0.000000  1.077982e+05  \n",
       "50%            0.000000      0.000000  1.450179e+05  \n",
       "75%            1.000000      0.000000  1.955436e+05  \n",
       "max            4.000000      1.000000  2.265604e+06  "
      ]
     },
     "execution_count": 9,
     "metadata": {},
     "output_type": "execute_result"
    }
   ],
   "source": [
    "df.describe()#посмотрим в каком количестве значения в столбце 'children' "
   ]
  },
  {
   "cell_type": "code",
   "execution_count": 10,
   "id": "33b6dd8c",
   "metadata": {},
   "outputs": [
    {
     "data": {
      "text/plain": [
       " 0     14149\n",
       " 1      4818\n",
       " 2      2055\n",
       " 3       330\n",
       " 20       76\n",
       "-1        47\n",
       " 4        41\n",
       " 5         9\n",
       "Name: children, dtype: int64"
      ]
     },
     "execution_count": 10,
     "metadata": {},
     "output_type": "execute_result"
    }
   ],
   "source": [
    "df['children'].value_counts()#заменим не правдоподобные значения (-1 на 1, 20 на 2)"
   ]
  },
  {
   "cell_type": "code",
   "execution_count": 11,
   "id": "ee4e9058",
   "metadata": {},
   "outputs": [],
   "source": [
    "df['children'] = df['children'].replace(-1, 1)"
   ]
  },
  {
   "cell_type": "code",
   "execution_count": 12,
   "id": "53df55de",
   "metadata": {},
   "outputs": [],
   "source": [
    "df['children'] = df['children'].replace(20, 2)"
   ]
  },
  {
   "cell_type": "code",
   "execution_count": 13,
   "id": "444e0221",
   "metadata": {},
   "outputs": [
    {
     "data": {
      "text/plain": [
       "0    14149\n",
       "1     4865\n",
       "2     2131\n",
       "3      330\n",
       "4       41\n",
       "5        9\n",
       "Name: children, dtype: int64"
      ]
     },
     "execution_count": 13,
     "metadata": {},
     "output_type": "execute_result"
    }
   ],
   "source": [
    "df['children'].value_counts()#проверим замену"
   ]
  },
  {
   "cell_type": "code",
   "execution_count": 14,
   "id": "592c8359",
   "metadata": {},
   "outputs": [
    {
     "data": {
      "text/plain": [
       "array([1, 0, 3, 2, 4, 5])"
      ]
     },
     "execution_count": 14,
     "metadata": {},
     "output_type": "execute_result"
    }
   ],
   "source": [
    "df['children'].unique()#теперь выглядит правдоподобно"
   ]
  },
  {
   "cell_type": "code",
   "execution_count": 15,
   "id": "c2c834cd",
   "metadata": {},
   "outputs": [
    {
     "data": {
      "text/plain": [
       "35    617\n",
       "40    609\n",
       "41    607\n",
       "34    603\n",
       "38    598\n",
       "42    597\n",
       "33    581\n",
       "39    573\n",
       "31    560\n",
       "36    555\n",
       "44    547\n",
       "29    545\n",
       "30    540\n",
       "48    538\n",
       "37    537\n",
       "50    514\n",
       "43    513\n",
       "32    510\n",
       "49    508\n",
       "28    503\n",
       "45    497\n",
       "27    493\n",
       "56    487\n",
       "52    484\n",
       "47    480\n",
       "54    479\n",
       "46    475\n",
       "58    461\n",
       "57    460\n",
       "53    459\n",
       "51    448\n",
       "59    444\n",
       "55    443\n",
       "26    408\n",
       "60    377\n",
       "25    357\n",
       "61    355\n",
       "62    352\n",
       "63    269\n",
       "64    265\n",
       "24    264\n",
       "23    254\n",
       "65    194\n",
       "66    183\n",
       "22    183\n",
       "67    167\n",
       "21    111\n",
       "0     101\n",
       "68     99\n",
       "69     85\n",
       "70     65\n",
       "71     58\n",
       "20     51\n",
       "72     33\n",
       "19     14\n",
       "73      8\n",
       "74      6\n",
       "75      1\n",
       "Name: dob_years, dtype: int64"
      ]
     },
     "execution_count": 15,
     "metadata": {},
     "output_type": "execute_result"
    }
   ],
   "source": [
    "df['dob_years'].value_counts()\n",
    "#смотрим что с возврастом, есть 101 значение с возврастом 0"
   ]
  },
  {
   "cell_type": "code",
   "execution_count": 16,
   "id": "ae83f437",
   "metadata": {},
   "outputs": [
    {
     "data": {
      "text/plain": [
       "среднее                13750\n",
       "высшее                  4718\n",
       "СРЕДНЕЕ                  772\n",
       "Среднее                  711\n",
       "неоконченное высшее      668\n",
       "ВЫСШЕЕ                   274\n",
       "Высшее                   268\n",
       "начальное                250\n",
       "Неоконченное высшее       47\n",
       "НЕОКОНЧЕННОЕ ВЫСШЕЕ       29\n",
       "НАЧАЛЬНОЕ                 17\n",
       "Начальное                 15\n",
       "ученая степень             4\n",
       "УЧЕНАЯ СТЕПЕНЬ             1\n",
       "Ученая степень             1\n",
       "Name: education, dtype: int64"
      ]
     },
     "execution_count": 16,
     "metadata": {},
     "output_type": "execute_result"
    }
   ],
   "source": [
    "df['education'].value_counts()#есть неявные дубликаты в названии образования"
   ]
  },
  {
   "cell_type": "code",
   "execution_count": 17,
   "id": "462459aa",
   "metadata": {},
   "outputs": [],
   "source": [
    "#приведем строки в нижнему регистру\n",
    "df['education'] = df['education'].str.lower()"
   ]
  },
  {
   "cell_type": "code",
   "execution_count": 18,
   "id": "60e4783e",
   "metadata": {},
   "outputs": [
    {
     "data": {
      "text/plain": [
       "среднее                15233\n",
       "высшее                  5260\n",
       "неоконченное высшее      744\n",
       "начальное                282\n",
       "ученая степень             6\n",
       "Name: education, dtype: int64"
      ]
     },
     "execution_count": 18,
     "metadata": {},
     "output_type": "execute_result"
    }
   ],
   "source": [
    "df['education'].value_counts()#теперь намного лучше"
   ]
  },
  {
   "cell_type": "code",
   "execution_count": 19,
   "id": "629262e0",
   "metadata": {},
   "outputs": [
    {
     "data": {
      "text/plain": [
       "array([0, 1, 2, 3, 4])"
      ]
     },
     "execution_count": 19,
     "metadata": {},
     "output_type": "execute_result"
    }
   ],
   "source": [
    "df['education_id'].unique()#проверим идентификатор уровня образования на уникальные значения"
   ]
  },
  {
   "cell_type": "code",
   "execution_count": 20,
   "id": "b522f892",
   "metadata": {},
   "outputs": [
    {
     "data": {
      "text/plain": [
       "женат / замужем          12380\n",
       "гражданский брак          4177\n",
       "Не женат / не замужем     2813\n",
       "в разводе                 1195\n",
       "вдовец / вдова             960\n",
       "Name: family_status, dtype: int64"
      ]
     },
     "execution_count": 20,
     "metadata": {},
     "output_type": "execute_result"
    }
   ],
   "source": [
    "df['family_status'].value_counts()"
   ]
  },
  {
   "cell_type": "code",
   "execution_count": 21,
   "id": "8da7e156",
   "metadata": {},
   "outputs": [],
   "source": [
    "#приведем к нижнему регистру\n",
    "df['family_status'] = df['family_status'].str.lower()"
   ]
  },
  {
   "cell_type": "code",
   "execution_count": 22,
   "id": "3005fd57",
   "metadata": {},
   "outputs": [
    {
     "data": {
      "text/plain": [
       "женат / замужем          12380\n",
       "гражданский брак          4177\n",
       "не женат / не замужем     2813\n",
       "в разводе                 1195\n",
       "вдовец / вдова             960\n",
       "Name: family_status, dtype: int64"
      ]
     },
     "execution_count": 22,
     "metadata": {},
     "output_type": "execute_result"
    }
   ],
   "source": [
    "df['family_status'].value_counts()#проверим"
   ]
  },
  {
   "cell_type": "code",
   "execution_count": 23,
   "id": "64f19e89",
   "metadata": {},
   "outputs": [
    {
     "data": {
      "text/plain": [
       "array([0, 1, 2, 3, 4])"
      ]
     },
     "execution_count": 23,
     "metadata": {},
     "output_type": "execute_result"
    }
   ],
   "source": [
    "df['family_status_id'].unique()"
   ]
  },
  {
   "cell_type": "code",
   "execution_count": 24,
   "id": "c7c48ad7",
   "metadata": {},
   "outputs": [
    {
     "data": {
      "text/plain": [
       "F      14236\n",
       "M       7288\n",
       "XNA        1\n",
       "Name: gender, dtype: int64"
      ]
     },
     "execution_count": 24,
     "metadata": {},
     "output_type": "execute_result"
    }
   ],
   "source": [
    "df['gender'].value_counts()#посмотрим пол"
   ]
  },
  {
   "cell_type": "code",
   "execution_count": 25,
   "id": "0e05c87e",
   "metadata": {},
   "outputs": [
    {
     "data": {
      "text/plain": [
       "сотрудник          11119\n",
       "компаньон           5085\n",
       "пенсионер           3856\n",
       "госслужащий         1459\n",
       "предприниматель        2\n",
       "безработный            2\n",
       "студент                1\n",
       "в декрете              1\n",
       "Name: income_type, dtype: int64"
      ]
     },
     "execution_count": 25,
     "metadata": {},
     "output_type": "execute_result"
    }
   ],
   "source": [
    "df['income_type'].value_counts()#здесь все в порядке"
   ]
  },
  {
   "cell_type": "code",
   "execution_count": 26,
   "id": "dd0238b3",
   "metadata": {},
   "outputs": [
    {
     "data": {
      "text/plain": [
       "0    19784\n",
       "1     1741\n",
       "Name: debt, dtype: int64"
      ]
     },
     "execution_count": 26,
     "metadata": {},
     "output_type": "execute_result"
    }
   ],
   "source": [
    "df['debt'].value_counts()#с задолжностями тоже все в порядке"
   ]
  },
  {
   "cell_type": "code",
   "execution_count": 27,
   "id": "98fc2f66",
   "metadata": {},
   "outputs": [
    {
     "data": {
      "text/plain": [
       "count    2.152500e+04\n",
       "mean     1.651595e+05\n",
       "std      9.786607e+04\n",
       "min      2.066726e+04\n",
       "25%      1.077982e+05\n",
       "50%      1.450179e+05\n",
       "75%      1.955436e+05\n",
       "max      2.265604e+06\n",
       "Name: total_income, dtype: float64"
      ]
     },
     "execution_count": 27,
     "metadata": {},
     "output_type": "execute_result"
    }
   ],
   "source": [
    "df['total_income'].describe()"
   ]
  },
  {
   "cell_type": "code",
   "execution_count": 28,
   "id": "85e499f0",
   "metadata": {},
   "outputs": [],
   "source": [
    "#приведем ежемесячные доходы к целому числу,что бы было наглядно понятно и логично\n",
    "df['total_income'] = df['total_income'].astype(int)"
   ]
  },
  {
   "cell_type": "code",
   "execution_count": 29,
   "id": "368fd204",
   "metadata": {},
   "outputs": [
    {
     "data": {
      "text/html": [
       "<div>\n",
       "<style scoped>\n",
       "    .dataframe tbody tr th:only-of-type {\n",
       "        vertical-align: middle;\n",
       "    }\n",
       "\n",
       "    .dataframe tbody tr th {\n",
       "        vertical-align: top;\n",
       "    }\n",
       "\n",
       "    .dataframe thead th {\n",
       "        text-align: right;\n",
       "    }\n",
       "</style>\n",
       "<table border=\"1\" class=\"dataframe\">\n",
       "  <thead>\n",
       "    <tr style=\"text-align: right;\">\n",
       "      <th></th>\n",
       "      <th>children</th>\n",
       "      <th>days_employed</th>\n",
       "      <th>dob_years</th>\n",
       "      <th>education</th>\n",
       "      <th>education_id</th>\n",
       "      <th>family_status</th>\n",
       "      <th>family_status_id</th>\n",
       "      <th>gender</th>\n",
       "      <th>income_type</th>\n",
       "      <th>debt</th>\n",
       "      <th>total_income</th>\n",
       "      <th>purpose</th>\n",
       "    </tr>\n",
       "  </thead>\n",
       "  <tbody>\n",
       "    <tr>\n",
       "      <th>0</th>\n",
       "      <td>1</td>\n",
       "      <td>-8437.673028</td>\n",
       "      <td>42</td>\n",
       "      <td>высшее</td>\n",
       "      <td>0</td>\n",
       "      <td>женат / замужем</td>\n",
       "      <td>0</td>\n",
       "      <td>F</td>\n",
       "      <td>сотрудник</td>\n",
       "      <td>0</td>\n",
       "      <td>253875</td>\n",
       "      <td>покупка жилья</td>\n",
       "    </tr>\n",
       "    <tr>\n",
       "      <th>1</th>\n",
       "      <td>1</td>\n",
       "      <td>-4024.803754</td>\n",
       "      <td>36</td>\n",
       "      <td>среднее</td>\n",
       "      <td>1</td>\n",
       "      <td>женат / замужем</td>\n",
       "      <td>0</td>\n",
       "      <td>F</td>\n",
       "      <td>сотрудник</td>\n",
       "      <td>0</td>\n",
       "      <td>112080</td>\n",
       "      <td>приобретение автомобиля</td>\n",
       "    </tr>\n",
       "    <tr>\n",
       "      <th>2</th>\n",
       "      <td>0</td>\n",
       "      <td>-5623.422610</td>\n",
       "      <td>33</td>\n",
       "      <td>среднее</td>\n",
       "      <td>1</td>\n",
       "      <td>женат / замужем</td>\n",
       "      <td>0</td>\n",
       "      <td>M</td>\n",
       "      <td>сотрудник</td>\n",
       "      <td>0</td>\n",
       "      <td>145885</td>\n",
       "      <td>покупка жилья</td>\n",
       "    </tr>\n",
       "    <tr>\n",
       "      <th>3</th>\n",
       "      <td>3</td>\n",
       "      <td>-4124.747207</td>\n",
       "      <td>32</td>\n",
       "      <td>среднее</td>\n",
       "      <td>1</td>\n",
       "      <td>женат / замужем</td>\n",
       "      <td>0</td>\n",
       "      <td>M</td>\n",
       "      <td>сотрудник</td>\n",
       "      <td>0</td>\n",
       "      <td>267628</td>\n",
       "      <td>дополнительное образование</td>\n",
       "    </tr>\n",
       "    <tr>\n",
       "      <th>4</th>\n",
       "      <td>0</td>\n",
       "      <td>340266.072047</td>\n",
       "      <td>53</td>\n",
       "      <td>среднее</td>\n",
       "      <td>1</td>\n",
       "      <td>гражданский брак</td>\n",
       "      <td>1</td>\n",
       "      <td>F</td>\n",
       "      <td>пенсионер</td>\n",
       "      <td>0</td>\n",
       "      <td>158616</td>\n",
       "      <td>сыграть свадьбу</td>\n",
       "    </tr>\n",
       "  </tbody>\n",
       "</table>\n",
       "</div>"
      ],
      "text/plain": [
       "   children  days_employed  dob_years education  education_id  \\\n",
       "0         1   -8437.673028         42    высшее             0   \n",
       "1         1   -4024.803754         36   среднее             1   \n",
       "2         0   -5623.422610         33   среднее             1   \n",
       "3         3   -4124.747207         32   среднее             1   \n",
       "4         0  340266.072047         53   среднее             1   \n",
       "\n",
       "      family_status  family_status_id gender income_type  debt  total_income  \\\n",
       "0   женат / замужем                 0      F   сотрудник     0        253875   \n",
       "1   женат / замужем                 0      F   сотрудник     0        112080   \n",
       "2   женат / замужем                 0      M   сотрудник     0        145885   \n",
       "3   женат / замужем                 0      M   сотрудник     0        267628   \n",
       "4  гражданский брак                 1      F   пенсионер     0        158616   \n",
       "\n",
       "                      purpose  \n",
       "0               покупка жилья  \n",
       "1     приобретение автомобиля  \n",
       "2               покупка жилья  \n",
       "3  дополнительное образование  \n",
       "4             сыграть свадьбу  "
      ]
     },
     "execution_count": 29,
     "metadata": {},
     "output_type": "execute_result"
    }
   ],
   "source": [
    "df.head()#проверим"
   ]
  },
  {
   "cell_type": "code",
   "execution_count": 30,
   "id": "97df52b6",
   "metadata": {},
   "outputs": [
    {
     "data": {
      "text/plain": [
       "свадьба                                   797\n",
       "на проведение свадьбы                     777\n",
       "сыграть свадьбу                           774\n",
       "операции с недвижимостью                  676\n",
       "покупка коммерческой недвижимости         664\n",
       "операции с жильем                         653\n",
       "покупка жилья для сдачи                   653\n",
       "операции с коммерческой недвижимостью     651\n",
       "покупка жилья                             647\n",
       "жилье                                     647\n",
       "покупка жилья для семьи                   641\n",
       "строительство собственной недвижимости    635\n",
       "недвижимость                              634\n",
       "операции со своей недвижимостью           630\n",
       "строительство жилой недвижимости          626\n",
       "покупка недвижимости                      624\n",
       "строительство недвижимости                620\n",
       "покупка своего жилья                      620\n",
       "ремонт жилью                              612\n",
       "покупка жилой недвижимости                607\n",
       "на покупку своего автомобиля              505\n",
       "заняться высшим образованием              496\n",
       "автомобиль                                495\n",
       "сделка с подержанным автомобилем          489\n",
       "свой автомобиль                           480\n",
       "на покупку подержанного автомобиля        479\n",
       "автомобили                                478\n",
       "на покупку автомобиля                     472\n",
       "дополнительное образование                462\n",
       "приобретение автомобиля                   462\n",
       "сделка с автомобилем                      455\n",
       "высшее образование                        453\n",
       "получение дополнительного образования     447\n",
       "образование                               447\n",
       "получение образования                     443\n",
       "профильное образование                    436\n",
       "получение высшего образования             426\n",
       "заняться образованием                     412\n",
       "Name: purpose, dtype: int64"
      ]
     },
     "execution_count": 30,
     "metadata": {},
     "output_type": "execute_result"
    }
   ],
   "source": [
    "df['purpose'].value_counts()"
   ]
  },
  {
   "cell_type": "code",
   "execution_count": 31,
   "id": "d46f20c8",
   "metadata": {},
   "outputs": [
    {
     "data": {
      "text/plain": [
       "count     19351.000000\n",
       "mean      63046.497661\n",
       "std      140827.311974\n",
       "min      -18388.949901\n",
       "25%       -2747.423625\n",
       "50%       -1203.369529\n",
       "75%        -291.095954\n",
       "max      401755.400475\n",
       "Name: days_employed, dtype: float64"
      ]
     },
     "execution_count": 31,
     "metadata": {},
     "output_type": "execute_result"
    }
   ],
   "source": [
    "df['days_employed'].describe()#есть минусовые и нулевое значения,\n",
    "#в трудовом стаже в днях, для начала избавимся от отрицательных значений"
   ]
  },
  {
   "cell_type": "code",
   "execution_count": 32,
   "id": "5be1fef7",
   "metadata": {},
   "outputs": [],
   "source": [
    "df['days_employed'] = df['days_employed'].abs()"
   ]
  },
  {
   "cell_type": "code",
   "execution_count": 33,
   "id": "14cc8be4",
   "metadata": {},
   "outputs": [
    {
     "data": {
      "text/plain": [
       "count     19351.000000\n",
       "mean      66914.728907\n",
       "std      139030.880527\n",
       "min          24.141633\n",
       "25%         927.009265\n",
       "50%        2194.220567\n",
       "75%        5537.882441\n",
       "max      401755.400475\n",
       "Name: days_employed, dtype: float64"
      ]
     },
     "execution_count": 33,
     "metadata": {},
     "output_type": "execute_result"
    }
   ],
   "source": [
    "df['days_employed'].describe()#отрицательные значения теперь положительные, но неправдоподобные некоторые из них"
   ]
  },
  {
   "cell_type": "code",
   "execution_count": 34,
   "id": "a6d4d853",
   "metadata": {},
   "outputs": [
    {
     "name": "stdout",
     "output_type": "stream",
     "text": [
      "21535\n"
     ]
    }
   ],
   "source": [
    "#посмотрим сколько в годах будет максимальное значения дней,если к примеру сотрудник работал с 16 лет\n",
    "max_days_employed = (df['dob_years'].max() - 16) * 365\n",
    "print(max_days_employed)"
   ]
  },
  {
   "cell_type": "code",
   "execution_count": 35,
   "id": "eb4030f2",
   "metadata": {},
   "outputs": [],
   "source": [
    "#df['days_employed'] = df['days_employed'].median()\n",
    "#print(df['days_employed'])\n",
    "#нашли медиану"
   ]
  },
  {
   "cell_type": "code",
   "execution_count": 36,
   "id": "3da64e5c",
   "metadata": {},
   "outputs": [],
   "source": [
    "df['days_employed'] = df['days_employed'].fillna(1203.369529)#заполним пропуски медианными значениями"
   ]
  },
  {
   "cell_type": "code",
   "execution_count": 37,
   "id": "8a48ce44",
   "metadata": {},
   "outputs": [
    {
     "data": {
      "text/html": [
       "<div>\n",
       "<style scoped>\n",
       "    .dataframe tbody tr th:only-of-type {\n",
       "        vertical-align: middle;\n",
       "    }\n",
       "\n",
       "    .dataframe tbody tr th {\n",
       "        vertical-align: top;\n",
       "    }\n",
       "\n",
       "    .dataframe thead th {\n",
       "        text-align: right;\n",
       "    }\n",
       "</style>\n",
       "<table border=\"1\" class=\"dataframe\">\n",
       "  <thead>\n",
       "    <tr style=\"text-align: right;\">\n",
       "      <th></th>\n",
       "      <th>children</th>\n",
       "      <th>days_employed</th>\n",
       "      <th>dob_years</th>\n",
       "      <th>education_id</th>\n",
       "      <th>family_status_id</th>\n",
       "      <th>debt</th>\n",
       "      <th>total_income</th>\n",
       "    </tr>\n",
       "  </thead>\n",
       "  <tbody>\n",
       "    <tr>\n",
       "      <th>count</th>\n",
       "      <td>21525.000000</td>\n",
       "      <td>21525.000000</td>\n",
       "      <td>21525.000000</td>\n",
       "      <td>21525.000000</td>\n",
       "      <td>21525.000000</td>\n",
       "      <td>21525.000000</td>\n",
       "      <td>2.152500e+04</td>\n",
       "    </tr>\n",
       "    <tr>\n",
       "      <th>mean</th>\n",
       "      <td>0.479721</td>\n",
       "      <td>60277.957929</td>\n",
       "      <td>43.293380</td>\n",
       "      <td>0.817236</td>\n",
       "      <td>0.972544</td>\n",
       "      <td>0.080883</td>\n",
       "      <td>1.651589e+05</td>\n",
       "    </tr>\n",
       "    <tr>\n",
       "      <th>std</th>\n",
       "      <td>0.755528</td>\n",
       "      <td>133301.583103</td>\n",
       "      <td>12.574584</td>\n",
       "      <td>0.548138</td>\n",
       "      <td>1.420324</td>\n",
       "      <td>0.272661</td>\n",
       "      <td>9.786608e+04</td>\n",
       "    </tr>\n",
       "    <tr>\n",
       "      <th>min</th>\n",
       "      <td>0.000000</td>\n",
       "      <td>24.141633</td>\n",
       "      <td>0.000000</td>\n",
       "      <td>0.000000</td>\n",
       "      <td>0.000000</td>\n",
       "      <td>0.000000</td>\n",
       "      <td>2.066700e+04</td>\n",
       "    </tr>\n",
       "    <tr>\n",
       "      <th>25%</th>\n",
       "      <td>0.000000</td>\n",
       "      <td>1025.608174</td>\n",
       "      <td>33.000000</td>\n",
       "      <td>1.000000</td>\n",
       "      <td>0.000000</td>\n",
       "      <td>0.000000</td>\n",
       "      <td>1.077980e+05</td>\n",
       "    </tr>\n",
       "    <tr>\n",
       "      <th>50%</th>\n",
       "      <td>0.000000</td>\n",
       "      <td>1808.053434</td>\n",
       "      <td>42.000000</td>\n",
       "      <td>1.000000</td>\n",
       "      <td>0.000000</td>\n",
       "      <td>0.000000</td>\n",
       "      <td>1.450170e+05</td>\n",
       "    </tr>\n",
       "    <tr>\n",
       "      <th>75%</th>\n",
       "      <td>1.000000</td>\n",
       "      <td>4779.587738</td>\n",
       "      <td>53.000000</td>\n",
       "      <td>1.000000</td>\n",
       "      <td>1.000000</td>\n",
       "      <td>0.000000</td>\n",
       "      <td>1.955430e+05</td>\n",
       "    </tr>\n",
       "    <tr>\n",
       "      <th>max</th>\n",
       "      <td>5.000000</td>\n",
       "      <td>401755.400475</td>\n",
       "      <td>75.000000</td>\n",
       "      <td>4.000000</td>\n",
       "      <td>4.000000</td>\n",
       "      <td>1.000000</td>\n",
       "      <td>2.265604e+06</td>\n",
       "    </tr>\n",
       "  </tbody>\n",
       "</table>\n",
       "</div>"
      ],
      "text/plain": [
       "           children  days_employed     dob_years  education_id  \\\n",
       "count  21525.000000   21525.000000  21525.000000  21525.000000   \n",
       "mean       0.479721   60277.957929     43.293380      0.817236   \n",
       "std        0.755528  133301.583103     12.574584      0.548138   \n",
       "min        0.000000      24.141633      0.000000      0.000000   \n",
       "25%        0.000000    1025.608174     33.000000      1.000000   \n",
       "50%        0.000000    1808.053434     42.000000      1.000000   \n",
       "75%        1.000000    4779.587738     53.000000      1.000000   \n",
       "max        5.000000  401755.400475     75.000000      4.000000   \n",
       "\n",
       "       family_status_id          debt  total_income  \n",
       "count      21525.000000  21525.000000  2.152500e+04  \n",
       "mean           0.972544      0.080883  1.651589e+05  \n",
       "std            1.420324      0.272661  9.786608e+04  \n",
       "min            0.000000      0.000000  2.066700e+04  \n",
       "25%            0.000000      0.000000  1.077980e+05  \n",
       "50%            0.000000      0.000000  1.450170e+05  \n",
       "75%            1.000000      0.000000  1.955430e+05  \n",
       "max            4.000000      1.000000  2.265604e+06  "
      ]
     },
     "execution_count": 37,
     "metadata": {},
     "output_type": "execute_result"
    }
   ],
   "source": [
    "df.describe()"
   ]
  },
  {
   "cell_type": "code",
   "execution_count": 38,
   "id": "79ac6768",
   "metadata": {},
   "outputs": [
    {
     "data": {
      "text/plain": [
       "children            0\n",
       "days_employed       0\n",
       "dob_years           0\n",
       "education           0\n",
       "education_id        0\n",
       "family_status       0\n",
       "family_status_id    0\n",
       "gender              0\n",
       "income_type         0\n",
       "debt                0\n",
       "total_income        0\n",
       "purpose             0\n",
       "dtype: int64"
      ]
     },
     "execution_count": 38,
     "metadata": {},
     "output_type": "execute_result"
    }
   ],
   "source": [
    "df.isnull().sum()#проверим еще раз на пропуски"
   ]
  },
  {
   "cell_type": "markdown",
   "id": "288a26d5",
   "metadata": {},
   "source": [
    "#  Удаление дубликатов.\n"
   ]
  },
  {
   "cell_type": "markdown",
   "id": "2700951e",
   "metadata": {},
   "source": [
    "Если в данных присутствуют строки-дубликаты, удалите их. Также обработайте неявные дубликаты. Например, в столбце education есть одни и те же значения, но записанные по-разному: с использованием заглавных и строчных букв. Приведите их к одному регистру. Проверьте остальные столбцы.\n",
    "После удаления дубликатов сделайте следующее:\n",
    "поясните, как выбирали метод для поиска и удаления дубликатов в данных;\n",
    "приведите возможные причины появления дубликатов."
   ]
  },
  {
   "cell_type": "code",
   "execution_count": 39,
   "id": "ec715087",
   "metadata": {},
   "outputs": [],
   "source": [
    "df = df.drop_duplicates().reset_index(drop = True)#метод удаляет дубликаты, изменяет индексы и удаляет старые\n",
    "#возможно дубликаты появились из-за сбоя в системе, либо их повторно вносили и не проверили на дубликаты"
   ]
  },
  {
   "cell_type": "code",
   "execution_count": 40,
   "id": "08fa703d",
   "metadata": {},
   "outputs": [
    {
     "name": "stdout",
     "output_type": "stream",
     "text": [
      "0\n"
     ]
    }
   ],
   "source": [
    "print(df.duplicated().sum())#проверка на дубликаты"
   ]
  },
  {
   "cell_type": "code",
   "execution_count": 41,
   "id": "ccbd2a07",
   "metadata": {},
   "outputs": [
    {
     "name": "stdout",
     "output_type": "stream",
     "text": [
      "0    14091\n",
      "1     4855\n",
      "2     2128\n",
      "3      330\n",
      "4       41\n",
      "5        9\n",
      "Name: children, dtype: int64\n"
     ]
    }
   ],
   "source": [
    "print(df['children'].value_counts())"
   ]
  },
  {
   "cell_type": "markdown",
   "id": "6ce90b33",
   "metadata": {},
   "source": [
    "# Формирование дополнительных датафреймов словарей, декомпозиция исходного датафрейма."
   ]
  },
  {
   "cell_type": "markdown",
   "id": "3e63d019",
   "metadata": {},
   "source": [
    "Создайте два новых датафрейма, в которых:\n",
    "каждому уникальному значению из education соответствует уникальное значение education_id — в первом;\n",
    "каждому уникальному значению из family_status соответствует уникальное значение family_status_id — во втором.\n",
    "Удалите из исходного датафрейма столбцы education и family_status, оставив только их идентификаторы: education_id и family_status_id. Новые датафреймы — это те самые «словари» (не путайте с одноимённой структурой данных в Python), к которым вы сможете обращаться по идентификатору."
   ]
  },
  {
   "cell_type": "code",
   "execution_count": 42,
   "id": "c543d1be",
   "metadata": {},
   "outputs": [
    {
     "name": "stdout",
     "output_type": "stream",
     "text": [
      "      education  education_id\n",
      "0        высшее             0\n",
      "1       среднее             1\n",
      "2       среднее             1\n",
      "3       среднее             1\n",
      "4       среднее             1\n",
      "...         ...           ...\n",
      "21449   среднее             1\n",
      "21450   среднее             1\n",
      "21451   среднее             1\n",
      "21452   среднее             1\n",
      "21453   среднее             1\n",
      "\n",
      "[21454 rows x 2 columns]\n"
     ]
    }
   ],
   "source": [
    "education_new = df[['education','education_id']]#создали новый датасет\n",
    "print(education_new)"
   ]
  },
  {
   "cell_type": "code",
   "execution_count": 43,
   "id": "cbbc5903",
   "metadata": {},
   "outputs": [],
   "source": [
    "del df['education']#удалили столбец"
   ]
  },
  {
   "cell_type": "code",
   "execution_count": 44,
   "id": "ad1ad002",
   "metadata": {},
   "outputs": [
    {
     "name": "stdout",
     "output_type": "stream",
     "text": [
      "   children  days_employed  dob_years  education_id     family_status  \\\n",
      "0         1    8437.673028         42             0   женат / замужем   \n",
      "1         1    4024.803754         36             1   женат / замужем   \n",
      "2         0    5623.422610         33             1   женат / замужем   \n",
      "3         3    4124.747207         32             1   женат / замужем   \n",
      "4         0  340266.072047         53             1  гражданский брак   \n",
      "5         0     926.185831         27             0  гражданский брак   \n",
      "6         0    2879.202052         43             0   женат / замужем   \n",
      "7         0     152.779569         50             1   женат / замужем   \n",
      "8         2    6929.865299         35             0  гражданский брак   \n",
      "9         0    2188.756445         41             1   женат / замужем   \n",
      "\n",
      "   family_status_id gender income_type  debt  total_income  \\\n",
      "0                 0      F   сотрудник     0        253875   \n",
      "1                 0      F   сотрудник     0        112080   \n",
      "2                 0      M   сотрудник     0        145885   \n",
      "3                 0      M   сотрудник     0        267628   \n",
      "4                 1      F   пенсионер     0        158616   \n",
      "5                 1      M   компаньон     0        255763   \n",
      "6                 0      F   компаньон     0        240525   \n",
      "7                 0      M   сотрудник     0        135823   \n",
      "8                 1      F   сотрудник     0         95856   \n",
      "9                 0      M   сотрудник     0        144425   \n",
      "\n",
      "                      purpose  \n",
      "0               покупка жилья  \n",
      "1     приобретение автомобиля  \n",
      "2               покупка жилья  \n",
      "3  дополнительное образование  \n",
      "4             сыграть свадьбу  \n",
      "5               покупка жилья  \n",
      "6           операции с жильем  \n",
      "7                 образование  \n",
      "8       на проведение свадьбы  \n",
      "9     покупка жилья для семьи  \n"
     ]
    }
   ],
   "source": [
    "print(df.head(10))#проверяем"
   ]
  },
  {
   "cell_type": "code",
   "execution_count": 45,
   "id": "030b85ce",
   "metadata": {},
   "outputs": [
    {
     "name": "stdout",
     "output_type": "stream",
     "text": [
      "          family_status  family_status_id\n",
      "0       женат / замужем                 0\n",
      "1       женат / замужем                 0\n",
      "2       женат / замужем                 0\n",
      "3       женат / замужем                 0\n",
      "4      гражданский брак                 1\n",
      "...                 ...               ...\n",
      "21449  гражданский брак                 1\n",
      "21450   женат / замужем                 0\n",
      "21451  гражданский брак                 1\n",
      "21452   женат / замужем                 0\n",
      "21453   женат / замужем                 0\n",
      "\n",
      "[21454 rows x 2 columns]\n"
     ]
    }
   ],
   "source": [
    "family_new = df[['family_status', 'family_status_id']]#создали новый датасет\n",
    "print(family_new)"
   ]
  },
  {
   "cell_type": "code",
   "execution_count": 46,
   "id": "25ece9a4",
   "metadata": {},
   "outputs": [
    {
     "data": {
      "text/html": [
       "<div>\n",
       "<style scoped>\n",
       "    .dataframe tbody tr th:only-of-type {\n",
       "        vertical-align: middle;\n",
       "    }\n",
       "\n",
       "    .dataframe tbody tr th {\n",
       "        vertical-align: top;\n",
       "    }\n",
       "\n",
       "    .dataframe thead th {\n",
       "        text-align: right;\n",
       "    }\n",
       "</style>\n",
       "<table border=\"1\" class=\"dataframe\">\n",
       "  <thead>\n",
       "    <tr style=\"text-align: right;\">\n",
       "      <th></th>\n",
       "      <th>children</th>\n",
       "      <th>days_employed</th>\n",
       "      <th>dob_years</th>\n",
       "      <th>education_id</th>\n",
       "      <th>family_status</th>\n",
       "      <th>family_status_id</th>\n",
       "      <th>gender</th>\n",
       "      <th>income_type</th>\n",
       "      <th>debt</th>\n",
       "      <th>total_income</th>\n",
       "      <th>purpose</th>\n",
       "    </tr>\n",
       "  </thead>\n",
       "  <tbody>\n",
       "    <tr>\n",
       "      <th>0</th>\n",
       "      <td>1</td>\n",
       "      <td>8437.673028</td>\n",
       "      <td>42</td>\n",
       "      <td>0</td>\n",
       "      <td>женат / замужем</td>\n",
       "      <td>0</td>\n",
       "      <td>F</td>\n",
       "      <td>сотрудник</td>\n",
       "      <td>0</td>\n",
       "      <td>253875</td>\n",
       "      <td>покупка жилья</td>\n",
       "    </tr>\n",
       "    <tr>\n",
       "      <th>1</th>\n",
       "      <td>1</td>\n",
       "      <td>4024.803754</td>\n",
       "      <td>36</td>\n",
       "      <td>1</td>\n",
       "      <td>женат / замужем</td>\n",
       "      <td>0</td>\n",
       "      <td>F</td>\n",
       "      <td>сотрудник</td>\n",
       "      <td>0</td>\n",
       "      <td>112080</td>\n",
       "      <td>приобретение автомобиля</td>\n",
       "    </tr>\n",
       "    <tr>\n",
       "      <th>2</th>\n",
       "      <td>0</td>\n",
       "      <td>5623.422610</td>\n",
       "      <td>33</td>\n",
       "      <td>1</td>\n",
       "      <td>женат / замужем</td>\n",
       "      <td>0</td>\n",
       "      <td>M</td>\n",
       "      <td>сотрудник</td>\n",
       "      <td>0</td>\n",
       "      <td>145885</td>\n",
       "      <td>покупка жилья</td>\n",
       "    </tr>\n",
       "    <tr>\n",
       "      <th>3</th>\n",
       "      <td>3</td>\n",
       "      <td>4124.747207</td>\n",
       "      <td>32</td>\n",
       "      <td>1</td>\n",
       "      <td>женат / замужем</td>\n",
       "      <td>0</td>\n",
       "      <td>M</td>\n",
       "      <td>сотрудник</td>\n",
       "      <td>0</td>\n",
       "      <td>267628</td>\n",
       "      <td>дополнительное образование</td>\n",
       "    </tr>\n",
       "    <tr>\n",
       "      <th>4</th>\n",
       "      <td>0</td>\n",
       "      <td>340266.072047</td>\n",
       "      <td>53</td>\n",
       "      <td>1</td>\n",
       "      <td>гражданский брак</td>\n",
       "      <td>1</td>\n",
       "      <td>F</td>\n",
       "      <td>пенсионер</td>\n",
       "      <td>0</td>\n",
       "      <td>158616</td>\n",
       "      <td>сыграть свадьбу</td>\n",
       "    </tr>\n",
       "  </tbody>\n",
       "</table>\n",
       "</div>"
      ],
      "text/plain": [
       "   children  days_employed  dob_years  education_id     family_status  \\\n",
       "0         1    8437.673028         42             0   женат / замужем   \n",
       "1         1    4024.803754         36             1   женат / замужем   \n",
       "2         0    5623.422610         33             1   женат / замужем   \n",
       "3         3    4124.747207         32             1   женат / замужем   \n",
       "4         0  340266.072047         53             1  гражданский брак   \n",
       "\n",
       "   family_status_id gender income_type  debt  total_income  \\\n",
       "0                 0      F   сотрудник     0        253875   \n",
       "1                 0      F   сотрудник     0        112080   \n",
       "2                 0      M   сотрудник     0        145885   \n",
       "3                 0      M   сотрудник     0        267628   \n",
       "4                 1      F   пенсионер     0        158616   \n",
       "\n",
       "                      purpose  \n",
       "0               покупка жилья  \n",
       "1     приобретение автомобиля  \n",
       "2               покупка жилья  \n",
       "3  дополнительное образование  \n",
       "4             сыграть свадьбу  "
      ]
     },
     "execution_count": 46,
     "metadata": {},
     "output_type": "execute_result"
    }
   ],
   "source": [
    "df.head()"
   ]
  },
  {
   "cell_type": "markdown",
   "id": "56d0828c",
   "metadata": {},
   "source": [
    "# Категоризация дохода."
   ]
  },
  {
   "cell_type": "markdown",
   "id": "a6463018",
   "metadata": {},
   "source": [
    "На основании диапазонов, указанных ниже, создайте столбец total_income_category с категориями:\n",
    "\n",
    "0–30000 — 'E';\n",
    "\n",
    "30001–50000 — 'D';\n",
    "\n",
    "50001–200000 — 'C';\n",
    "\n",
    "200001–1000000 — 'B';\n",
    "\n",
    "1000001 и выше — 'A'.\n",
    "\n",
    "Например, кредитополучателю с доходом 25000 нужно назначить категорию 'E', а клиенту, получающему 235000, — 'B'."
   ]
  },
  {
   "cell_type": "code",
   "execution_count": 47,
   "id": "713b7cdd",
   "metadata": {},
   "outputs": [],
   "source": [
    "def total_income_category(total_income):\n",
    "    if total_income <= 30000:\n",
    "        return 'E'\n",
    "    if 30001 <= total_income <= 50000:\n",
    "        return 'D'\n",
    "    if 50001 <= total_income <= 200000:\n",
    "        return 'C'\n",
    "    if 200001 <= total_income <= 1000000:\n",
    "        return 'B'\n",
    "    if total_income >= 1000001:\n",
    "        return 'A'"
   ]
  },
  {
   "cell_type": "code",
   "execution_count": 48,
   "id": "65f5651b",
   "metadata": {},
   "outputs": [],
   "source": [
    "df['total_income_category'] = df['total_income'].apply(total_income_category)"
   ]
  },
  {
   "cell_type": "code",
   "execution_count": 49,
   "id": "93bfc1a1",
   "metadata": {},
   "outputs": [
    {
     "data": {
      "text/plain": [
       "C    16016\n",
       "B     5041\n",
       "D      350\n",
       "A       25\n",
       "E       22\n",
       "Name: total_income_category, dtype: int64"
      ]
     },
     "execution_count": 49,
     "metadata": {},
     "output_type": "execute_result"
    }
   ],
   "source": [
    "df['total_income_category'].value_counts()"
   ]
  },
  {
   "cell_type": "markdown",
   "id": "a5476b54",
   "metadata": {},
   "source": [
    "# Категоризация целей кредита."
   ]
  },
  {
   "cell_type": "markdown",
   "id": "7ab6e19a",
   "metadata": {},
   "source": [
    "Создайте функцию, которая на основании данных из столбца purpose сформирует новый столбец purpose_category, в который войдут следующие категории:\n",
    "'операции с автомобилем',\n",
    "'операции с недвижимостью',\n",
    "'проведение свадьбы',\n",
    "'получение образования'.\n",
    "Например, если в столбце purpose находится подстрока 'на покупку автомобиля', то в столбце purpose_category должна появиться строка 'операции с автомобилем'.\n",
    "Вы можете использовать собственную функцию и метод apply(). Изучите данные в столбце purpose и определите, какие подстроки помогут вам правильно определить категорию."
   ]
  },
  {
   "cell_type": "code",
   "execution_count": 50,
   "id": "ca740f8c",
   "metadata": {},
   "outputs": [],
   "source": [
    "#напишем функцию для отображения целей кредита\n",
    "def purpose_category(purpose):\n",
    "    if 'авто' in purpose:\n",
    "        return 'операции с автомобилем'\n",
    "    elif 'недвиж' in purpose or 'жиль' in purpose:\n",
    "        return 'операции с недвижимостью'\n",
    "    elif 'свадьб' in purpose:\n",
    "        return 'проведение свадьбы'\n",
    "    elif 'образо' in purpose:\n",
    "        return 'получение образования'"
   ]
  },
  {
   "cell_type": "code",
   "execution_count": 51,
   "id": "61a5ed39",
   "metadata": {},
   "outputs": [],
   "source": [
    "df['purpose_category'] = df['purpose'].apply(purpose_category)"
   ]
  },
  {
   "cell_type": "code",
   "execution_count": 52,
   "id": "a3849935",
   "metadata": {},
   "outputs": [
    {
     "data": {
      "text/plain": [
       "операции с недвижимостью    10811\n",
       "операции с автомобилем       4306\n",
       "получение образования        4013\n",
       "проведение свадьбы           2324\n",
       "Name: purpose_category, dtype: int64"
      ]
     },
     "execution_count": 52,
     "metadata": {},
     "output_type": "execute_result"
    }
   ],
   "source": [
    "df['purpose_category'].value_counts()"
   ]
  },
  {
   "cell_type": "markdown",
   "id": "4d74a70b",
   "metadata": {},
   "source": [
    "# Ответы на вопросы."
   ]
  },
  {
   "cell_type": "markdown",
   "id": "cccbe4f3",
   "metadata": {},
   "source": [
    "Шаг 3. Ответьте на вопросы\n",
    "Ответы на вопросы можно разместить в ячейках тетрадок Jupyter Notebook с типом markdown.\n",
    "Есть ли зависимость между количеством детей и возвратом кредита в срок?\n",
    "Есть ли зависимость между семейным положением и возвратом кредита в срок?\n",
    "Есть ли зависимость между уровнем дохода и возвратом кредита в срок?\n",
    "Как разные цели кредита влияют на его возврат в срок?\n",
    "Ответы сопроводите интерпретацией — поясните, о чём именно говорит полученный вами результат."
   ]
  },
  {
   "cell_type": "markdown",
   "id": "e6f4a84b",
   "metadata": {},
   "source": [
    "1)Зависимость между количеством детей и возвратом кредита в срок"
   ]
  },
  {
   "cell_type": "code",
   "execution_count": 53,
   "id": "0f366002",
   "metadata": {},
   "outputs": [],
   "source": [
    "children_d = df.groupby('children')['debt'].sum()/ \\\n",
    "    df.groupby('children')['debt'].count() * 100"
   ]
  },
  {
   "cell_type": "code",
   "execution_count": 54,
   "id": "a25fbc04",
   "metadata": {},
   "outputs": [
    {
     "name": "stdout",
     "output_type": "stream",
     "text": [
      "children\n",
      "0    7.543822\n",
      "1    9.165808\n",
      "2    9.492481\n",
      "3    8.181818\n",
      "4    9.756098\n",
      "Name: debt, dtype: float64\n"
     ]
    }
   ],
   "source": [
    "print(children_d.head())"
   ]
  },
  {
   "cell_type": "markdown",
   "id": "755a7082",
   "metadata": {},
   "source": [
    "можно сделать вывод, что количество детей не влияет на возврат кредита воворемя, у кого нет детей немного лучше возвращают кредиты"
   ]
  },
  {
   "cell_type": "markdown",
   "id": "2d41b39d",
   "metadata": {},
   "source": [
    "2)Зависимость между семейным положением и возвратом кредита в срок"
   ]
  },
  {
   "cell_type": "code",
   "execution_count": 55,
   "id": "3d7c5216",
   "metadata": {},
   "outputs": [],
   "source": [
    "family_status_new = df.groupby('family_status')['debt'].sum()/ \\\n",
    "    df.groupby('family_status')['debt'].count() * 100"
   ]
  },
  {
   "cell_type": "code",
   "execution_count": 56,
   "id": "e138e1ca",
   "metadata": {},
   "outputs": [
    {
     "name": "stdout",
     "output_type": "stream",
     "text": [
      "family_status\n",
      "в разводе                7.112971\n",
      "вдовец / вдова           6.569343\n",
      "гражданский брак         9.347145\n",
      "женат / замужем          7.545182\n",
      "не женат / не замужем    9.750890\n",
      "Name: debt, dtype: float64\n"
     ]
    }
   ],
   "source": [
    "print(family_status_new.head())"
   ]
  },
  {
   "cell_type": "markdown",
   "id": "5255d38d",
   "metadata": {},
   "source": [
    "Cамая высокая задолженость у тех, кто находится в гражданском браке и у тех кто не в браке вовсе. Те кто в разводе, кто овдовел и в браке, отдают кредиты лучше(возможно у тех кто отдает кредиты лучше больше ответственности, дети либо помощь от супруга/супруги)"
   ]
  },
  {
   "cell_type": "markdown",
   "id": "a751e11c",
   "metadata": {},
   "source": [
    "3)Есть ли зависимость между уровнем дохода и возвратом кредита в срок?"
   ]
  },
  {
   "cell_type": "code",
   "execution_count": 57,
   "id": "db2c329c",
   "metadata": {},
   "outputs": [],
   "source": [
    "total_income_category_id = df.groupby('total_income_category')['debt'].sum()/ \\\n",
    "    df.groupby('total_income_category')['debt'].count() * 100"
   ]
  },
  {
   "cell_type": "code",
   "execution_count": 58,
   "id": "87b48410",
   "metadata": {},
   "outputs": [
    {
     "data": {
      "text/plain": [
       "total_income_category\n",
       "D    6.000000\n",
       "B    7.062091\n",
       "A    8.000000\n",
       "C    8.491508\n",
       "E    9.090909\n",
       "Name: debt, dtype: float64"
      ]
     },
     "execution_count": 58,
     "metadata": {},
     "output_type": "execute_result"
    }
   ],
   "source": [
    "total_income_category_id.sort_values()"
   ]
  },
  {
   "cell_type": "markdown",
   "id": "3e2257d8",
   "metadata": {},
   "source": [
    "Больше всего задолжностей у тех кто зарабатывает менее 30000, возможно просто не хватает вовремя насобирать сумму на возврат кредита,потом на одном уровне те кто зарабатывает более 1000000(что странно, почему они не возвращают кредиты вовремя) и те у кого заработок от 50000 до 200000, следом идут те у кого заработок от 200000 до 1000000. Меньше всего задолжностей у тех кто зарабатывает от 30000 до 50000"
   ]
  },
  {
   "cell_type": "markdown",
   "id": "26f25f8d",
   "metadata": {},
   "source": [
    "Как разные цели кредита влияют на его возврат в срок?"
   ]
  },
  {
   "cell_type": "code",
   "execution_count": 59,
   "id": "1eed0135",
   "metadata": {},
   "outputs": [],
   "source": [
    "purpose_category_d = df.groupby('purpose_category')['debt'].sum()/ \\\n",
    "    df.groupby('purpose_category')['debt'].count() * 100"
   ]
  },
  {
   "cell_type": "code",
   "execution_count": 60,
   "id": "d35e273e",
   "metadata": {},
   "outputs": [
    {
     "data": {
      "text/plain": [
       "purpose_category\n",
       "операции с недвижимостью    7.233373\n",
       "проведение свадьбы          8.003442\n",
       "получение образования       9.220035\n",
       "операции с автомобилем      9.359034\n",
       "Name: debt, dtype: float64"
      ]
     },
     "execution_count": 60,
     "metadata": {},
     "output_type": "execute_result"
    }
   ],
   "source": [
    "purpose_category_d.sort_values()"
   ]
  },
  {
   "cell_type": "markdown",
   "id": "86d1b698",
   "metadata": {},
   "source": [
    "Чаще всего кредиты берут на операции с недвижимостью, реже всего на проведеие свадьб. На образование и автомобили примерно в одном диапозоне, на среднем уровне. Больше всего задолжностей по кредитам на покупку автомобиля и получение образования(возможно такой показатель из-за того, что это суммы помельче и возврастные категории помладше(например в получении образования, люди менее ответственные).Лучше всего показатели с недвижимостью(возможно потому-что в этой категории люди постарше, стабильная зарплата и более отвественные). Кредиты на проведение свадеб посеридине, возможно из-за того, что люди уже совместно выплачивают."
   ]
  },
  {
   "cell_type": "markdown",
   "id": "9397b9d2",
   "metadata": {},
   "source": [
    "<div class=\"alert alert-danger\">\n",
    "<b>❌ Комментарий ревьюера v2:</b> \n",
    "<br>Нужно поправить категоризацию\n",
    "</div>"
   ]
  },
  {
   "cell_type": "markdown",
   "id": "c54eb73e",
   "metadata": {},
   "source": [
    "# Общий вывод:"
   ]
  },
  {
   "cell_type": "markdown",
   "id": "ba299548",
   "metadata": {},
   "source": [
    "Есть взаимосвязь в просрочках по возврату кредитов. Пересекаются цели кредита, наличие детей, ежемесячный доход и семейнoe положение. Коoрдинальных и сильно выбивающихся критериев нет, но все же можно выделить группу риска по возможной задержке в выплате. Особое внимание по выдаче кредита нужно уделить людям, которые находятся не в браке, с наличием детей, доходом до 30000, с целью кредита образоание либо автомобиль. "
   ]
  }
 ],
 "metadata": {
  "ExecuteTimeLog": [
   {
    "duration": 799,
    "start_time": "2022-05-04T14:02:30.167Z"
   },
   {
    "duration": 1585,
    "start_time": "2022-05-04T14:03:07.212Z"
   },
   {
    "duration": 88,
    "start_time": "2022-05-04T14:03:22.069Z"
   },
   {
    "duration": 84,
    "start_time": "2022-05-04T14:03:40.379Z"
   },
   {
    "duration": 92,
    "start_time": "2022-05-04T14:03:54.452Z"
   },
   {
    "duration": 110,
    "start_time": "2022-05-04T14:06:43.760Z"
   },
   {
    "duration": 22,
    "start_time": "2022-05-04T14:10:40.307Z"
   },
   {
    "duration": 21,
    "start_time": "2022-05-04T14:16:41.877Z"
   },
   {
    "duration": 12,
    "start_time": "2022-05-04T14:16:46.495Z"
   },
   {
    "duration": 23,
    "start_time": "2022-05-04T14:17:39.115Z"
   },
   {
    "duration": 63,
    "start_time": "2022-05-04T14:19:29.898Z"
   },
   {
    "duration": 25,
    "start_time": "2022-05-04T14:19:47.699Z"
   },
   {
    "duration": 21,
    "start_time": "2022-05-04T14:34:35.497Z"
   },
   {
    "duration": 96,
    "start_time": "2022-05-04T17:04:19.101Z"
   },
   {
    "duration": 9,
    "start_time": "2022-05-04T17:05:14.642Z"
   },
   {
    "duration": 9,
    "start_time": "2022-05-04T17:08:46.212Z"
   },
   {
    "duration": 8,
    "start_time": "2022-05-04T17:13:21.009Z"
   },
   {
    "duration": 5,
    "start_time": "2022-05-04T17:19:42.950Z"
   },
   {
    "duration": 7,
    "start_time": "2022-05-04T17:19:56.372Z"
   },
   {
    "duration": 8,
    "start_time": "2022-05-04T17:20:27.571Z"
   },
   {
    "duration": 2120,
    "start_time": "2022-05-04T17:24:10.328Z"
   },
   {
    "duration": 2329,
    "start_time": "2022-05-04T17:24:44.910Z"
   },
   {
    "duration": 87,
    "start_time": "2022-05-04T17:30:54.893Z"
   },
   {
    "duration": 84,
    "start_time": "2022-05-04T17:31:03.891Z"
   },
   {
    "duration": 9,
    "start_time": "2022-05-04T17:40:32.790Z"
   },
   {
    "duration": 7,
    "start_time": "2022-05-04T17:45:10.906Z"
   },
   {
    "duration": 6,
    "start_time": "2022-05-04T17:46:52.726Z"
   },
   {
    "duration": 2487,
    "start_time": "2022-05-04T17:46:55.026Z"
   },
   {
    "duration": 1922,
    "start_time": "2022-05-04T17:46:59.001Z"
   },
   {
    "duration": 0,
    "start_time": "2022-05-04T17:47:00.925Z"
   },
   {
    "duration": 2396,
    "start_time": "2022-05-04T17:47:05.023Z"
   },
   {
    "duration": 8,
    "start_time": "2022-05-04T17:47:14.903Z"
   },
   {
    "duration": 6,
    "start_time": "2022-05-04T17:47:18.350Z"
   },
   {
    "duration": 7,
    "start_time": "2022-05-04T17:47:22.138Z"
   },
   {
    "duration": 5,
    "start_time": "2022-05-04T17:47:32.784Z"
   },
   {
    "duration": 8,
    "start_time": "2022-05-04T17:47:41.441Z"
   },
   {
    "duration": 8,
    "start_time": "2022-05-04T17:47:44.544Z"
   },
   {
    "duration": 5,
    "start_time": "2022-05-04T17:47:48.409Z"
   },
   {
    "duration": 8,
    "start_time": "2022-05-04T17:47:51.583Z"
   },
   {
    "duration": 7,
    "start_time": "2022-05-04T17:47:55.006Z"
   },
   {
    "duration": 11,
    "start_time": "2022-05-04T18:04:56.720Z"
   },
   {
    "duration": 5,
    "start_time": "2022-05-04T18:05:09.871Z"
   },
   {
    "duration": 6,
    "start_time": "2022-05-04T18:05:18.867Z"
   },
   {
    "duration": 5,
    "start_time": "2022-05-04T18:05:37.250Z"
   },
   {
    "duration": 5,
    "start_time": "2022-05-04T18:06:04.309Z"
   },
   {
    "duration": 5,
    "start_time": "2022-05-04T18:06:10.125Z"
   },
   {
    "duration": 2134,
    "start_time": "2022-05-04T18:08:25.449Z"
   },
   {
    "duration": 5,
    "start_time": "2022-05-04T18:09:24.226Z"
   },
   {
    "duration": 6,
    "start_time": "2022-05-04T18:10:36.570Z"
   },
   {
    "duration": 8,
    "start_time": "2022-05-04T18:10:47.980Z"
   },
   {
    "duration": 5,
    "start_time": "2022-05-04T18:11:10.643Z"
   },
   {
    "duration": 7,
    "start_time": "2022-05-04T18:11:15.791Z"
   },
   {
    "duration": 5,
    "start_time": "2022-05-04T18:26:34.363Z"
   },
   {
    "duration": 5,
    "start_time": "2022-05-04T18:26:46.252Z"
   },
   {
    "duration": 6,
    "start_time": "2022-05-04T18:27:08.967Z"
   },
   {
    "duration": 7,
    "start_time": "2022-05-04T18:29:18.115Z"
   },
   {
    "duration": 6,
    "start_time": "2022-05-04T18:31:32.913Z"
   },
   {
    "duration": 7,
    "start_time": "2022-05-04T18:33:49.049Z"
   },
   {
    "duration": 4,
    "start_time": "2022-05-04T18:34:15.455Z"
   },
   {
    "duration": 15,
    "start_time": "2022-05-04T18:38:35.346Z"
   },
   {
    "duration": 21,
    "start_time": "2022-05-04T18:38:46.991Z"
   },
   {
    "duration": 15,
    "start_time": "2022-05-04T18:38:54.153Z"
   },
   {
    "duration": 8,
    "start_time": "2022-05-04T18:45:40.926Z"
   },
   {
    "duration": 6,
    "start_time": "2022-05-04T18:46:13.269Z"
   },
   {
    "duration": 6,
    "start_time": "2022-05-04T18:46:25.436Z"
   },
   {
    "duration": 7,
    "start_time": "2022-05-04T18:46:31.653Z"
   },
   {
    "duration": 9,
    "start_time": "2022-05-04T19:06:35.698Z"
   },
   {
    "duration": 9,
    "start_time": "2022-05-04T19:06:42.858Z"
   },
   {
    "duration": 7,
    "start_time": "2022-05-04T19:13:37.544Z"
   },
   {
    "duration": 36,
    "start_time": "2022-05-04T19:38:25.165Z"
   },
   {
    "duration": 22,
    "start_time": "2022-05-04T19:39:01.796Z"
   },
   {
    "duration": 27,
    "start_time": "2022-05-04T19:43:11.926Z"
   },
   {
    "duration": 30,
    "start_time": "2022-05-04T19:43:15.704Z"
   },
   {
    "duration": 49,
    "start_time": "2022-05-04T19:46:33.107Z"
   },
   {
    "duration": 38,
    "start_time": "2022-05-04T19:46:47.791Z"
   },
   {
    "duration": 50,
    "start_time": "2022-05-04T19:47:05.702Z"
   },
   {
    "duration": 52,
    "start_time": "2022-05-04T19:47:39.242Z"
   },
   {
    "duration": 41,
    "start_time": "2022-05-04T19:47:48.507Z"
   },
   {
    "duration": 45,
    "start_time": "2022-05-04T19:48:45.104Z"
   },
   {
    "duration": 39,
    "start_time": "2022-05-04T19:48:54.527Z"
   },
   {
    "duration": 79,
    "start_time": "2022-05-04T19:49:30.398Z"
   },
   {
    "duration": 61,
    "start_time": "2022-05-04T19:49:35.661Z"
   },
   {
    "duration": 5,
    "start_time": "2022-05-04T20:28:22.974Z"
   },
   {
    "duration": 5,
    "start_time": "2022-05-04T20:28:25.647Z"
   },
   {
    "duration": 5,
    "start_time": "2022-05-04T20:28:31.239Z"
   },
   {
    "duration": 6,
    "start_time": "2022-05-04T20:28:54.768Z"
   },
   {
    "duration": 5,
    "start_time": "2022-05-04T20:29:06.165Z"
   },
   {
    "duration": 9,
    "start_time": "2022-05-04T20:29:09.630Z"
   },
   {
    "duration": 6,
    "start_time": "2022-05-04T20:29:17.093Z"
   },
   {
    "duration": 6,
    "start_time": "2022-05-04T20:29:19.759Z"
   },
   {
    "duration": 7,
    "start_time": "2022-05-04T20:29:22.885Z"
   },
   {
    "duration": 5,
    "start_time": "2022-05-04T20:29:27.947Z"
   },
   {
    "duration": 6,
    "start_time": "2022-05-04T20:29:30.616Z"
   },
   {
    "duration": 7,
    "start_time": "2022-05-04T20:29:33.864Z"
   },
   {
    "duration": 16,
    "start_time": "2022-05-04T20:37:09.897Z"
   },
   {
    "duration": 5,
    "start_time": "2022-05-04T20:37:11.301Z"
   },
   {
    "duration": 7,
    "start_time": "2022-05-04T20:37:12.154Z"
   },
   {
    "duration": 14,
    "start_time": "2022-05-04T20:48:51.776Z"
   },
   {
    "duration": 12,
    "start_time": "2022-05-04T20:49:15.181Z"
   },
   {
    "duration": 11,
    "start_time": "2022-05-04T21:01:01.642Z"
   },
   {
    "duration": 6,
    "start_time": "2022-05-04T21:01:18.857Z"
   },
   {
    "duration": 9,
    "start_time": "2022-05-04T21:04:18.409Z"
   },
   {
    "duration": 9,
    "start_time": "2022-05-04T21:04:31.512Z"
   },
   {
    "duration": 9,
    "start_time": "2022-05-04T21:04:46.640Z"
   },
   {
    "duration": 10,
    "start_time": "2022-05-04T21:04:54.077Z"
   },
   {
    "duration": 83,
    "start_time": "2022-05-04T21:04:59.663Z"
   },
   {
    "duration": 21,
    "start_time": "2022-05-04T21:05:03.572Z"
   },
   {
    "duration": 38,
    "start_time": "2022-05-04T21:05:07.590Z"
   },
   {
    "duration": 5,
    "start_time": "2022-05-04T21:05:11.421Z"
   },
   {
    "duration": 8,
    "start_time": "2022-05-04T21:05:15.224Z"
   },
   {
    "duration": 6,
    "start_time": "2022-05-04T21:05:17.987Z"
   },
   {
    "duration": 7,
    "start_time": "2022-05-04T21:05:21.814Z"
   },
   {
    "duration": 5,
    "start_time": "2022-05-04T21:05:26.542Z"
   },
   {
    "duration": 7,
    "start_time": "2022-05-04T21:05:29.769Z"
   },
   {
    "duration": 6,
    "start_time": "2022-05-04T21:05:33.258Z"
   },
   {
    "duration": 7,
    "start_time": "2022-05-04T21:05:36.157Z"
   },
   {
    "duration": 7,
    "start_time": "2022-05-04T21:05:38.936Z"
   },
   {
    "duration": 7,
    "start_time": "2022-05-04T21:05:41.922Z"
   },
   {
    "duration": 10,
    "start_time": "2022-05-04T21:05:44.586Z"
   },
   {
    "duration": 18,
    "start_time": "2022-05-04T21:05:49.167Z"
   },
   {
    "duration": 10,
    "start_time": "2022-05-04T21:05:53.332Z"
   },
   {
    "duration": 57,
    "start_time": "2022-05-04T21:05:57.862Z"
   },
   {
    "duration": 6,
    "start_time": "2022-05-04T21:06:01.763Z"
   },
   {
    "duration": 5,
    "start_time": "2022-05-04T21:06:04.812Z"
   },
   {
    "duration": 5,
    "start_time": "2022-05-04T21:06:08.327Z"
   },
   {
    "duration": 7,
    "start_time": "2022-05-04T21:06:12.672Z"
   },
   {
    "duration": 18,
    "start_time": "2022-05-04T21:07:23.823Z"
   },
   {
    "duration": 5,
    "start_time": "2022-05-04T21:29:29.736Z"
   },
   {
    "duration": 10,
    "start_time": "2022-05-04T21:30:12.208Z"
   },
   {
    "duration": 8,
    "start_time": "2022-05-04T21:30:32.334Z"
   },
   {
    "duration": 15,
    "start_time": "2022-05-04T21:31:31.722Z"
   },
   {
    "duration": 8,
    "start_time": "2022-05-04T21:32:38.882Z"
   },
   {
    "duration": 12,
    "start_time": "2022-05-04T21:32:44.444Z"
   },
   {
    "duration": 7,
    "start_time": "2022-05-04T21:32:49.017Z"
   },
   {
    "duration": 7,
    "start_time": "2022-05-04T21:32:52.075Z"
   },
   {
    "duration": 8,
    "start_time": "2022-05-04T21:32:57.386Z"
   },
   {
    "duration": 6,
    "start_time": "2022-05-04T21:33:05.559Z"
   },
   {
    "duration": 7,
    "start_time": "2022-05-04T21:33:08.859Z"
   },
   {
    "duration": 12,
    "start_time": "2022-05-04T21:33:12.949Z"
   },
   {
    "duration": 22,
    "start_time": "2022-05-04T21:38:43.701Z"
   },
   {
    "duration": 10,
    "start_time": "2022-05-04T21:38:51.776Z"
   },
   {
    "duration": 10,
    "start_time": "2022-05-04T21:58:51.362Z"
   },
   {
    "duration": 11,
    "start_time": "2022-05-04T21:59:23.797Z"
   },
   {
    "duration": 11,
    "start_time": "2022-05-04T22:02:19.661Z"
   },
   {
    "duration": 17,
    "start_time": "2022-05-04T22:06:14.195Z"
   },
   {
    "duration": 25,
    "start_time": "2022-05-04T22:06:53.265Z"
   },
   {
    "duration": 25,
    "start_time": "2022-05-04T22:07:42.970Z"
   },
   {
    "duration": 20,
    "start_time": "2022-05-04T22:08:06.531Z"
   },
   {
    "duration": 14,
    "start_time": "2022-05-04T22:09:40.276Z"
   },
   {
    "duration": 19,
    "start_time": "2022-05-04T22:11:51.477Z"
   },
   {
    "duration": 13,
    "start_time": "2022-05-04T22:12:12.766Z"
   },
   {
    "duration": 13,
    "start_time": "2022-05-04T22:12:15.660Z"
   },
   {
    "duration": 12,
    "start_time": "2022-05-04T22:12:19.903Z"
   },
   {
    "duration": 86,
    "start_time": "2022-05-04T22:12:24.545Z"
   },
   {
    "duration": 21,
    "start_time": "2022-05-04T22:12:25.725Z"
   },
   {
    "duration": 5,
    "start_time": "2022-05-04T22:12:26.817Z"
   },
   {
    "duration": 8,
    "start_time": "2022-05-04T22:12:27.264Z"
   },
   {
    "duration": 6,
    "start_time": "2022-05-04T22:12:27.719Z"
   },
   {
    "duration": 8,
    "start_time": "2022-05-04T22:12:28.192Z"
   },
   {
    "duration": 7,
    "start_time": "2022-05-04T22:12:28.661Z"
   },
   {
    "duration": 8,
    "start_time": "2022-05-04T22:12:29.093Z"
   },
   {
    "duration": 6,
    "start_time": "2022-05-04T22:12:29.484Z"
   },
   {
    "duration": 7,
    "start_time": "2022-05-04T22:12:29.845Z"
   },
   {
    "duration": 9,
    "start_time": "2022-05-04T22:12:30.320Z"
   },
   {
    "duration": 7,
    "start_time": "2022-05-04T22:12:30.747Z"
   },
   {
    "duration": 7,
    "start_time": "2022-05-04T22:12:31.045Z"
   },
   {
    "duration": 10,
    "start_time": "2022-05-04T22:12:31.606Z"
   },
   {
    "duration": 15,
    "start_time": "2022-05-04T22:12:31.931Z"
   },
   {
    "duration": 9,
    "start_time": "2022-05-04T22:12:32.675Z"
   },
   {
    "duration": 42,
    "start_time": "2022-05-04T22:12:33.425Z"
   },
   {
    "duration": 6,
    "start_time": "2022-05-04T22:12:33.773Z"
   },
   {
    "duration": 7,
    "start_time": "2022-05-04T22:12:34.285Z"
   },
   {
    "duration": 6,
    "start_time": "2022-05-04T22:12:34.996Z"
   },
   {
    "duration": 20,
    "start_time": "2022-05-04T22:12:35.821Z"
   },
   {
    "duration": 17,
    "start_time": "2022-05-04T22:13:07.987Z"
   },
   {
    "duration": 30,
    "start_time": "2022-05-04T22:13:40.941Z"
   },
   {
    "duration": 21,
    "start_time": "2022-05-04T22:18:28.877Z"
   },
   {
    "duration": 18,
    "start_time": "2022-05-04T22:18:52.954Z"
   },
   {
    "duration": 19,
    "start_time": "2022-05-04T22:19:21.076Z"
   },
   {
    "duration": 9,
    "start_time": "2022-05-04T22:19:50.395Z"
   },
   {
    "duration": 8,
    "start_time": "2022-05-04T22:20:48.081Z"
   },
   {
    "duration": 133,
    "start_time": "2022-05-04T22:22:17.907Z"
   },
   {
    "duration": 16,
    "start_time": "2022-05-04T22:22:30.750Z"
   },
   {
    "duration": 5,
    "start_time": "2022-05-04T22:23:01.746Z"
   },
   {
    "duration": 7,
    "start_time": "2022-05-04T22:23:25.438Z"
   },
   {
    "duration": 8,
    "start_time": "2022-05-04T22:23:55.902Z"
   },
   {
    "duration": 7,
    "start_time": "2022-05-04T22:24:50.902Z"
   },
   {
    "duration": 28,
    "start_time": "2022-05-04T22:25:16.197Z"
   },
   {
    "duration": 433,
    "start_time": "2022-05-05T12:27:37.278Z"
   },
   {
    "duration": 20,
    "start_time": "2022-05-05T12:27:39.095Z"
   },
   {
    "duration": 4,
    "start_time": "2022-05-05T12:27:39.625Z"
   },
   {
    "duration": 4,
    "start_time": "2022-05-05T12:27:39.928Z"
   },
   {
    "duration": 4,
    "start_time": "2022-05-05T12:27:40.226Z"
   },
   {
    "duration": 4,
    "start_time": "2022-05-05T12:27:40.507Z"
   },
   {
    "duration": 3,
    "start_time": "2022-05-05T12:27:40.773Z"
   },
   {
    "duration": 4,
    "start_time": "2022-05-05T12:27:41.057Z"
   },
   {
    "duration": 3,
    "start_time": "2022-05-05T12:27:41.330Z"
   },
   {
    "duration": 5,
    "start_time": "2022-05-05T12:27:41.588Z"
   },
   {
    "duration": 5,
    "start_time": "2022-05-05T12:27:41.982Z"
   },
   {
    "duration": 3,
    "start_time": "2022-05-05T12:27:43.157Z"
   },
   {
    "duration": 9,
    "start_time": "2022-05-05T12:27:43.163Z"
   },
   {
    "duration": 5,
    "start_time": "2022-05-05T12:27:43.471Z"
   },
   {
    "duration": 12,
    "start_time": "2022-05-05T12:27:44.408Z"
   },
   {
    "duration": 5,
    "start_time": "2022-05-05T12:27:46.900Z"
   },
   {
    "duration": 27,
    "start_time": "2022-05-05T12:27:52.237Z"
   },
   {
    "duration": 4,
    "start_time": "2022-05-05T12:27:53.091Z"
   },
   {
    "duration": 4,
    "start_time": "2022-05-05T12:27:55.062Z"
   },
   {
    "duration": 4,
    "start_time": "2022-05-05T12:27:58.412Z"
   },
   {
    "duration": 11,
    "start_time": "2022-05-05T12:28:02.717Z"
   },
   {
    "duration": 5,
    "start_time": "2022-05-05T12:28:05.141Z"
   },
   {
    "duration": 4,
    "start_time": "2022-05-05T12:28:06.306Z"
   },
   {
    "duration": 5,
    "start_time": "2022-05-05T12:28:08.610Z"
   },
   {
    "duration": 4,
    "start_time": "2022-05-05T12:28:09.660Z"
   },
   {
    "duration": 10,
    "start_time": "2022-05-05T12:28:10.375Z"
   },
   {
    "duration": 5,
    "start_time": "2022-05-05T12:28:11.768Z"
   },
   {
    "duration": 6,
    "start_time": "2022-05-05T12:28:13.824Z"
   },
   {
    "duration": 6,
    "start_time": "2022-05-05T12:28:17.254Z"
   },
   {
    "duration": 4,
    "start_time": "2022-05-05T12:28:17.936Z"
   },
   {
    "duration": 4,
    "start_time": "2022-05-05T12:28:20.097Z"
   },
   {
    "duration": 5,
    "start_time": "2022-05-05T12:33:26.890Z"
   },
   {
    "duration": 6,
    "start_time": "2022-05-05T12:34:54.428Z"
   },
   {
    "duration": 5,
    "start_time": "2022-05-05T12:34:57.723Z"
   },
   {
    "duration": 5,
    "start_time": "2022-05-05T12:35:27.826Z"
   },
   {
    "duration": 5,
    "start_time": "2022-05-05T12:36:12.193Z"
   },
   {
    "duration": 6,
    "start_time": "2022-05-05T12:36:16.110Z"
   },
   {
    "duration": 5,
    "start_time": "2022-05-05T12:36:19.718Z"
   },
   {
    "duration": 61,
    "start_time": "2022-05-05T12:37:59.205Z"
   },
   {
    "duration": 5,
    "start_time": "2022-05-05T12:38:07.675Z"
   },
   {
    "duration": 5,
    "start_time": "2022-05-05T13:42:52.862Z"
   },
   {
    "duration": 6,
    "start_time": "2022-05-05T13:43:10.681Z"
   },
   {
    "duration": 1544,
    "start_time": "2022-05-05T13:43:42.606Z"
   },
   {
    "duration": 1436,
    "start_time": "2022-05-05T13:43:53.899Z"
   },
   {
    "duration": 1665,
    "start_time": "2022-05-05T13:44:05.416Z"
   },
   {
    "duration": 64,
    "start_time": "2022-05-05T13:44:13.870Z"
   },
   {
    "duration": 21,
    "start_time": "2022-05-05T13:44:14.739Z"
   },
   {
    "duration": 3,
    "start_time": "2022-05-05T13:44:15.129Z"
   },
   {
    "duration": 4,
    "start_time": "2022-05-05T13:44:15.298Z"
   },
   {
    "duration": 4,
    "start_time": "2022-05-05T13:44:15.494Z"
   },
   {
    "duration": 4,
    "start_time": "2022-05-05T13:44:15.674Z"
   },
   {
    "duration": 3,
    "start_time": "2022-05-05T13:44:15.868Z"
   },
   {
    "duration": 4,
    "start_time": "2022-05-05T13:44:16.028Z"
   },
   {
    "duration": 4,
    "start_time": "2022-05-05T13:44:16.214Z"
   },
   {
    "duration": 4,
    "start_time": "2022-05-05T13:44:16.380Z"
   },
   {
    "duration": 4,
    "start_time": "2022-05-05T13:44:16.567Z"
   },
   {
    "duration": 4,
    "start_time": "2022-05-05T13:44:16.742Z"
   },
   {
    "duration": 4,
    "start_time": "2022-05-05T13:44:16.926Z"
   },
   {
    "duration": 5,
    "start_time": "2022-05-05T13:44:17.102Z"
   },
   {
    "duration": 11,
    "start_time": "2022-05-05T13:44:17.328Z"
   },
   {
    "duration": 6,
    "start_time": "2022-05-05T13:44:17.687Z"
   },
   {
    "duration": 29,
    "start_time": "2022-05-05T13:44:18.262Z"
   },
   {
    "duration": 4,
    "start_time": "2022-05-05T13:44:18.467Z"
   },
   {
    "duration": 5,
    "start_time": "2022-05-05T13:44:18.681Z"
   },
   {
    "duration": 4,
    "start_time": "2022-05-05T13:44:18.882Z"
   },
   {
    "duration": 20,
    "start_time": "2022-05-05T13:44:19.140Z"
   },
   {
    "duration": 6,
    "start_time": "2022-05-05T13:44:19.361Z"
   },
   {
    "duration": 4,
    "start_time": "2022-05-05T13:44:19.885Z"
   },
   {
    "duration": 8,
    "start_time": "2022-05-05T13:44:20.558Z"
   },
   {
    "duration": 4,
    "start_time": "2022-05-05T13:44:21.391Z"
   },
   {
    "duration": 11,
    "start_time": "2022-05-05T13:44:22.410Z"
   },
   {
    "duration": 4,
    "start_time": "2022-05-05T13:44:22.979Z"
   },
   {
    "duration": 5,
    "start_time": "2022-05-05T13:44:23.507Z"
   },
   {
    "duration": 9,
    "start_time": "2022-05-05T13:44:25.545Z"
   },
   {
    "duration": 6,
    "start_time": "2022-05-05T13:44:26.557Z"
   },
   {
    "duration": 4,
    "start_time": "2022-05-05T13:44:27.568Z"
   },
   {
    "duration": 7,
    "start_time": "2022-05-05T13:44:32.054Z"
   },
   {
    "duration": 7,
    "start_time": "2022-05-05T13:44:40.683Z"
   },
   {
    "duration": 6,
    "start_time": "2022-05-05T13:44:54.117Z"
   },
   {
    "duration": 6,
    "start_time": "2022-05-05T13:45:08.761Z"
   },
   {
    "duration": 8,
    "start_time": "2022-05-05T13:46:04.261Z"
   },
   {
    "duration": 5,
    "start_time": "2022-05-05T13:48:43.173Z"
   },
   {
    "duration": 14,
    "start_time": "2022-05-05T13:49:08.362Z"
   },
   {
    "duration": 14,
    "start_time": "2022-05-05T13:49:18.247Z"
   },
   {
    "duration": 10,
    "start_time": "2022-05-05T13:50:02.449Z"
   },
   {
    "duration": 6,
    "start_time": "2022-05-05T13:50:12.079Z"
   },
   {
    "duration": 7,
    "start_time": "2022-05-05T13:50:18.302Z"
   },
   {
    "duration": 11,
    "start_time": "2022-05-05T14:08:32.501Z"
   },
   {
    "duration": 5,
    "start_time": "2022-05-05T14:08:37.906Z"
   },
   {
    "duration": 5,
    "start_time": "2022-05-05T14:08:43.564Z"
   },
   {
    "duration": 1483,
    "start_time": "2022-05-05T14:08:56.599Z"
   },
   {
    "duration": 63,
    "start_time": "2022-05-05T14:09:06.649Z"
   },
   {
    "duration": 17,
    "start_time": "2022-05-05T14:09:08.791Z"
   },
   {
    "duration": 3,
    "start_time": "2022-05-05T14:09:09.114Z"
   },
   {
    "duration": 4,
    "start_time": "2022-05-05T14:09:09.290Z"
   },
   {
    "duration": 4,
    "start_time": "2022-05-05T14:09:09.450Z"
   },
   {
    "duration": 4,
    "start_time": "2022-05-05T14:09:09.770Z"
   },
   {
    "duration": 3,
    "start_time": "2022-05-05T14:09:09.947Z"
   },
   {
    "duration": 5,
    "start_time": "2022-05-05T14:09:10.121Z"
   },
   {
    "duration": 4,
    "start_time": "2022-05-05T14:09:10.275Z"
   },
   {
    "duration": 4,
    "start_time": "2022-05-05T14:09:10.450Z"
   },
   {
    "duration": 5,
    "start_time": "2022-05-05T14:09:10.628Z"
   },
   {
    "duration": 4,
    "start_time": "2022-05-05T14:09:10.788Z"
   },
   {
    "duration": 4,
    "start_time": "2022-05-05T14:09:10.961Z"
   },
   {
    "duration": 5,
    "start_time": "2022-05-05T14:09:11.117Z"
   },
   {
    "duration": 10,
    "start_time": "2022-05-05T14:09:11.309Z"
   },
   {
    "duration": 5,
    "start_time": "2022-05-05T14:09:11.646Z"
   },
   {
    "duration": 27,
    "start_time": "2022-05-05T14:09:12.075Z"
   },
   {
    "duration": 5,
    "start_time": "2022-05-05T14:09:12.212Z"
   },
   {
    "duration": 4,
    "start_time": "2022-05-05T14:09:12.398Z"
   },
   {
    "duration": 4,
    "start_time": "2022-05-05T14:09:12.588Z"
   },
   {
    "duration": 11,
    "start_time": "2022-05-05T14:09:12.780Z"
   },
   {
    "duration": 4,
    "start_time": "2022-05-05T14:09:12.964Z"
   },
   {
    "duration": 4,
    "start_time": "2022-05-05T14:09:13.157Z"
   },
   {
    "duration": 5,
    "start_time": "2022-05-05T14:09:13.351Z"
   },
   {
    "duration": 4,
    "start_time": "2022-05-05T14:09:13.536Z"
   },
   {
    "duration": 11,
    "start_time": "2022-05-05T14:09:13.742Z"
   },
   {
    "duration": 5,
    "start_time": "2022-05-05T14:09:13.910Z"
   },
   {
    "duration": 5,
    "start_time": "2022-05-05T14:09:14.128Z"
   },
   {
    "duration": 5,
    "start_time": "2022-05-05T14:09:14.333Z"
   },
   {
    "duration": 4,
    "start_time": "2022-05-05T14:09:14.591Z"
   },
   {
    "duration": 4,
    "start_time": "2022-05-05T14:09:14.791Z"
   },
   {
    "duration": 7,
    "start_time": "2022-05-05T14:09:15.046Z"
   },
   {
    "duration": 6,
    "start_time": "2022-05-05T14:09:16.302Z"
   },
   {
    "duration": 7,
    "start_time": "2022-05-05T14:09:17.840Z"
   },
   {
    "duration": 9,
    "start_time": "2022-05-05T14:09:27.061Z"
   },
   {
    "duration": 5,
    "start_time": "2022-05-05T14:09:37.962Z"
   },
   {
    "duration": 12,
    "start_time": "2022-05-05T14:09:56.249Z"
   },
   {
    "duration": 6,
    "start_time": "2022-05-05T14:10:02.577Z"
   },
   {
    "duration": 6,
    "start_time": "2022-05-05T14:22:37.499Z"
   },
   {
    "duration": 8,
    "start_time": "2022-05-05T14:23:53.306Z"
   },
   {
    "duration": 83,
    "start_time": "2022-05-05T14:23:55.802Z"
   },
   {
    "duration": 95,
    "start_time": "2022-05-05T14:24:09.253Z"
   },
   {
    "duration": 4,
    "start_time": "2022-05-05T14:24:24.830Z"
   },
   {
    "duration": 7,
    "start_time": "2022-05-05T14:25:10.983Z"
   },
   {
    "duration": 165,
    "start_time": "2022-05-05T14:25:31.662Z"
   },
   {
    "duration": 7,
    "start_time": "2022-05-05T14:25:36.858Z"
   },
   {
    "duration": 3,
    "start_time": "2022-05-05T14:26:29.877Z"
   },
   {
    "duration": 96,
    "start_time": "2022-05-05T14:27:06.805Z"
   },
   {
    "duration": 3,
    "start_time": "2022-05-05T14:27:10.520Z"
   },
   {
    "duration": 12,
    "start_time": "2022-05-05T14:28:58.493Z"
   },
   {
    "duration": 4,
    "start_time": "2022-05-05T14:29:05.689Z"
   },
   {
    "duration": 8,
    "start_time": "2022-05-05T14:29:50.005Z"
   },
   {
    "duration": 7,
    "start_time": "2022-05-05T14:30:07.941Z"
   },
   {
    "duration": 7,
    "start_time": "2022-05-05T14:33:59.945Z"
   },
   {
    "duration": 8,
    "start_time": "2022-05-05T14:34:03.381Z"
   },
   {
    "duration": 3,
    "start_time": "2022-05-05T14:34:06.095Z"
   },
   {
    "duration": 156,
    "start_time": "2022-05-05T14:35:39.685Z"
   },
   {
    "duration": 4,
    "start_time": "2022-05-05T14:35:43.985Z"
   },
   {
    "duration": 119,
    "start_time": "2022-05-05T14:35:58.765Z"
   },
   {
    "duration": 465,
    "start_time": "2022-05-05T14:36:08.213Z"
   },
   {
    "duration": 6,
    "start_time": "2022-05-05T14:44:11.352Z"
   },
   {
    "duration": 10,
    "start_time": "2022-05-05T14:45:39.529Z"
   },
   {
    "duration": 23,
    "start_time": "2022-05-05T14:46:00.970Z"
   },
   {
    "duration": 18,
    "start_time": "2022-05-05T14:46:55.596Z"
   },
   {
    "duration": 18,
    "start_time": "2022-05-05T14:48:34.904Z"
   },
   {
    "duration": 23,
    "start_time": "2022-05-05T14:49:00.915Z"
   },
   {
    "duration": 18,
    "start_time": "2022-05-05T14:49:39.145Z"
   },
   {
    "duration": 17,
    "start_time": "2022-05-05T14:51:14.429Z"
   },
   {
    "duration": 21,
    "start_time": "2022-05-05T14:51:19.171Z"
   },
   {
    "duration": 10,
    "start_time": "2022-05-05T14:51:40.100Z"
   },
   {
    "duration": 21,
    "start_time": "2022-05-05T14:52:05.512Z"
   },
   {
    "duration": 10,
    "start_time": "2022-05-05T14:52:12.537Z"
   },
   {
    "duration": 19,
    "start_time": "2022-05-05T14:52:26.712Z"
   },
   {
    "duration": 10,
    "start_time": "2022-05-05T14:52:57.452Z"
   },
   {
    "duration": 10,
    "start_time": "2022-05-05T14:53:01.820Z"
   },
   {
    "duration": 21,
    "start_time": "2022-05-05T14:53:08.015Z"
   },
   {
    "duration": 111,
    "start_time": "2022-05-05T14:53:34.367Z"
   },
   {
    "duration": 78,
    "start_time": "2022-05-05T14:53:45.571Z"
   },
   {
    "duration": 20,
    "start_time": "2022-05-05T14:54:05.001Z"
   },
   {
    "duration": 20,
    "start_time": "2022-05-05T14:54:25.078Z"
   },
   {
    "duration": 17,
    "start_time": "2022-05-05T14:55:04.382Z"
   },
   {
    "duration": 17,
    "start_time": "2022-05-05T14:55:37.008Z"
   },
   {
    "duration": 24,
    "start_time": "2022-05-05T14:56:01.467Z"
   },
   {
    "duration": 7,
    "start_time": "2022-05-05T14:57:10.127Z"
   },
   {
    "duration": 454,
    "start_time": "2022-05-05T14:59:04.875Z"
   },
   {
    "duration": 7,
    "start_time": "2022-05-05T16:21:16.630Z"
   },
   {
    "duration": 7,
    "start_time": "2022-05-05T16:21:39.591Z"
   },
   {
    "duration": 3,
    "start_time": "2022-05-05T16:21:58.289Z"
   },
   {
    "duration": 17,
    "start_time": "2022-05-05T16:23:09.217Z"
   },
   {
    "duration": 8,
    "start_time": "2022-05-05T16:25:12.804Z"
   },
   {
    "duration": 7,
    "start_time": "2022-05-05T16:29:38.671Z"
   },
   {
    "duration": 9,
    "start_time": "2022-05-05T16:44:34.261Z"
   },
   {
    "duration": 8,
    "start_time": "2022-05-05T16:45:52.154Z"
   },
   {
    "duration": 4,
    "start_time": "2022-05-05T16:50:38.296Z"
   },
   {
    "duration": 4,
    "start_time": "2022-05-05T16:50:43.267Z"
   },
   {
    "duration": 3,
    "start_time": "2022-05-05T16:50:49.310Z"
   },
   {
    "duration": 4,
    "start_time": "2022-05-05T16:51:38.444Z"
   },
   {
    "duration": 3,
    "start_time": "2022-05-05T16:51:38.933Z"
   },
   {
    "duration": 1240,
    "start_time": "2022-05-05T16:51:39.239Z"
   },
   {
    "duration": 0,
    "start_time": "2022-05-05T16:51:40.482Z"
   },
   {
    "duration": 0,
    "start_time": "2022-05-05T16:51:40.482Z"
   },
   {
    "duration": 0,
    "start_time": "2022-05-05T16:51:40.483Z"
   },
   {
    "duration": 0,
    "start_time": "2022-05-05T16:51:40.484Z"
   },
   {
    "duration": 0,
    "start_time": "2022-05-05T16:51:40.485Z"
   },
   {
    "duration": 0,
    "start_time": "2022-05-05T16:51:40.486Z"
   },
   {
    "duration": 0,
    "start_time": "2022-05-05T16:51:40.487Z"
   },
   {
    "duration": 5,
    "start_time": "2022-05-05T16:51:44.636Z"
   },
   {
    "duration": 1322,
    "start_time": "2022-05-05T16:51:47.149Z"
   },
   {
    "duration": 0,
    "start_time": "2022-05-05T16:51:48.473Z"
   },
   {
    "duration": 1363,
    "start_time": "2022-05-05T16:52:00.232Z"
   },
   {
    "duration": 62,
    "start_time": "2022-05-05T16:52:07.654Z"
   },
   {
    "duration": 16,
    "start_time": "2022-05-05T16:52:08.763Z"
   },
   {
    "duration": 4,
    "start_time": "2022-05-05T16:52:09.131Z"
   },
   {
    "duration": 20,
    "start_time": "2022-05-05T16:52:09.318Z"
   },
   {
    "duration": 28,
    "start_time": "2022-05-05T16:52:09.485Z"
   },
   {
    "duration": 26,
    "start_time": "2022-05-05T16:52:09.647Z"
   },
   {
    "duration": 19,
    "start_time": "2022-05-05T16:52:09.819Z"
   },
   {
    "duration": 19,
    "start_time": "2022-05-05T16:52:09.992Z"
   },
   {
    "duration": 23,
    "start_time": "2022-05-05T16:52:10.183Z"
   },
   {
    "duration": 21,
    "start_time": "2022-05-05T16:52:10.365Z"
   },
   {
    "duration": 17,
    "start_time": "2022-05-05T16:52:10.719Z"
   },
   {
    "duration": 19,
    "start_time": "2022-05-05T16:52:10.891Z"
   },
   {
    "duration": 27,
    "start_time": "2022-05-05T16:52:11.164Z"
   },
   {
    "duration": 4,
    "start_time": "2022-05-05T16:52:11.390Z"
   },
   {
    "duration": 4,
    "start_time": "2022-05-05T16:52:11.966Z"
   },
   {
    "duration": 4,
    "start_time": "2022-05-05T16:52:13.091Z"
   },
   {
    "duration": 3,
    "start_time": "2022-05-05T16:52:14.166Z"
   },
   {
    "duration": 5,
    "start_time": "2022-05-05T16:52:15.504Z"
   },
   {
    "duration": 4,
    "start_time": "2022-05-05T16:52:16.594Z"
   },
   {
    "duration": 6,
    "start_time": "2022-05-05T16:52:17.409Z"
   },
   {
    "duration": 4,
    "start_time": "2022-05-05T16:52:23.448Z"
   },
   {
    "duration": 4,
    "start_time": "2022-05-05T16:52:24.390Z"
   },
   {
    "duration": 4,
    "start_time": "2022-05-05T16:52:25.147Z"
   },
   {
    "duration": 4,
    "start_time": "2022-05-05T16:52:26.050Z"
   },
   {
    "duration": 4,
    "start_time": "2022-05-05T16:52:26.796Z"
   },
   {
    "duration": 7,
    "start_time": "2022-05-05T16:52:28.017Z"
   },
   {
    "duration": 5,
    "start_time": "2022-05-05T16:52:31.737Z"
   },
   {
    "duration": 10,
    "start_time": "2022-05-05T16:52:32.633Z"
   },
   {
    "duration": 5,
    "start_time": "2022-05-05T16:52:36.311Z"
   },
   {
    "duration": 26,
    "start_time": "2022-05-05T16:52:40.780Z"
   },
   {
    "duration": 4,
    "start_time": "2022-05-05T16:52:47.190Z"
   },
   {
    "duration": 6,
    "start_time": "2022-05-05T16:52:50.061Z"
   },
   {
    "duration": 5,
    "start_time": "2022-05-05T16:52:54.255Z"
   },
   {
    "duration": 12,
    "start_time": "2022-05-05T16:52:55.014Z"
   },
   {
    "duration": 6,
    "start_time": "2022-05-05T16:52:56.509Z"
   },
   {
    "duration": 5,
    "start_time": "2022-05-05T16:52:59.171Z"
   },
   {
    "duration": 6,
    "start_time": "2022-05-05T16:52:59.722Z"
   },
   {
    "duration": 5,
    "start_time": "2022-05-05T16:53:02.066Z"
   },
   {
    "duration": 11,
    "start_time": "2022-05-05T16:53:02.730Z"
   },
   {
    "duration": 5,
    "start_time": "2022-05-05T16:53:03.702Z"
   },
   {
    "duration": 6,
    "start_time": "2022-05-05T16:53:04.564Z"
   },
   {
    "duration": 5,
    "start_time": "2022-05-05T16:53:05.471Z"
   },
   {
    "duration": 4,
    "start_time": "2022-05-05T16:53:07.506Z"
   },
   {
    "duration": 4,
    "start_time": "2022-05-05T16:53:08.330Z"
   },
   {
    "duration": 6,
    "start_time": "2022-05-05T16:53:12.472Z"
   },
   {
    "duration": 5,
    "start_time": "2022-05-05T16:53:17.675Z"
   },
   {
    "duration": 6,
    "start_time": "2022-05-05T16:53:18.421Z"
   },
   {
    "duration": 7,
    "start_time": "2022-05-05T16:53:19.304Z"
   },
   {
    "duration": 5,
    "start_time": "2022-05-05T16:53:22.098Z"
   },
   {
    "duration": 6,
    "start_time": "2022-05-05T16:53:22.708Z"
   },
   {
    "duration": 21,
    "start_time": "2022-05-05T16:53:24.201Z"
   },
   {
    "duration": 8,
    "start_time": "2022-05-05T16:53:26.597Z"
   },
   {
    "duration": 77,
    "start_time": "2022-05-05T16:58:57.652Z"
   },
   {
    "duration": 16,
    "start_time": "2022-05-05T16:59:36.319Z"
   },
   {
    "duration": 10,
    "start_time": "2022-05-05T17:01:09.640Z"
   },
   {
    "duration": 7,
    "start_time": "2022-05-05T17:18:39.823Z"
   },
   {
    "duration": 7,
    "start_time": "2022-05-05T17:19:05.298Z"
   },
   {
    "duration": 7,
    "start_time": "2022-05-05T17:19:07.637Z"
   },
   {
    "duration": 4,
    "start_time": "2022-05-05T17:22:21.377Z"
   },
   {
    "duration": 4,
    "start_time": "2022-05-05T17:22:32.688Z"
   },
   {
    "duration": 8,
    "start_time": "2022-05-05T17:40:07.424Z"
   },
   {
    "duration": 4,
    "start_time": "2022-05-05T17:40:58.527Z"
   },
   {
    "duration": 8,
    "start_time": "2022-05-05T17:41:32.427Z"
   },
   {
    "duration": 3,
    "start_time": "2022-05-05T17:41:36.238Z"
   },
   {
    "duration": 10,
    "start_time": "2022-05-05T17:46:02.370Z"
   },
   {
    "duration": 80,
    "start_time": "2022-05-05T17:55:56.590Z"
   },
   {
    "duration": 4,
    "start_time": "2022-05-05T18:05:01.433Z"
   },
   {
    "duration": 1384,
    "start_time": "2022-05-07T15:17:35.700Z"
   },
   {
    "duration": 97,
    "start_time": "2022-05-07T15:17:37.087Z"
   },
   {
    "duration": 106,
    "start_time": "2022-05-07T15:17:37.186Z"
   },
   {
    "duration": 6,
    "start_time": "2022-05-07T15:17:37.297Z"
   },
   {
    "duration": 115,
    "start_time": "2022-05-07T15:17:37.307Z"
   },
   {
    "duration": 176,
    "start_time": "2022-05-07T15:17:37.425Z"
   },
   {
    "duration": 115,
    "start_time": "2022-05-07T15:17:37.604Z"
   },
   {
    "duration": 89,
    "start_time": "2022-05-07T15:17:37.722Z"
   },
   {
    "duration": 95,
    "start_time": "2022-05-07T15:17:37.813Z"
   },
   {
    "duration": 94,
    "start_time": "2022-05-07T15:17:37.915Z"
   },
   {
    "duration": 112,
    "start_time": "2022-05-07T15:17:38.011Z"
   },
   {
    "duration": 91,
    "start_time": "2022-05-07T15:17:38.126Z"
   },
   {
    "duration": 103,
    "start_time": "2022-05-07T15:17:38.283Z"
   },
   {
    "duration": 96,
    "start_time": "2022-05-07T15:17:38.388Z"
   },
   {
    "duration": 8,
    "start_time": "2022-05-07T15:17:38.487Z"
   },
   {
    "duration": 6,
    "start_time": "2022-05-07T15:17:38.497Z"
   },
   {
    "duration": 10,
    "start_time": "2022-05-07T15:17:38.505Z"
   },
   {
    "duration": 7,
    "start_time": "2022-05-07T15:17:38.517Z"
   },
   {
    "duration": 59,
    "start_time": "2022-05-07T15:17:38.526Z"
   },
   {
    "duration": 6,
    "start_time": "2022-05-07T15:17:38.588Z"
   },
   {
    "duration": 9,
    "start_time": "2022-05-07T15:17:38.597Z"
   },
   {
    "duration": 7,
    "start_time": "2022-05-07T15:17:38.608Z"
   },
   {
    "duration": 7,
    "start_time": "2022-05-07T15:17:38.618Z"
   },
   {
    "duration": 56,
    "start_time": "2022-05-07T15:17:38.628Z"
   },
   {
    "duration": 6,
    "start_time": "2022-05-07T15:17:38.686Z"
   },
   {
    "duration": 8,
    "start_time": "2022-05-07T15:17:38.694Z"
   },
   {
    "duration": 12,
    "start_time": "2022-05-07T15:17:38.704Z"
   },
   {
    "duration": 8,
    "start_time": "2022-05-07T15:17:38.723Z"
   },
   {
    "duration": 21,
    "start_time": "2022-05-07T15:17:38.789Z"
   },
   {
    "duration": 8,
    "start_time": "2022-05-07T15:17:38.812Z"
   },
   {
    "duration": 93,
    "start_time": "2022-05-07T15:17:38.823Z"
   },
   {
    "duration": 7,
    "start_time": "2022-05-07T15:17:38.919Z"
   },
   {
    "duration": 8,
    "start_time": "2022-05-07T15:17:38.929Z"
   },
   {
    "duration": 9,
    "start_time": "2022-05-07T15:17:38.940Z"
   },
   {
    "duration": 23,
    "start_time": "2022-05-07T15:17:38.982Z"
   },
   {
    "duration": 13,
    "start_time": "2022-05-07T15:17:39.008Z"
   },
   {
    "duration": 7,
    "start_time": "2022-05-07T15:17:39.024Z"
   },
   {
    "duration": 49,
    "start_time": "2022-05-07T15:17:39.034Z"
   },
   {
    "duration": 8,
    "start_time": "2022-05-07T15:17:39.086Z"
   },
   {
    "duration": 17,
    "start_time": "2022-05-07T15:17:39.097Z"
   },
   {
    "duration": 6,
    "start_time": "2022-05-07T15:17:39.117Z"
   },
   {
    "duration": 11,
    "start_time": "2022-05-07T15:17:39.125Z"
   },
   {
    "duration": 49,
    "start_time": "2022-05-07T15:17:39.138Z"
   },
   {
    "duration": 8,
    "start_time": "2022-05-07T15:17:39.190Z"
   },
   {
    "duration": 7,
    "start_time": "2022-05-07T15:17:39.200Z"
   },
   {
    "duration": 9,
    "start_time": "2022-05-07T15:17:39.210Z"
   },
   {
    "duration": 62,
    "start_time": "2022-05-07T15:17:39.222Z"
   },
   {
    "duration": 8,
    "start_time": "2022-05-07T15:17:39.287Z"
   },
   {
    "duration": 14,
    "start_time": "2022-05-07T15:17:39.297Z"
   },
   {
    "duration": 13,
    "start_time": "2022-05-07T15:17:39.314Z"
   },
   {
    "duration": 10,
    "start_time": "2022-05-07T15:17:39.330Z"
   },
   {
    "duration": 47,
    "start_time": "2022-05-07T15:17:39.383Z"
   },
   {
    "duration": 18,
    "start_time": "2022-05-07T15:17:39.433Z"
   },
   {
    "duration": 180,
    "start_time": "2022-05-07T15:17:39.481Z"
   },
   {
    "duration": 0,
    "start_time": "2022-05-07T15:17:39.664Z"
   },
   {
    "duration": 0,
    "start_time": "2022-05-07T15:17:39.666Z"
   },
   {
    "duration": 2333,
    "start_time": "2022-05-07T16:00:03.413Z"
   },
   {
    "duration": 42,
    "start_time": "2022-05-07T16:00:05.748Z"
   },
   {
    "duration": 36,
    "start_time": "2022-05-07T16:00:05.794Z"
   },
   {
    "duration": 6,
    "start_time": "2022-05-07T16:00:05.832Z"
   },
   {
    "duration": 72,
    "start_time": "2022-05-07T16:00:05.840Z"
   },
   {
    "duration": 42,
    "start_time": "2022-05-07T16:00:05.914Z"
   },
   {
    "duration": 86,
    "start_time": "2022-05-07T16:00:05.958Z"
   },
   {
    "duration": 66,
    "start_time": "2022-05-07T16:00:06.047Z"
   },
   {
    "duration": 41,
    "start_time": "2022-05-07T16:00:06.116Z"
   },
   {
    "duration": 64,
    "start_time": "2022-05-07T16:00:06.160Z"
   },
   {
    "duration": 63,
    "start_time": "2022-05-07T16:00:06.226Z"
   },
   {
    "duration": 32,
    "start_time": "2022-05-07T16:00:06.293Z"
   },
   {
    "duration": 55,
    "start_time": "2022-05-07T16:00:06.327Z"
   },
   {
    "duration": 54,
    "start_time": "2022-05-07T16:00:06.386Z"
   },
   {
    "duration": 6,
    "start_time": "2022-05-07T16:00:06.447Z"
   },
   {
    "duration": 31,
    "start_time": "2022-05-07T16:00:06.456Z"
   },
   {
    "duration": 16,
    "start_time": "2022-05-07T16:00:06.491Z"
   },
   {
    "duration": 6,
    "start_time": "2022-05-07T16:00:06.510Z"
   },
   {
    "duration": 11,
    "start_time": "2022-05-07T16:00:06.518Z"
   },
   {
    "duration": 24,
    "start_time": "2022-05-07T16:00:06.531Z"
   },
   {
    "duration": 51,
    "start_time": "2022-05-07T16:00:06.558Z"
   },
   {
    "duration": 7,
    "start_time": "2022-05-07T16:00:06.612Z"
   },
   {
    "duration": 11,
    "start_time": "2022-05-07T16:00:06.622Z"
   },
   {
    "duration": 11,
    "start_time": "2022-05-07T16:00:06.635Z"
   },
   {
    "duration": 9,
    "start_time": "2022-05-07T16:00:06.649Z"
   },
   {
    "duration": 23,
    "start_time": "2022-05-07T16:00:06.660Z"
   },
   {
    "duration": 30,
    "start_time": "2022-05-07T16:00:06.685Z"
   },
   {
    "duration": 12,
    "start_time": "2022-05-07T16:00:06.718Z"
   },
   {
    "duration": 30,
    "start_time": "2022-05-07T16:00:06.733Z"
   },
   {
    "duration": 23,
    "start_time": "2022-05-07T16:00:06.765Z"
   },
   {
    "duration": 83,
    "start_time": "2022-05-07T16:00:06.791Z"
   },
   {
    "duration": 7,
    "start_time": "2022-05-07T16:00:06.877Z"
   },
   {
    "duration": 32,
    "start_time": "2022-05-07T16:00:06.887Z"
   },
   {
    "duration": 6,
    "start_time": "2022-05-07T16:00:06.922Z"
   },
   {
    "duration": 17,
    "start_time": "2022-05-07T16:00:06.930Z"
   },
   {
    "duration": 7,
    "start_time": "2022-05-07T16:00:06.950Z"
   },
   {
    "duration": 29,
    "start_time": "2022-05-07T16:00:06.959Z"
   },
   {
    "duration": 24,
    "start_time": "2022-05-07T16:00:06.991Z"
   },
   {
    "duration": 12,
    "start_time": "2022-05-07T16:00:07.017Z"
   },
   {
    "duration": 16,
    "start_time": "2022-05-07T16:00:07.032Z"
   },
   {
    "duration": 32,
    "start_time": "2022-05-07T16:00:07.050Z"
   },
   {
    "duration": 35,
    "start_time": "2022-05-07T16:00:07.085Z"
   },
   {
    "duration": 14,
    "start_time": "2022-05-07T16:00:07.122Z"
   },
   {
    "duration": 7,
    "start_time": "2022-05-07T16:00:07.139Z"
   },
   {
    "duration": 6,
    "start_time": "2022-05-07T16:00:07.148Z"
   },
   {
    "duration": 26,
    "start_time": "2022-05-07T16:00:07.156Z"
   },
   {
    "duration": 20,
    "start_time": "2022-05-07T16:00:07.185Z"
   },
   {
    "duration": 12,
    "start_time": "2022-05-07T16:00:07.208Z"
   },
   {
    "duration": 12,
    "start_time": "2022-05-07T16:00:07.223Z"
   },
   {
    "duration": 12,
    "start_time": "2022-05-07T16:00:07.237Z"
   },
   {
    "duration": 17,
    "start_time": "2022-05-07T16:00:07.283Z"
   },
   {
    "duration": 38,
    "start_time": "2022-05-07T16:00:07.303Z"
   },
   {
    "duration": 11,
    "start_time": "2022-05-07T16:00:07.343Z"
   },
   {
    "duration": 151,
    "start_time": "2022-05-07T16:00:07.356Z"
   },
   {
    "duration": 0,
    "start_time": "2022-05-07T16:00:07.509Z"
   },
   {
    "duration": 0,
    "start_time": "2022-05-07T16:00:07.511Z"
   },
   {
    "duration": 8,
    "start_time": "2022-05-07T16:12:01.932Z"
   },
   {
    "duration": 2282,
    "start_time": "2022-05-10T11:03:36.465Z"
   },
   {
    "duration": 145,
    "start_time": "2022-05-10T11:04:17.175Z"
   },
   {
    "duration": 28,
    "start_time": "2022-05-10T11:04:19.143Z"
   },
   {
    "duration": 105,
    "start_time": "2022-05-10T11:05:18.117Z"
   },
   {
    "duration": 28,
    "start_time": "2022-05-10T11:05:20.482Z"
   },
   {
    "duration": 111,
    "start_time": "2022-05-10T11:05:34.128Z"
   },
   {
    "duration": 86,
    "start_time": "2022-05-10T11:05:52.612Z"
   },
   {
    "duration": 37,
    "start_time": "2022-05-10T11:10:21.763Z"
   },
   {
    "duration": 23,
    "start_time": "2022-05-10T11:10:26.028Z"
   },
   {
    "duration": 28,
    "start_time": "2022-05-10T11:11:10.224Z"
   },
   {
    "duration": 26,
    "start_time": "2022-05-10T11:11:28.578Z"
   },
   {
    "duration": 25,
    "start_time": "2022-05-10T11:11:34.372Z"
   },
   {
    "duration": 36,
    "start_time": "2022-05-10T11:12:34.441Z"
   },
   {
    "duration": 26,
    "start_time": "2022-05-10T11:14:31.234Z"
   },
   {
    "duration": 35,
    "start_time": "2022-05-10T11:15:32.070Z"
   },
   {
    "duration": 16,
    "start_time": "2022-05-10T11:16:10.577Z"
   },
   {
    "duration": 14,
    "start_time": "2022-05-10T11:16:18.831Z"
   },
   {
    "duration": 50,
    "start_time": "2022-05-10T11:32:15.807Z"
   },
   {
    "duration": 52,
    "start_time": "2022-05-10T13:05:29.840Z"
   },
   {
    "duration": 15,
    "start_time": "2022-05-10T13:08:51.408Z"
   },
   {
    "duration": 40,
    "start_time": "2022-05-10T13:09:14.596Z"
   },
   {
    "duration": 86,
    "start_time": "2022-05-10T13:18:12.213Z"
   },
   {
    "duration": 16,
    "start_time": "2022-05-10T13:20:01.384Z"
   },
   {
    "duration": 7,
    "start_time": "2022-05-10T13:20:25.020Z"
   },
   {
    "duration": 7,
    "start_time": "2022-05-10T13:20:42.960Z"
   },
   {
    "duration": 22,
    "start_time": "2022-05-10T13:23:19.478Z"
   },
   {
    "duration": 46,
    "start_time": "2022-05-10T13:23:25.998Z"
   },
   {
    "duration": 27,
    "start_time": "2022-05-10T13:24:51.377Z"
   },
   {
    "duration": 44,
    "start_time": "2022-05-10T13:25:03.980Z"
   },
   {
    "duration": 42,
    "start_time": "2022-05-10T13:25:29.356Z"
   },
   {
    "duration": 38,
    "start_time": "2022-05-10T13:25:50.422Z"
   },
   {
    "duration": 25,
    "start_time": "2022-05-10T13:26:24.048Z"
   },
   {
    "duration": 19,
    "start_time": "2022-05-10T13:26:55.366Z"
   },
   {
    "duration": 35,
    "start_time": "2022-05-10T13:27:29.335Z"
   },
   {
    "duration": 6,
    "start_time": "2022-05-10T13:36:01.714Z"
   },
   {
    "duration": 49,
    "start_time": "2022-05-10T13:47:48.017Z"
   },
   {
    "duration": 152,
    "start_time": "2022-05-10T13:53:06.293Z"
   },
   {
    "duration": 133,
    "start_time": "2022-05-10T13:53:16.700Z"
   },
   {
    "duration": 87,
    "start_time": "2022-05-10T14:18:53.078Z"
   },
   {
    "duration": 175,
    "start_time": "2022-05-10T14:36:12.585Z"
   },
   {
    "duration": 13,
    "start_time": "2022-05-10T14:36:20.514Z"
   },
   {
    "duration": 15,
    "start_time": "2022-05-10T14:38:00.584Z"
   },
   {
    "duration": 14,
    "start_time": "2022-05-10T14:38:06.184Z"
   },
   {
    "duration": 124,
    "start_time": "2022-05-10T14:45:20.701Z"
   },
   {
    "duration": 89,
    "start_time": "2022-05-10T14:46:01.129Z"
   },
   {
    "duration": 24,
    "start_time": "2022-05-10T14:57:42.778Z"
   },
   {
    "duration": 19,
    "start_time": "2022-05-10T14:57:57.585Z"
   },
   {
    "duration": 21,
    "start_time": "2022-05-10T14:58:28.615Z"
   },
   {
    "duration": 29,
    "start_time": "2022-05-10T14:59:21.392Z"
   },
   {
    "duration": 23,
    "start_time": "2022-05-10T14:59:23.740Z"
   },
   {
    "duration": 44,
    "start_time": "2022-05-10T14:59:27.306Z"
   },
   {
    "duration": 25,
    "start_time": "2022-05-10T14:59:50.067Z"
   },
   {
    "duration": 134,
    "start_time": "2022-05-10T15:02:18.981Z"
   },
   {
    "duration": 6,
    "start_time": "2022-05-10T15:02:26.208Z"
   },
   {
    "duration": 64,
    "start_time": "2022-05-10T15:03:12.272Z"
   },
   {
    "duration": 5,
    "start_time": "2022-05-10T15:04:22.016Z"
   },
   {
    "duration": 46,
    "start_time": "2022-05-10T15:04:24.176Z"
   },
   {
    "duration": 20,
    "start_time": "2022-05-10T15:05:36.125Z"
   },
   {
    "duration": 47,
    "start_time": "2022-05-10T15:05:40.156Z"
   },
   {
    "duration": 26,
    "start_time": "2022-05-10T15:06:58.365Z"
   },
   {
    "duration": 20,
    "start_time": "2022-05-10T15:08:27.826Z"
   },
   {
    "duration": 15,
    "start_time": "2022-05-10T15:14:27.528Z"
   },
   {
    "duration": 19,
    "start_time": "2022-05-10T15:14:32.932Z"
   },
   {
    "duration": 6,
    "start_time": "2022-05-10T15:14:46.987Z"
   },
   {
    "duration": 5,
    "start_time": "2022-05-10T15:16:18.998Z"
   },
   {
    "duration": 6,
    "start_time": "2022-05-10T15:16:24.399Z"
   },
   {
    "duration": 45,
    "start_time": "2022-05-10T15:24:00.767Z"
   },
   {
    "duration": 55,
    "start_time": "2022-05-10T17:52:17.539Z"
   },
   {
    "duration": 7,
    "start_time": "2022-05-10T17:53:20.943Z"
   },
   {
    "duration": 6,
    "start_time": "2022-05-10T17:53:47.599Z"
   },
   {
    "duration": 1427,
    "start_time": "2022-05-10T17:54:26.876Z"
   },
   {
    "duration": 36,
    "start_time": "2022-05-10T17:54:28.305Z"
   },
   {
    "duration": 18,
    "start_time": "2022-05-10T17:54:31.781Z"
   },
   {
    "duration": 10,
    "start_time": "2022-05-10T17:54:32.536Z"
   },
   {
    "duration": 4,
    "start_time": "2022-05-10T17:54:36.686Z"
   },
   {
    "duration": 5,
    "start_time": "2022-05-10T17:54:37.519Z"
   },
   {
    "duration": 3,
    "start_time": "2022-05-10T17:54:38.995Z"
   },
   {
    "duration": 32,
    "start_time": "2022-05-10T17:54:45.803Z"
   },
   {
    "duration": 24,
    "start_time": "2022-05-10T17:54:49.184Z"
   },
   {
    "duration": 5,
    "start_time": "2022-05-10T17:54:51.114Z"
   },
   {
    "duration": 6,
    "start_time": "2022-05-10T17:55:45.244Z"
   },
   {
    "duration": 26,
    "start_time": "2022-05-10T17:56:56.605Z"
   },
   {
    "duration": 6,
    "start_time": "2022-05-10T17:57:50.438Z"
   },
   {
    "duration": 6,
    "start_time": "2022-05-10T17:57:53.064Z"
   },
   {
    "duration": 16,
    "start_time": "2022-05-10T17:58:10.473Z"
   },
   {
    "duration": 8,
    "start_time": "2022-05-10T17:58:42.500Z"
   },
   {
    "duration": 31,
    "start_time": "2022-05-10T17:59:02.552Z"
   },
   {
    "duration": 29,
    "start_time": "2022-05-10T17:59:37.028Z"
   },
   {
    "duration": 11,
    "start_time": "2022-05-10T18:00:27.237Z"
   },
   {
    "duration": 21,
    "start_time": "2022-05-10T18:01:42.477Z"
   },
   {
    "duration": 21,
    "start_time": "2022-05-10T18:05:39.806Z"
   },
   {
    "duration": 22,
    "start_time": "2022-05-10T18:05:47.679Z"
   },
   {
    "duration": 5,
    "start_time": "2022-05-10T18:12:06.938Z"
   },
   {
    "duration": 65,
    "start_time": "2022-05-10T18:12:36.019Z"
   },
   {
    "duration": 7,
    "start_time": "2022-05-10T18:13:52.922Z"
   },
   {
    "duration": 8,
    "start_time": "2022-05-10T18:14:10.871Z"
   },
   {
    "duration": 7,
    "start_time": "2022-05-10T18:14:28.655Z"
   },
   {
    "duration": 8,
    "start_time": "2022-05-10T18:14:31.919Z"
   },
   {
    "duration": 23,
    "start_time": "2022-05-10T18:14:58.251Z"
   },
   {
    "duration": 7,
    "start_time": "2022-05-10T18:15:35.040Z"
   },
   {
    "duration": 21,
    "start_time": "2022-05-10T18:15:43.194Z"
   },
   {
    "duration": 7,
    "start_time": "2022-05-10T18:17:02.696Z"
   },
   {
    "duration": 21,
    "start_time": "2022-05-10T18:17:03.643Z"
   },
   {
    "duration": 7,
    "start_time": "2022-05-10T18:17:05.735Z"
   },
   {
    "duration": 18,
    "start_time": "2022-05-10T18:17:22.835Z"
   },
   {
    "duration": 20,
    "start_time": "2022-05-10T18:17:34.212Z"
   },
   {
    "duration": 30,
    "start_time": "2022-05-10T18:17:48.159Z"
   },
   {
    "duration": 21,
    "start_time": "2022-05-10T18:17:54.789Z"
   },
   {
    "duration": 14,
    "start_time": "2022-05-10T18:21:42.187Z"
   },
   {
    "duration": 14,
    "start_time": "2022-05-10T18:21:54.052Z"
   },
   {
    "duration": 22,
    "start_time": "2022-05-10T18:21:56.600Z"
   },
   {
    "duration": 17,
    "start_time": "2022-05-10T18:28:48.880Z"
   },
   {
    "duration": 25,
    "start_time": "2022-05-10T18:29:03.235Z"
   },
   {
    "duration": 36,
    "start_time": "2022-05-10T18:29:04.113Z"
   },
   {
    "duration": 30,
    "start_time": "2022-05-10T18:29:52.685Z"
   },
   {
    "duration": 22,
    "start_time": "2022-05-10T18:30:00.427Z"
   },
   {
    "duration": 24,
    "start_time": "2022-05-10T18:30:04.295Z"
   },
   {
    "duration": 23,
    "start_time": "2022-05-10T18:30:12.612Z"
   },
   {
    "duration": 22,
    "start_time": "2022-05-10T18:30:16.527Z"
   },
   {
    "duration": 67,
    "start_time": "2022-05-10T18:30:25.083Z"
   },
   {
    "duration": 43,
    "start_time": "2022-05-10T18:30:25.236Z"
   },
   {
    "duration": 25,
    "start_time": "2022-05-10T18:30:25.545Z"
   },
   {
    "duration": 16,
    "start_time": "2022-05-10T18:30:25.717Z"
   },
   {
    "duration": 4,
    "start_time": "2022-05-10T18:30:26.672Z"
   },
   {
    "duration": 5,
    "start_time": "2022-05-10T18:30:26.862Z"
   },
   {
    "duration": 4,
    "start_time": "2022-05-10T18:30:27.055Z"
   },
   {
    "duration": 31,
    "start_time": "2022-05-10T18:30:29.051Z"
   },
   {
    "duration": 23,
    "start_time": "2022-05-10T18:30:40.596Z"
   },
   {
    "duration": 22,
    "start_time": "2022-05-10T18:30:51.141Z"
   },
   {
    "duration": 105,
    "start_time": "2022-05-10T18:32:39.654Z"
   },
   {
    "duration": 88,
    "start_time": "2022-05-10T18:32:52.886Z"
   },
   {
    "duration": 4,
    "start_time": "2022-05-10T18:33:07.726Z"
   },
   {
    "duration": 1463,
    "start_time": "2022-05-10T18:33:15.387Z"
   },
   {
    "duration": 5,
    "start_time": "2022-05-10T18:33:32.736Z"
   },
   {
    "duration": 25,
    "start_time": "2022-05-10T18:33:35.602Z"
   },
   {
    "duration": 1600,
    "start_time": "2022-05-10T18:33:50.045Z"
   },
   {
    "duration": 0,
    "start_time": "2022-05-10T18:33:51.647Z"
   },
   {
    "duration": 35,
    "start_time": "2022-05-10T18:33:58.893Z"
   },
   {
    "duration": 4,
    "start_time": "2022-05-10T18:35:07.700Z"
   },
   {
    "duration": 4,
    "start_time": "2022-05-10T18:35:12.882Z"
   },
   {
    "duration": 7,
    "start_time": "2022-05-10T18:35:52.101Z"
   },
   {
    "duration": 22,
    "start_time": "2022-05-10T18:36:02.374Z"
   },
   {
    "duration": 9,
    "start_time": "2022-05-10T18:57:51.926Z"
   },
   {
    "duration": 26,
    "start_time": "2022-05-10T18:57:58.581Z"
   },
   {
    "duration": 26,
    "start_time": "2022-05-10T18:58:15.408Z"
   },
   {
    "duration": 30,
    "start_time": "2022-05-10T19:00:09.843Z"
   },
   {
    "duration": 28,
    "start_time": "2022-05-10T19:00:37.335Z"
   },
   {
    "duration": 5,
    "start_time": "2022-05-10T19:01:16.223Z"
   },
   {
    "duration": 25,
    "start_time": "2022-05-10T19:02:08.409Z"
   },
   {
    "duration": 5,
    "start_time": "2022-05-10T19:02:16.263Z"
   },
   {
    "duration": 87,
    "start_time": "2022-05-10T19:02:26.852Z"
   },
   {
    "duration": 33,
    "start_time": "2022-05-10T19:02:27.023Z"
   },
   {
    "duration": 17,
    "start_time": "2022-05-10T19:02:27.467Z"
   },
   {
    "duration": 10,
    "start_time": "2022-05-10T19:02:28.508Z"
   },
   {
    "duration": 3,
    "start_time": "2022-05-10T19:02:31.753Z"
   },
   {
    "duration": 4,
    "start_time": "2022-05-10T19:02:32.522Z"
   },
   {
    "duration": 32,
    "start_time": "2022-05-10T19:02:36.830Z"
   },
   {
    "duration": 21,
    "start_time": "2022-05-10T19:02:45.385Z"
   },
   {
    "duration": 24,
    "start_time": "2022-05-10T19:22:15.077Z"
   },
   {
    "duration": 31,
    "start_time": "2022-05-10T19:23:01.097Z"
   },
   {
    "duration": 38,
    "start_time": "2022-05-10T19:27:25.792Z"
   },
   {
    "duration": 20,
    "start_time": "2022-05-10T19:28:40.787Z"
   },
   {
    "duration": 8,
    "start_time": "2022-05-10T19:29:25.457Z"
   },
   {
    "duration": 12,
    "start_time": "2022-05-10T19:33:46.862Z"
   },
   {
    "duration": 23,
    "start_time": "2022-05-10T19:36:16.268Z"
   },
   {
    "duration": 31,
    "start_time": "2022-05-10T19:36:31.122Z"
   },
   {
    "duration": 5,
    "start_time": "2022-05-10T19:37:52.209Z"
   },
   {
    "duration": 4,
    "start_time": "2022-05-10T19:37:55.062Z"
   },
   {
    "duration": 6,
    "start_time": "2022-05-10T19:38:15.031Z"
   },
   {
    "duration": 26,
    "start_time": "2022-05-10T19:50:12.585Z"
   },
   {
    "duration": 17,
    "start_time": "2022-05-10T19:50:15.901Z"
   },
   {
    "duration": 31,
    "start_time": "2022-05-10T19:50:32.007Z"
   },
   {
    "duration": 35,
    "start_time": "2022-05-10T19:50:49.565Z"
   },
   {
    "duration": 5,
    "start_time": "2022-05-10T19:54:27.384Z"
   },
   {
    "duration": 9,
    "start_time": "2022-05-10T19:56:36.885Z"
   },
   {
    "duration": 30,
    "start_time": "2022-05-10T19:56:43.613Z"
   },
   {
    "duration": 7,
    "start_time": "2022-05-10T19:56:58.536Z"
   },
   {
    "duration": 4,
    "start_time": "2022-05-10T19:59:34.607Z"
   },
   {
    "duration": 4,
    "start_time": "2022-05-10T19:59:36.257Z"
   },
   {
    "duration": 5,
    "start_time": "2022-05-10T19:59:54.893Z"
   },
   {
    "duration": 4,
    "start_time": "2022-05-10T20:01:48.052Z"
   },
   {
    "duration": 9,
    "start_time": "2022-05-10T20:03:58.178Z"
   },
   {
    "duration": 4,
    "start_time": "2022-05-10T20:07:39.966Z"
   },
   {
    "duration": 10,
    "start_time": "2022-05-10T20:08:09.652Z"
   },
   {
    "duration": 8,
    "start_time": "2022-05-10T20:10:41.578Z"
   },
   {
    "duration": 70,
    "start_time": "2022-05-10T20:11:12.158Z"
   },
   {
    "duration": 33,
    "start_time": "2022-05-10T20:11:12.336Z"
   },
   {
    "duration": 18,
    "start_time": "2022-05-10T20:11:12.662Z"
   },
   {
    "duration": 34,
    "start_time": "2022-05-10T20:11:12.838Z"
   },
   {
    "duration": 10,
    "start_time": "2022-05-10T20:11:13.046Z"
   },
   {
    "duration": 3,
    "start_time": "2022-05-10T20:11:13.905Z"
   },
   {
    "duration": 4,
    "start_time": "2022-05-10T20:11:14.104Z"
   },
   {
    "duration": 32,
    "start_time": "2022-05-10T20:11:15.545Z"
   },
   {
    "duration": 6,
    "start_time": "2022-05-10T20:11:15.931Z"
   },
   {
    "duration": 4,
    "start_time": "2022-05-10T20:11:17.331Z"
   },
   {
    "duration": 4,
    "start_time": "2022-05-10T20:11:17.779Z"
   },
   {
    "duration": 6,
    "start_time": "2022-05-10T20:11:18.457Z"
   },
   {
    "duration": 4,
    "start_time": "2022-05-10T20:11:19.100Z"
   },
   {
    "duration": 10,
    "start_time": "2022-05-10T20:11:20.517Z"
   },
   {
    "duration": 4,
    "start_time": "2022-05-10T20:11:24.555Z"
   },
   {
    "duration": 10,
    "start_time": "2022-05-10T20:11:26.006Z"
   },
   {
    "duration": 6,
    "start_time": "2022-05-10T20:15:18.168Z"
   },
   {
    "duration": 4,
    "start_time": "2022-05-10T20:21:02.902Z"
   },
   {
    "duration": 4,
    "start_time": "2022-05-10T20:21:59.274Z"
   },
   {
    "duration": 4,
    "start_time": "2022-05-10T20:24:47.175Z"
   },
   {
    "duration": 15,
    "start_time": "2022-05-10T20:30:23.770Z"
   },
   {
    "duration": 4,
    "start_time": "2022-05-10T20:30:26.704Z"
   },
   {
    "duration": 3,
    "start_time": "2022-05-10T20:31:58.019Z"
   },
   {
    "duration": 1578,
    "start_time": "2022-05-10T20:32:02.303Z"
   },
   {
    "duration": 13,
    "start_time": "2022-05-10T20:32:04.927Z"
   },
   {
    "duration": 73,
    "start_time": "2022-05-10T20:32:50.218Z"
   },
   {
    "duration": 35,
    "start_time": "2022-05-10T20:32:50.387Z"
   },
   {
    "duration": 18,
    "start_time": "2022-05-10T20:32:50.715Z"
   },
   {
    "duration": 34,
    "start_time": "2022-05-10T20:32:50.902Z"
   },
   {
    "duration": 9,
    "start_time": "2022-05-10T20:32:51.158Z"
   },
   {
    "duration": 4,
    "start_time": "2022-05-10T20:32:52.205Z"
   },
   {
    "duration": 4,
    "start_time": "2022-05-10T20:32:52.463Z"
   },
   {
    "duration": 32,
    "start_time": "2022-05-10T20:32:54.177Z"
   },
   {
    "duration": 6,
    "start_time": "2022-05-10T20:32:54.627Z"
   },
   {
    "duration": 3,
    "start_time": "2022-05-10T20:32:55.788Z"
   },
   {
    "duration": 4,
    "start_time": "2022-05-10T20:32:56.363Z"
   },
   {
    "duration": 5,
    "start_time": "2022-05-10T20:32:56.987Z"
   },
   {
    "duration": 5,
    "start_time": "2022-05-10T20:32:57.554Z"
   },
   {
    "duration": 9,
    "start_time": "2022-05-10T20:32:58.160Z"
   },
   {
    "duration": 4,
    "start_time": "2022-05-10T20:32:58.695Z"
   },
   {
    "duration": 10,
    "start_time": "2022-05-10T20:32:59.313Z"
   },
   {
    "duration": 4,
    "start_time": "2022-05-10T20:32:59.923Z"
   },
   {
    "duration": 4,
    "start_time": "2022-05-10T20:33:00.828Z"
   },
   {
    "duration": 15,
    "start_time": "2022-05-10T20:33:04.142Z"
   },
   {
    "duration": 4,
    "start_time": "2022-05-10T20:33:15.969Z"
   },
   {
    "duration": 1820,
    "start_time": "2022-05-10T20:33:44.929Z"
   },
   {
    "duration": 9,
    "start_time": "2022-05-10T20:33:55.235Z"
   },
   {
    "duration": 8,
    "start_time": "2022-05-10T20:35:37.183Z"
   },
   {
    "duration": 6,
    "start_time": "2022-05-10T20:36:38.892Z"
   },
   {
    "duration": 88,
    "start_time": "2022-05-10T20:50:55.069Z"
   },
   {
    "duration": 11,
    "start_time": "2022-05-10T20:51:13.063Z"
   },
   {
    "duration": 11,
    "start_time": "2022-05-10T20:51:39.303Z"
   },
   {
    "duration": 6,
    "start_time": "2022-05-10T20:51:54.594Z"
   },
   {
    "duration": 9,
    "start_time": "2022-05-10T20:51:58.451Z"
   },
   {
    "duration": 7,
    "start_time": "2022-05-10T20:57:33.837Z"
   },
   {
    "duration": 11,
    "start_time": "2022-05-10T20:57:54.262Z"
   },
   {
    "duration": 10,
    "start_time": "2022-05-10T21:00:41.959Z"
   },
   {
    "duration": 10,
    "start_time": "2022-05-10T21:00:52.765Z"
   },
   {
    "duration": 9,
    "start_time": "2022-05-10T21:01:11.165Z"
   },
   {
    "duration": 9,
    "start_time": "2022-05-10T21:02:06.521Z"
   },
   {
    "duration": 72,
    "start_time": "2022-05-10T21:02:54.776Z"
   },
   {
    "duration": 31,
    "start_time": "2022-05-10T21:02:55.008Z"
   },
   {
    "duration": 16,
    "start_time": "2022-05-10T21:02:55.423Z"
   },
   {
    "duration": 31,
    "start_time": "2022-05-10T21:02:55.594Z"
   },
   {
    "duration": 10,
    "start_time": "2022-05-10T21:02:55.789Z"
   },
   {
    "duration": 5,
    "start_time": "2022-05-10T21:02:56.788Z"
   },
   {
    "duration": 7,
    "start_time": "2022-05-10T21:02:56.995Z"
   },
   {
    "duration": 31,
    "start_time": "2022-05-10T21:02:58.362Z"
   },
   {
    "duration": 316,
    "start_time": "2022-05-10T21:02:58.558Z"
   },
   {
    "duration": 687,
    "start_time": "2022-05-10T21:02:58.939Z"
   },
   {
    "duration": 8,
    "start_time": "2022-05-10T21:02:59.629Z"
   },
   {
    "duration": 6,
    "start_time": "2022-05-10T21:02:59.639Z"
   },
   {
    "duration": 5,
    "start_time": "2022-05-10T21:02:59.647Z"
   },
   {
    "duration": 9,
    "start_time": "2022-05-10T21:02:59.731Z"
   },
   {
    "duration": 4,
    "start_time": "2022-05-10T21:02:59.959Z"
   },
   {
    "duration": 10,
    "start_time": "2022-05-10T21:03:00.198Z"
   },
   {
    "duration": 8,
    "start_time": "2022-05-10T21:03:00.411Z"
   },
   {
    "duration": 5,
    "start_time": "2022-05-10T21:03:00.687Z"
   },
   {
    "duration": 8,
    "start_time": "2022-05-10T21:03:00.917Z"
   },
   {
    "duration": 13,
    "start_time": "2022-05-10T21:03:01.316Z"
   },
   {
    "duration": 8,
    "start_time": "2022-05-10T21:03:02.366Z"
   },
   {
    "duration": 9,
    "start_time": "2022-05-10T21:03:04.080Z"
   },
   {
    "duration": 9,
    "start_time": "2022-05-10T21:03:35.270Z"
   },
   {
    "duration": 9,
    "start_time": "2022-05-10T21:03:37.559Z"
   },
   {
    "duration": 10,
    "start_time": "2022-05-10T21:03:48.704Z"
   },
   {
    "duration": 5,
    "start_time": "2022-05-10T21:04:00.939Z"
   },
   {
    "duration": 7,
    "start_time": "2022-05-10T21:05:50.708Z"
   },
   {
    "duration": 14,
    "start_time": "2022-05-10T21:07:16.055Z"
   },
   {
    "duration": 9,
    "start_time": "2022-05-10T21:07:32.024Z"
   },
   {
    "duration": 5,
    "start_time": "2022-05-10T21:08:11.099Z"
   },
   {
    "duration": 5,
    "start_time": "2022-05-10T21:08:28.005Z"
   },
   {
    "duration": 5,
    "start_time": "2022-05-10T21:08:31.199Z"
   },
   {
    "duration": 8,
    "start_time": "2022-05-10T21:09:24.097Z"
   },
   {
    "duration": 8,
    "start_time": "2022-05-10T21:11:14.309Z"
   },
   {
    "duration": 6,
    "start_time": "2022-05-10T21:12:14.463Z"
   },
   {
    "duration": 7,
    "start_time": "2022-05-10T21:13:13.528Z"
   },
   {
    "duration": 9,
    "start_time": "2022-05-10T21:13:43.491Z"
   },
   {
    "duration": 5,
    "start_time": "2022-05-10T21:15:47.607Z"
   },
   {
    "duration": 8,
    "start_time": "2022-05-10T21:16:02.897Z"
   },
   {
    "duration": 12,
    "start_time": "2022-05-10T21:16:37.387Z"
   },
   {
    "duration": 9,
    "start_time": "2022-05-10T21:17:40.679Z"
   },
   {
    "duration": 8,
    "start_time": "2022-05-10T21:19:29.752Z"
   },
   {
    "duration": 9,
    "start_time": "2022-05-10T21:22:15.257Z"
   },
   {
    "duration": 7,
    "start_time": "2022-05-10T21:23:56.492Z"
   },
   {
    "duration": 8,
    "start_time": "2022-05-10T21:23:57.719Z"
   },
   {
    "duration": 4,
    "start_time": "2022-05-10T21:23:59.695Z"
   },
   {
    "duration": 9,
    "start_time": "2022-05-10T21:24:00.776Z"
   },
   {
    "duration": 3,
    "start_time": "2022-05-10T21:24:03.867Z"
   },
   {
    "duration": 7,
    "start_time": "2022-05-10T21:24:05.821Z"
   },
   {
    "duration": 8,
    "start_time": "2022-05-10T21:24:41.219Z"
   },
   {
    "duration": 6,
    "start_time": "2022-05-10T21:24:59.544Z"
   },
   {
    "duration": 12,
    "start_time": "2022-05-10T21:25:24.637Z"
   },
   {
    "duration": 11,
    "start_time": "2022-05-10T21:25:57.560Z"
   },
   {
    "duration": 37,
    "start_time": "2022-05-10T21:37:12.455Z"
   },
   {
    "duration": 25,
    "start_time": "2022-05-10T21:37:14.470Z"
   },
   {
    "duration": 6,
    "start_time": "2022-05-10T21:42:17.934Z"
   },
   {
    "duration": 9,
    "start_time": "2022-05-10T21:42:24.903Z"
   },
   {
    "duration": 7,
    "start_time": "2022-05-10T21:42:33.724Z"
   },
   {
    "duration": 13,
    "start_time": "2022-05-10T21:53:27.913Z"
   },
   {
    "duration": 4,
    "start_time": "2022-05-10T21:53:58.762Z"
   },
   {
    "duration": 9,
    "start_time": "2022-05-10T21:54:08.941Z"
   },
   {
    "duration": 4,
    "start_time": "2022-05-10T22:06:43.858Z"
   },
   {
    "duration": 3,
    "start_time": "2022-05-10T22:07:07.477Z"
   },
   {
    "duration": 9,
    "start_time": "2022-05-10T22:10:43.779Z"
   },
   {
    "duration": 4,
    "start_time": "2022-05-10T22:15:10.174Z"
   },
   {
    "duration": 3,
    "start_time": "2022-05-10T22:15:32.444Z"
   },
   {
    "duration": 4,
    "start_time": "2022-05-10T22:15:39.673Z"
   },
   {
    "duration": 94,
    "start_time": "2022-05-10T22:16:30.026Z"
   },
   {
    "duration": 3,
    "start_time": "2022-05-10T22:16:38.724Z"
   },
   {
    "duration": 1321,
    "start_time": "2022-05-10T22:20:24.375Z"
   },
   {
    "duration": 1317,
    "start_time": "2022-05-10T22:23:04.669Z"
   },
   {
    "duration": 3,
    "start_time": "2022-05-10T22:24:22.173Z"
   },
   {
    "duration": 1329,
    "start_time": "2022-05-10T22:24:30.273Z"
   },
   {
    "duration": 3,
    "start_time": "2022-05-10T22:26:08.087Z"
   },
   {
    "duration": 4,
    "start_time": "2022-05-10T22:26:34.231Z"
   },
   {
    "duration": 10,
    "start_time": "2022-05-10T22:27:14.505Z"
   },
   {
    "duration": 97,
    "start_time": "2022-05-10T22:27:20.449Z"
   },
   {
    "duration": 9,
    "start_time": "2022-05-10T22:27:28.419Z"
   },
   {
    "duration": 9,
    "start_time": "2022-05-10T22:27:34.520Z"
   },
   {
    "duration": 4,
    "start_time": "2022-05-10T22:27:43.113Z"
   },
   {
    "duration": 3,
    "start_time": "2022-05-10T22:27:49.871Z"
   },
   {
    "duration": 3,
    "start_time": "2022-05-10T22:27:56.458Z"
   },
   {
    "duration": 4,
    "start_time": "2022-05-10T22:28:09.087Z"
   },
   {
    "duration": 3,
    "start_time": "2022-05-10T22:28:24.829Z"
   },
   {
    "duration": 7,
    "start_time": "2022-05-10T22:28:44.806Z"
   },
   {
    "duration": 4,
    "start_time": "2022-05-10T22:28:50.219Z"
   },
   {
    "duration": 3,
    "start_time": "2022-05-10T22:28:58.583Z"
   },
   {
    "duration": 4,
    "start_time": "2022-05-10T22:29:59.698Z"
   },
   {
    "duration": 12,
    "start_time": "2022-05-10T22:30:37.962Z"
   },
   {
    "duration": 5,
    "start_time": "2022-05-10T22:30:53.909Z"
   },
   {
    "duration": 3,
    "start_time": "2022-05-10T22:31:26.760Z"
   },
   {
    "duration": 3,
    "start_time": "2022-05-10T22:31:28.329Z"
   },
   {
    "duration": 3,
    "start_time": "2022-05-10T22:31:48.397Z"
   },
   {
    "duration": 3,
    "start_time": "2022-05-10T22:31:49.242Z"
   },
   {
    "duration": 3,
    "start_time": "2022-05-10T22:32:14.134Z"
   },
   {
    "duration": 10,
    "start_time": "2022-05-10T22:44:23.021Z"
   },
   {
    "duration": 87,
    "start_time": "2022-05-10T22:44:25.551Z"
   },
   {
    "duration": 3,
    "start_time": "2022-05-10T22:44:40.630Z"
   },
   {
    "duration": 10,
    "start_time": "2022-05-10T22:44:42.842Z"
   },
   {
    "duration": 5,
    "start_time": "2022-05-10T22:51:20.231Z"
   },
   {
    "duration": 15,
    "start_time": "2022-05-10T22:51:36.275Z"
   },
   {
    "duration": 32,
    "start_time": "2022-05-10T22:52:34.799Z"
   },
   {
    "duration": 9,
    "start_time": "2022-05-10T22:53:08.121Z"
   },
   {
    "duration": 23,
    "start_time": "2022-05-10T22:54:03.012Z"
   },
   {
    "duration": 16,
    "start_time": "2022-05-10T22:56:55.342Z"
   },
   {
    "duration": 3,
    "start_time": "2022-05-10T22:57:25.151Z"
   },
   {
    "duration": 6,
    "start_time": "2022-05-10T22:58:02.417Z"
   },
   {
    "duration": 5,
    "start_time": "2022-05-10T22:58:48.423Z"
   },
   {
    "duration": 3,
    "start_time": "2022-05-10T22:58:54.142Z"
   },
   {
    "duration": 5,
    "start_time": "2022-05-10T22:58:56.474Z"
   },
   {
    "duration": 3,
    "start_time": "2022-05-11T09:17:25.824Z"
   },
   {
    "duration": 9,
    "start_time": "2022-05-11T09:17:27.591Z"
   },
   {
    "duration": 4,
    "start_time": "2022-05-11T09:17:28.555Z"
   },
   {
    "duration": 3,
    "start_time": "2022-05-11T09:17:42.664Z"
   },
   {
    "duration": 9,
    "start_time": "2022-05-11T09:17:43.221Z"
   },
   {
    "duration": 5,
    "start_time": "2022-05-11T09:17:43.751Z"
   },
   {
    "duration": 3,
    "start_time": "2022-05-11T09:18:10.456Z"
   },
   {
    "duration": 9,
    "start_time": "2022-05-11T09:18:10.945Z"
   },
   {
    "duration": 5,
    "start_time": "2022-05-11T09:18:11.318Z"
   },
   {
    "duration": 9,
    "start_time": "2022-05-11T09:40:59.476Z"
   },
   {
    "duration": 8,
    "start_time": "2022-05-11T09:41:00.316Z"
   },
   {
    "duration": 10,
    "start_time": "2022-05-11T09:41:31.535Z"
   },
   {
    "duration": 4,
    "start_time": "2022-05-11T09:42:07.891Z"
   },
   {
    "duration": 9,
    "start_time": "2022-05-11T09:42:08.491Z"
   },
   {
    "duration": 9,
    "start_time": "2022-05-11T09:42:09.103Z"
   },
   {
    "duration": 3,
    "start_time": "2022-05-11T09:42:43.605Z"
   },
   {
    "duration": 9,
    "start_time": "2022-05-11T09:42:44.076Z"
   },
   {
    "duration": 7,
    "start_time": "2022-05-11T09:42:44.534Z"
   },
   {
    "duration": 9,
    "start_time": "2022-05-11T09:50:53.339Z"
   },
   {
    "duration": 9,
    "start_time": "2022-05-11T09:51:29.365Z"
   },
   {
    "duration": 9,
    "start_time": "2022-05-11T09:51:57.157Z"
   },
   {
    "duration": 8,
    "start_time": "2022-05-11T09:52:26.348Z"
   },
   {
    "duration": 5,
    "start_time": "2022-05-11T09:52:39.170Z"
   },
   {
    "duration": 9,
    "start_time": "2022-05-11T09:52:42.318Z"
   },
   {
    "duration": 5,
    "start_time": "2022-05-11T10:01:53.266Z"
   },
   {
    "duration": 7,
    "start_time": "2022-05-11T10:02:27.521Z"
   },
   {
    "duration": 1650,
    "start_time": "2022-05-11T10:03:06.073Z"
   },
   {
    "duration": 5,
    "start_time": "2022-05-11T10:03:52.863Z"
   },
   {
    "duration": 6,
    "start_time": "2022-05-11T10:04:38.053Z"
   },
   {
    "duration": 7,
    "start_time": "2022-05-11T10:34:58.393Z"
   },
   {
    "duration": 7,
    "start_time": "2022-05-11T10:35:05.008Z"
   },
   {
    "duration": 88,
    "start_time": "2022-05-11T10:51:49.093Z"
   },
   {
    "duration": 89,
    "start_time": "2022-05-11T10:51:56.108Z"
   },
   {
    "duration": 1677,
    "start_time": "2022-05-11T10:52:10.530Z"
   },
   {
    "duration": 5,
    "start_time": "2022-05-11T10:52:20.219Z"
   },
   {
    "duration": 5,
    "start_time": "2022-05-11T10:52:38.519Z"
   },
   {
    "duration": 1855,
    "start_time": "2022-05-11T10:52:41.446Z"
   },
   {
    "duration": 14,
    "start_time": "2022-05-11T10:53:08.425Z"
   },
   {
    "duration": 8,
    "start_time": "2022-05-11T10:53:31.407Z"
   },
   {
    "duration": 1526,
    "start_time": "2022-05-11T10:53:35.714Z"
   },
   {
    "duration": 2688,
    "start_time": "2022-05-11T10:54:51.513Z"
   },
   {
    "duration": 12,
    "start_time": "2022-05-11T10:55:23.687Z"
   },
   {
    "duration": 91,
    "start_time": "2022-05-11T11:04:06.825Z"
   },
   {
    "duration": 86,
    "start_time": "2022-05-11T11:04:27.972Z"
   },
   {
    "duration": 9,
    "start_time": "2022-05-11T11:05:00.683Z"
   },
   {
    "duration": 11,
    "start_time": "2022-05-11T11:05:19.893Z"
   },
   {
    "duration": 88,
    "start_time": "2022-05-11T11:05:37.752Z"
   },
   {
    "duration": 5,
    "start_time": "2022-05-11T11:06:10.269Z"
   },
   {
    "duration": 4,
    "start_time": "2022-05-11T11:06:11.900Z"
   },
   {
    "duration": 4,
    "start_time": "2022-05-11T11:07:42.209Z"
   },
   {
    "duration": 4,
    "start_time": "2022-05-11T11:07:43.691Z"
   },
   {
    "duration": 7,
    "start_time": "2022-05-11T11:08:19.821Z"
   },
   {
    "duration": 4,
    "start_time": "2022-05-11T11:08:49.486Z"
   },
   {
    "duration": 15,
    "start_time": "2022-05-11T11:18:23.022Z"
   },
   {
    "duration": 6,
    "start_time": "2022-05-11T11:18:52.109Z"
   },
   {
    "duration": 4,
    "start_time": "2022-05-11T11:19:20.915Z"
   },
   {
    "duration": 4,
    "start_time": "2022-05-11T11:19:53.095Z"
   },
   {
    "duration": 4,
    "start_time": "2022-05-11T11:19:59.891Z"
   },
   {
    "duration": 4,
    "start_time": "2022-05-11T11:22:26.237Z"
   },
   {
    "duration": 12,
    "start_time": "2022-05-11T11:22:39.773Z"
   },
   {
    "duration": 4,
    "start_time": "2022-05-11T11:22:42.862Z"
   },
   {
    "duration": 77,
    "start_time": "2022-05-11T11:22:50.970Z"
   },
   {
    "duration": 33,
    "start_time": "2022-05-11T11:22:51.154Z"
   },
   {
    "duration": 17,
    "start_time": "2022-05-11T11:22:51.491Z"
   },
   {
    "duration": 9,
    "start_time": "2022-05-11T11:22:51.664Z"
   },
   {
    "duration": 4,
    "start_time": "2022-05-11T11:22:52.560Z"
   },
   {
    "duration": 3,
    "start_time": "2022-05-11T11:22:52.743Z"
   },
   {
    "duration": 32,
    "start_time": "2022-05-11T11:22:53.816Z"
   },
   {
    "duration": 6,
    "start_time": "2022-05-11T11:22:53.999Z"
   },
   {
    "duration": 4,
    "start_time": "2022-05-11T11:22:54.345Z"
   },
   {
    "duration": 3,
    "start_time": "2022-05-11T11:22:54.546Z"
   },
   {
    "duration": 8,
    "start_time": "2022-05-11T11:22:54.719Z"
   },
   {
    "duration": 4,
    "start_time": "2022-05-11T11:22:54.908Z"
   },
   {
    "duration": 5,
    "start_time": "2022-05-11T11:22:55.081Z"
   },
   {
    "duration": 7,
    "start_time": "2022-05-11T11:22:55.302Z"
   },
   {
    "duration": 11,
    "start_time": "2022-05-11T11:22:55.531Z"
   },
   {
    "duration": 8,
    "start_time": "2022-05-11T11:22:55.731Z"
   },
   {
    "duration": 5,
    "start_time": "2022-05-11T11:22:55.970Z"
   },
   {
    "duration": 7,
    "start_time": "2022-05-11T11:22:56.188Z"
   },
   {
    "duration": 13,
    "start_time": "2022-05-11T11:22:56.383Z"
   },
   {
    "duration": 8,
    "start_time": "2022-05-11T11:22:56.621Z"
   },
   {
    "duration": 4,
    "start_time": "2022-05-11T11:22:56.837Z"
   },
   {
    "duration": 8,
    "start_time": "2022-05-11T11:22:57.044Z"
   },
   {
    "duration": 7,
    "start_time": "2022-05-11T11:22:57.253Z"
   },
   {
    "duration": 13,
    "start_time": "2022-05-11T11:22:57.486Z"
   },
   {
    "duration": 12,
    "start_time": "2022-05-11T11:22:57.709Z"
   },
   {
    "duration": 4,
    "start_time": "2022-05-11T11:22:57.906Z"
   },
   {
    "duration": 15,
    "start_time": "2022-05-11T11:22:58.119Z"
   },
   {
    "duration": 10,
    "start_time": "2022-05-11T11:22:58.351Z"
   },
   {
    "duration": 13,
    "start_time": "2022-05-11T11:22:58.592Z"
   },
   {
    "duration": 4,
    "start_time": "2022-05-11T11:22:58.823Z"
   },
   {
    "duration": 10,
    "start_time": "2022-05-11T11:22:59.055Z"
   },
   {
    "duration": 4,
    "start_time": "2022-05-11T11:22:59.282Z"
   },
   {
    "duration": 8,
    "start_time": "2022-05-11T11:22:59.511Z"
   },
   {
    "duration": 11,
    "start_time": "2022-05-11T11:22:59.953Z"
   },
   {
    "duration": 27,
    "start_time": "2022-05-11T11:23:01.684Z"
   },
   {
    "duration": 20,
    "start_time": "2022-05-11T11:23:01.965Z"
   },
   {
    "duration": 5,
    "start_time": "2022-05-11T11:23:02.246Z"
   },
   {
    "duration": 5,
    "start_time": "2022-05-11T11:23:03.407Z"
   },
   {
    "duration": 7,
    "start_time": "2022-05-11T11:23:03.704Z"
   },
   {
    "duration": 8,
    "start_time": "2022-05-11T11:23:03.998Z"
   },
   {
    "duration": 1304,
    "start_time": "2022-05-11T11:23:04.674Z"
   },
   {
    "duration": 0,
    "start_time": "2022-05-11T11:23:05.980Z"
   },
   {
    "duration": 0,
    "start_time": "2022-05-11T11:23:05.982Z"
   },
   {
    "duration": 11,
    "start_time": "2022-05-11T11:23:06.018Z"
   },
   {
    "duration": 3,
    "start_time": "2022-05-11T11:23:07.007Z"
   },
   {
    "duration": 9,
    "start_time": "2022-05-11T11:23:07.430Z"
   },
   {
    "duration": 3,
    "start_time": "2022-05-11T11:23:07.798Z"
   },
   {
    "duration": 4,
    "start_time": "2022-05-11T11:23:18.095Z"
   },
   {
    "duration": 9,
    "start_time": "2022-05-11T11:23:18.289Z"
   },
   {
    "duration": 4,
    "start_time": "2022-05-11T11:23:18.521Z"
   },
   {
    "duration": 3,
    "start_time": "2022-05-11T11:23:27.673Z"
   },
   {
    "duration": 10,
    "start_time": "2022-05-11T11:23:44.655Z"
   },
   {
    "duration": 8,
    "start_time": "2022-05-11T11:23:53.704Z"
   },
   {
    "duration": 5,
    "start_time": "2022-05-11T11:24:01.154Z"
   },
   {
    "duration": 4,
    "start_time": "2022-05-11T11:24:01.611Z"
   },
   {
    "duration": 5,
    "start_time": "2022-05-11T11:24:04.159Z"
   },
   {
    "duration": 18,
    "start_time": "2022-05-11T11:26:38.201Z"
   },
   {
    "duration": 4,
    "start_time": "2022-05-11T11:26:38.596Z"
   },
   {
    "duration": 12,
    "start_time": "2022-05-11T11:26:57.495Z"
   },
   {
    "duration": 4,
    "start_time": "2022-05-11T11:26:58.702Z"
   },
   {
    "duration": 6,
    "start_time": "2022-05-11T11:27:50.383Z"
   },
   {
    "duration": 7,
    "start_time": "2022-05-11T11:27:51.605Z"
   },
   {
    "duration": 1514,
    "start_time": "2022-05-11T11:27:56.049Z"
   },
   {
    "duration": 14,
    "start_time": "2022-05-11T11:27:59.190Z"
   },
   {
    "duration": 4,
    "start_time": "2022-05-11T11:28:57.923Z"
   },
   {
    "duration": 12,
    "start_time": "2022-05-11T11:29:01.387Z"
   },
   {
    "duration": 11,
    "start_time": "2022-05-11T11:30:05.849Z"
   },
   {
    "duration": 3,
    "start_time": "2022-05-11T11:30:07.128Z"
   },
   {
    "duration": 11,
    "start_time": "2022-05-11T11:30:28.262Z"
   },
   {
    "duration": 10,
    "start_time": "2022-05-11T11:30:34.458Z"
   },
   {
    "duration": 7,
    "start_time": "2022-05-11T11:30:39.937Z"
   },
   {
    "duration": 11,
    "start_time": "2022-05-11T11:30:42.682Z"
   },
   {
    "duration": 4,
    "start_time": "2022-05-11T11:30:44.374Z"
   },
   {
    "duration": 11,
    "start_time": "2022-05-11T11:31:08.238Z"
   },
   {
    "duration": 4,
    "start_time": "2022-05-11T11:31:09.402Z"
   },
   {
    "duration": 12,
    "start_time": "2022-05-11T11:31:18.547Z"
   },
   {
    "duration": 7,
    "start_time": "2022-05-11T11:33:47.030Z"
   },
   {
    "duration": 4,
    "start_time": "2022-05-11T11:33:48.553Z"
   },
   {
    "duration": 12,
    "start_time": "2022-05-11T11:36:23.198Z"
   },
   {
    "duration": 11,
    "start_time": "2022-05-11T11:36:30.569Z"
   },
   {
    "duration": 9,
    "start_time": "2022-05-11T11:36:31.564Z"
   },
   {
    "duration": 4,
    "start_time": "2022-05-11T11:36:34.573Z"
   },
   {
    "duration": 8,
    "start_time": "2022-05-11T11:36:34.984Z"
   },
   {
    "duration": 7,
    "start_time": "2022-05-11T11:36:35.262Z"
   },
   {
    "duration": 6,
    "start_time": "2022-05-11T11:36:37.984Z"
   },
   {
    "duration": 5,
    "start_time": "2022-05-11T11:36:38.453Z"
   },
   {
    "duration": 12,
    "start_time": "2022-05-11T11:36:40.232Z"
   },
   {
    "duration": 8,
    "start_time": "2022-05-11T11:36:41.428Z"
   },
   {
    "duration": 14,
    "start_time": "2022-05-11T11:36:51.940Z"
   },
   {
    "duration": 6,
    "start_time": "2022-05-11T11:37:07.553Z"
   },
   {
    "duration": 5,
    "start_time": "2022-05-11T11:37:08.304Z"
   },
   {
    "duration": 13,
    "start_time": "2022-05-11T11:37:31.569Z"
   },
   {
    "duration": 3,
    "start_time": "2022-05-11T11:37:32.604Z"
   },
   {
    "duration": 11,
    "start_time": "2022-05-11T11:37:51.795Z"
   },
   {
    "duration": 4,
    "start_time": "2022-05-11T11:37:52.333Z"
   },
   {
    "duration": 9,
    "start_time": "2022-05-11T11:37:52.492Z"
   },
   {
    "duration": 4,
    "start_time": "2022-05-11T11:37:52.660Z"
   },
   {
    "duration": 3,
    "start_time": "2022-05-11T11:37:53.494Z"
   },
   {
    "duration": 11,
    "start_time": "2022-05-11T11:37:53.669Z"
   },
   {
    "duration": 8,
    "start_time": "2022-05-11T11:37:53.879Z"
   },
   {
    "duration": 7,
    "start_time": "2022-05-11T11:37:55.286Z"
   },
   {
    "duration": 4,
    "start_time": "2022-05-11T11:37:55.583Z"
   },
   {
    "duration": 12,
    "start_time": "2022-05-11T11:37:57.880Z"
   },
   {
    "duration": 4,
    "start_time": "2022-05-11T11:37:58.905Z"
   },
   {
    "duration": 13,
    "start_time": "2022-05-11T11:38:03.447Z"
   },
   {
    "duration": 13,
    "start_time": "2022-05-11T11:38:14.959Z"
   },
   {
    "duration": 5,
    "start_time": "2022-05-11T11:38:15.559Z"
   },
   {
    "duration": 68,
    "start_time": "2022-05-11T11:38:23.178Z"
   },
   {
    "duration": 33,
    "start_time": "2022-05-11T11:38:23.334Z"
   },
   {
    "duration": 18,
    "start_time": "2022-05-11T11:38:23.661Z"
   },
   {
    "duration": 10,
    "start_time": "2022-05-11T11:38:23.815Z"
   },
   {
    "duration": 3,
    "start_time": "2022-05-11T11:38:24.672Z"
   },
   {
    "duration": 4,
    "start_time": "2022-05-11T11:38:24.873Z"
   },
   {
    "duration": 47,
    "start_time": "2022-05-11T11:38:25.928Z"
   },
   {
    "duration": 7,
    "start_time": "2022-05-11T11:38:26.112Z"
   },
   {
    "duration": 5,
    "start_time": "2022-05-11T11:38:26.472Z"
   },
   {
    "duration": 4,
    "start_time": "2022-05-11T11:38:26.664Z"
   },
   {
    "duration": 7,
    "start_time": "2022-05-11T11:38:26.850Z"
   },
   {
    "duration": 5,
    "start_time": "2022-05-11T11:38:27.034Z"
   },
   {
    "duration": 5,
    "start_time": "2022-05-11T11:38:27.201Z"
   },
   {
    "duration": 7,
    "start_time": "2022-05-11T11:38:27.394Z"
   },
   {
    "duration": 12,
    "start_time": "2022-05-11T11:38:27.585Z"
   },
   {
    "duration": 9,
    "start_time": "2022-05-11T11:38:27.939Z"
   },
   {
    "duration": 5,
    "start_time": "2022-05-11T11:38:28.163Z"
   },
   {
    "duration": 8,
    "start_time": "2022-05-11T11:38:28.343Z"
   },
   {
    "duration": 13,
    "start_time": "2022-05-11T11:38:28.541Z"
   },
   {
    "duration": 8,
    "start_time": "2022-05-11T11:38:28.735Z"
   },
   {
    "duration": 5,
    "start_time": "2022-05-11T11:38:28.942Z"
   },
   {
    "duration": 7,
    "start_time": "2022-05-11T11:38:29.133Z"
   },
   {
    "duration": 7,
    "start_time": "2022-05-11T11:38:29.331Z"
   },
   {
    "duration": 6,
    "start_time": "2022-05-11T11:38:29.519Z"
   },
   {
    "duration": 9,
    "start_time": "2022-05-11T11:38:29.738Z"
   },
   {
    "duration": 4,
    "start_time": "2022-05-11T11:38:29.929Z"
   },
   {
    "duration": 16,
    "start_time": "2022-05-11T11:38:30.136Z"
   },
   {
    "duration": 8,
    "start_time": "2022-05-11T11:38:30.524Z"
   },
   {
    "duration": 10,
    "start_time": "2022-05-11T11:38:30.736Z"
   },
   {
    "duration": 3,
    "start_time": "2022-05-11T11:38:30.979Z"
   },
   {
    "duration": 9,
    "start_time": "2022-05-11T11:38:31.202Z"
   },
   {
    "duration": 3,
    "start_time": "2022-05-11T11:38:31.431Z"
   },
   {
    "duration": 8,
    "start_time": "2022-05-11T11:38:31.665Z"
   },
   {
    "duration": 12,
    "start_time": "2022-05-11T11:38:32.085Z"
   },
   {
    "duration": 25,
    "start_time": "2022-05-11T11:38:33.616Z"
   },
   {
    "duration": 17,
    "start_time": "2022-05-11T11:38:33.875Z"
   },
   {
    "duration": 4,
    "start_time": "2022-05-11T11:38:34.106Z"
   },
   {
    "duration": 4,
    "start_time": "2022-05-11T11:38:35.118Z"
   },
   {
    "duration": 11,
    "start_time": "2022-05-11T11:38:35.372Z"
   },
   {
    "duration": 4,
    "start_time": "2022-05-11T11:38:35.621Z"
   },
   {
    "duration": 13,
    "start_time": "2022-05-11T11:38:35.933Z"
   },
   {
    "duration": 4,
    "start_time": "2022-05-11T11:38:37.672Z"
   },
   {
    "duration": 11,
    "start_time": "2022-05-11T11:38:38.585Z"
   },
   {
    "duration": 3,
    "start_time": "2022-05-11T11:38:44.021Z"
   },
   {
    "duration": 13,
    "start_time": "2022-05-11T11:38:44.471Z"
   },
   {
    "duration": 4,
    "start_time": "2022-05-11T11:38:44.912Z"
   },
   {
    "duration": 4,
    "start_time": "2022-05-11T11:38:47.068Z"
   },
   {
    "duration": 13,
    "start_time": "2022-05-11T11:38:47.796Z"
   },
   {
    "duration": 10,
    "start_time": "2022-05-11T11:38:48.239Z"
   },
   {
    "duration": 9,
    "start_time": "2022-05-11T11:38:51.637Z"
   },
   {
    "duration": 4,
    "start_time": "2022-05-11T11:38:52.240Z"
   },
   {
    "duration": 15,
    "start_time": "2022-05-11T11:38:55.112Z"
   },
   {
    "duration": 5,
    "start_time": "2022-05-11T11:39:13.499Z"
   },
   {
    "duration": 5,
    "start_time": "2022-05-11T11:39:29.018Z"
   },
   {
    "duration": 7,
    "start_time": "2022-05-11T11:39:31.453Z"
   },
   {
    "duration": 4,
    "start_time": "2022-05-11T11:39:31.978Z"
   },
   {
    "duration": 10,
    "start_time": "2022-05-11T11:39:33.621Z"
   },
   {
    "duration": 5,
    "start_time": "2022-05-11T11:39:34.447Z"
   },
   {
    "duration": 9,
    "start_time": "2022-05-11T11:48:01.745Z"
   },
   {
    "duration": 14,
    "start_time": "2022-05-11T11:48:04.740Z"
   },
   {
    "duration": 4,
    "start_time": "2022-05-11T11:48:05.277Z"
   },
   {
    "duration": 12,
    "start_time": "2022-05-11T11:50:26.958Z"
   },
   {
    "duration": 5,
    "start_time": "2022-05-11T11:50:29.321Z"
   },
   {
    "duration": 26,
    "start_time": "2022-05-11T11:50:51.348Z"
   },
   {
    "duration": 5,
    "start_time": "2022-05-11T11:50:52.582Z"
   },
   {
    "duration": 16,
    "start_time": "2022-05-11T11:51:00.311Z"
   },
   {
    "duration": 5,
    "start_time": "2022-05-11T11:51:01.414Z"
   },
   {
    "duration": 5,
    "start_time": "2022-05-11T11:54:47.629Z"
   },
   {
    "duration": 3861,
    "start_time": "2022-05-11T11:54:48.539Z"
   },
   {
    "duration": 0,
    "start_time": "2022-05-11T11:54:52.402Z"
   },
   {
    "duration": 1603,
    "start_time": "2022-05-11T11:55:49.400Z"
   },
   {
    "duration": 0,
    "start_time": "2022-05-11T11:55:51.006Z"
   },
   {
    "duration": 3,
    "start_time": "2022-05-11T11:55:56.339Z"
   },
   {
    "duration": 18,
    "start_time": "2022-05-11T11:55:58.951Z"
   },
   {
    "duration": 4,
    "start_time": "2022-05-11T11:56:45.142Z"
   },
   {
    "duration": 1834,
    "start_time": "2022-05-11T11:56:47.903Z"
   },
   {
    "duration": 4,
    "start_time": "2022-05-11T11:56:58.269Z"
   },
   {
    "duration": 5,
    "start_time": "2022-05-11T12:22:23.585Z"
   },
   {
    "duration": 2299,
    "start_time": "2022-05-11T12:22:24.427Z"
   },
   {
    "duration": 4,
    "start_time": "2022-05-11T12:22:52.296Z"
   },
   {
    "duration": 4,
    "start_time": "2022-05-11T12:23:47.397Z"
   },
   {
    "duration": 5,
    "start_time": "2022-05-11T12:24:01.005Z"
   },
   {
    "duration": 10,
    "start_time": "2022-05-11T12:31:33.092Z"
   },
   {
    "duration": 8,
    "start_time": "2022-05-11T12:31:56.688Z"
   },
   {
    "duration": 12,
    "start_time": "2022-05-11T12:32:03.740Z"
   },
   {
    "duration": 13,
    "start_time": "2022-05-11T12:32:32.221Z"
   },
   {
    "duration": 8,
    "start_time": "2022-05-11T12:32:32.821Z"
   },
   {
    "duration": 13,
    "start_time": "2022-05-11T12:36:01.061Z"
   },
   {
    "duration": 4,
    "start_time": "2022-05-11T12:37:46.722Z"
   },
   {
    "duration": 9,
    "start_time": "2022-05-11T12:37:47.297Z"
   },
   {
    "duration": 10,
    "start_time": "2022-05-11T12:37:47.839Z"
   },
   {
    "duration": 7,
    "start_time": "2022-05-11T12:37:48.468Z"
   },
   {
    "duration": 7,
    "start_time": "2022-05-11T12:38:39.717Z"
   },
   {
    "duration": 11,
    "start_time": "2022-05-11T12:38:42.897Z"
   },
   {
    "duration": 5,
    "start_time": "2022-05-11T12:38:44.830Z"
   },
   {
    "duration": 5,
    "start_time": "2022-05-11T12:38:59.286Z"
   },
   {
    "duration": 10,
    "start_time": "2022-05-11T12:41:45.851Z"
   },
   {
    "duration": 1464,
    "start_time": "2022-05-11T12:44:30.995Z"
   },
   {
    "duration": 0,
    "start_time": "2022-05-11T12:44:32.461Z"
   },
   {
    "duration": 0,
    "start_time": "2022-05-11T12:44:32.462Z"
   },
   {
    "duration": 18,
    "start_time": "2022-05-11T12:44:40.830Z"
   },
   {
    "duration": 10,
    "start_time": "2022-05-11T12:44:41.910Z"
   },
   {
    "duration": 14,
    "start_time": "2022-05-11T12:45:57.391Z"
   },
   {
    "duration": 10,
    "start_time": "2022-05-11T12:45:59.009Z"
   },
   {
    "duration": 1623,
    "start_time": "2022-05-11T12:46:03.294Z"
   },
   {
    "duration": 0,
    "start_time": "2022-05-11T12:46:04.919Z"
   },
   {
    "duration": 8,
    "start_time": "2022-05-11T12:46:05.664Z"
   },
   {
    "duration": 106,
    "start_time": "2022-05-11T12:56:23.841Z"
   },
   {
    "duration": 51,
    "start_time": "2022-05-11T12:56:24.003Z"
   },
   {
    "duration": 27,
    "start_time": "2022-05-11T12:56:24.337Z"
   },
   {
    "duration": 16,
    "start_time": "2022-05-11T12:56:24.462Z"
   },
   {
    "duration": 4,
    "start_time": "2022-05-11T12:56:25.283Z"
   },
   {
    "duration": 9,
    "start_time": "2022-05-11T12:56:25.451Z"
   },
   {
    "duration": 47,
    "start_time": "2022-05-11T12:56:26.493Z"
   },
   {
    "duration": 7,
    "start_time": "2022-05-11T12:56:26.662Z"
   },
   {
    "duration": 5,
    "start_time": "2022-05-11T12:56:26.994Z"
   },
   {
    "duration": 4,
    "start_time": "2022-05-11T12:56:27.158Z"
   },
   {
    "duration": 7,
    "start_time": "2022-05-11T12:56:27.312Z"
   },
   {
    "duration": 8,
    "start_time": "2022-05-11T12:56:27.479Z"
   },
   {
    "duration": 7,
    "start_time": "2022-05-11T12:56:27.658Z"
   },
   {
    "duration": 11,
    "start_time": "2022-05-11T12:56:27.993Z"
   },
   {
    "duration": 20,
    "start_time": "2022-05-11T12:56:28.154Z"
   },
   {
    "duration": 13,
    "start_time": "2022-05-11T12:56:28.312Z"
   },
   {
    "duration": 6,
    "start_time": "2022-05-11T12:56:28.481Z"
   },
   {
    "duration": 11,
    "start_time": "2022-05-11T12:56:28.681Z"
   },
   {
    "duration": 25,
    "start_time": "2022-05-11T12:56:28.841Z"
   },
   {
    "duration": 13,
    "start_time": "2022-05-11T12:56:29.035Z"
   },
   {
    "duration": 7,
    "start_time": "2022-05-11T12:56:29.194Z"
   },
   {
    "duration": 11,
    "start_time": "2022-05-11T12:56:29.373Z"
   },
   {
    "duration": 11,
    "start_time": "2022-05-11T12:56:29.547Z"
   },
   {
    "duration": 8,
    "start_time": "2022-05-11T12:56:29.723Z"
   },
   {
    "duration": 15,
    "start_time": "2022-05-11T12:56:29.924Z"
   },
   {
    "duration": 5,
    "start_time": "2022-05-11T12:56:30.101Z"
   },
   {
    "duration": 20,
    "start_time": "2022-05-11T12:56:30.261Z"
   },
   {
    "duration": 12,
    "start_time": "2022-05-11T12:56:30.437Z"
   },
   {
    "duration": 15,
    "start_time": "2022-05-11T12:56:30.596Z"
   },
   {
    "duration": 5,
    "start_time": "2022-05-11T12:56:30.789Z"
   },
   {
    "duration": 13,
    "start_time": "2022-05-11T12:56:30.959Z"
   },
   {
    "duration": 5,
    "start_time": "2022-05-11T12:56:31.152Z"
   },
   {
    "duration": 10,
    "start_time": "2022-05-11T12:56:31.318Z"
   },
   {
    "duration": 19,
    "start_time": "2022-05-11T12:56:31.653Z"
   },
   {
    "duration": 36,
    "start_time": "2022-05-11T12:56:32.679Z"
   },
   {
    "duration": 27,
    "start_time": "2022-05-11T12:56:32.839Z"
   },
   {
    "duration": 6,
    "start_time": "2022-05-11T12:56:33.016Z"
   },
   {
    "duration": 7,
    "start_time": "2022-05-11T12:56:33.853Z"
   },
   {
    "duration": 11,
    "start_time": "2022-05-11T12:56:34.019Z"
   },
   {
    "duration": 5,
    "start_time": "2022-05-11T12:56:34.178Z"
   },
   {
    "duration": 19,
    "start_time": "2022-05-11T12:56:34.371Z"
   },
   {
    "duration": 5,
    "start_time": "2022-05-11T12:56:34.571Z"
   },
   {
    "duration": 17,
    "start_time": "2022-05-11T12:56:34.933Z"
   },
   {
    "duration": 5,
    "start_time": "2022-05-11T12:56:35.519Z"
   },
   {
    "duration": 4,
    "start_time": "2022-05-11T12:56:35.725Z"
   },
   {
    "duration": 4,
    "start_time": "2022-05-11T12:56:36.480Z"
   },
   {
    "duration": 15,
    "start_time": "2022-05-11T12:56:36.647Z"
   },
   {
    "duration": 14,
    "start_time": "2022-05-11T12:56:36.841Z"
   },
   {
    "duration": 7,
    "start_time": "2022-05-11T12:56:37.017Z"
   },
   {
    "duration": 9,
    "start_time": "2022-05-11T12:56:38.122Z"
   },
   {
    "duration": 6,
    "start_time": "2022-05-11T12:56:38.359Z"
   },
   {
    "duration": 14,
    "start_time": "2022-05-11T12:56:38.892Z"
   },
   {
    "duration": 6,
    "start_time": "2022-05-11T12:56:39.086Z"
   },
   {
    "duration": 1696,
    "start_time": "2022-05-11T12:56:39.677Z"
   },
   {
    "duration": 0,
    "start_time": "2022-05-11T12:56:41.375Z"
   },
   {
    "duration": 0,
    "start_time": "2022-05-11T12:56:41.377Z"
   },
   {
    "duration": 0,
    "start_time": "2022-05-11T12:56:41.378Z"
   },
   {
    "duration": 1421,
    "start_time": "2022-05-12T05:17:55.586Z"
   },
   {
    "duration": 32,
    "start_time": "2022-05-12T05:17:57.009Z"
   },
   {
    "duration": 29,
    "start_time": "2022-05-12T05:17:57.043Z"
   },
   {
    "duration": 9,
    "start_time": "2022-05-12T05:17:57.073Z"
   },
   {
    "duration": 4,
    "start_time": "2022-05-12T05:17:57.085Z"
   },
   {
    "duration": 5,
    "start_time": "2022-05-12T05:17:57.090Z"
   },
   {
    "duration": 29,
    "start_time": "2022-05-12T05:17:57.097Z"
   },
   {
    "duration": 38,
    "start_time": "2022-05-12T05:17:57.128Z"
   },
   {
    "duration": 4,
    "start_time": "2022-05-12T05:17:57.168Z"
   },
   {
    "duration": 4,
    "start_time": "2022-05-12T05:17:57.174Z"
   },
   {
    "duration": 6,
    "start_time": "2022-05-12T05:17:57.180Z"
   },
   {
    "duration": 5,
    "start_time": "2022-05-12T05:17:57.187Z"
   },
   {
    "duration": 6,
    "start_time": "2022-05-12T05:17:57.194Z"
   },
   {
    "duration": 7,
    "start_time": "2022-05-12T05:17:57.204Z"
   },
   {
    "duration": 13,
    "start_time": "2022-05-12T05:17:57.212Z"
   },
   {
    "duration": 42,
    "start_time": "2022-05-12T05:17:57.226Z"
   },
   {
    "duration": 7,
    "start_time": "2022-05-12T05:17:57.270Z"
   },
   {
    "duration": 12,
    "start_time": "2022-05-12T05:17:57.278Z"
   },
   {
    "duration": 17,
    "start_time": "2022-05-12T05:17:57.292Z"
   },
   {
    "duration": 9,
    "start_time": "2022-05-12T05:17:57.310Z"
   },
   {
    "duration": 5,
    "start_time": "2022-05-12T05:17:57.321Z"
   },
   {
    "duration": 37,
    "start_time": "2022-05-12T05:17:57.328Z"
   },
   {
    "duration": 8,
    "start_time": "2022-05-12T05:17:57.367Z"
   },
   {
    "duration": 10,
    "start_time": "2022-05-12T05:17:57.376Z"
   },
   {
    "duration": 8,
    "start_time": "2022-05-12T05:17:57.388Z"
   },
   {
    "duration": 4,
    "start_time": "2022-05-12T05:17:57.398Z"
   },
   {
    "duration": 11,
    "start_time": "2022-05-12T05:17:57.404Z"
   },
   {
    "duration": 8,
    "start_time": "2022-05-12T05:17:57.417Z"
   },
   {
    "duration": 9,
    "start_time": "2022-05-12T05:17:57.461Z"
   },
   {
    "duration": 4,
    "start_time": "2022-05-12T05:17:57.471Z"
   },
   {
    "duration": 10,
    "start_time": "2022-05-12T05:17:57.477Z"
   },
   {
    "duration": 6,
    "start_time": "2022-05-12T05:17:57.489Z"
   },
   {
    "duration": 9,
    "start_time": "2022-05-12T05:17:57.496Z"
   },
   {
    "duration": 11,
    "start_time": "2022-05-12T05:17:57.506Z"
   },
   {
    "duration": 50,
    "start_time": "2022-05-12T05:17:57.518Z"
   },
   {
    "duration": 16,
    "start_time": "2022-05-12T05:17:57.569Z"
   },
   {
    "duration": 4,
    "start_time": "2022-05-12T05:17:57.586Z"
   },
   {
    "duration": 7,
    "start_time": "2022-05-12T05:17:57.591Z"
   },
   {
    "duration": 12,
    "start_time": "2022-05-12T05:17:57.599Z"
   },
   {
    "duration": 5,
    "start_time": "2022-05-12T05:17:57.613Z"
   },
   {
    "duration": 11,
    "start_time": "2022-05-12T05:17:57.622Z"
   },
   {
    "duration": 3,
    "start_time": "2022-05-12T05:17:57.663Z"
   },
   {
    "duration": 14,
    "start_time": "2022-05-12T05:17:57.667Z"
   },
   {
    "duration": 6,
    "start_time": "2022-05-12T05:17:57.682Z"
   },
   {
    "duration": 5,
    "start_time": "2022-05-12T05:17:57.689Z"
   },
   {
    "duration": 4,
    "start_time": "2022-05-12T05:17:57.696Z"
   },
   {
    "duration": 11,
    "start_time": "2022-05-12T05:17:57.702Z"
   },
   {
    "duration": 10,
    "start_time": "2022-05-12T05:17:57.714Z"
   },
   {
    "duration": 5,
    "start_time": "2022-05-12T05:17:57.725Z"
   },
   {
    "duration": 32,
    "start_time": "2022-05-12T05:17:57.731Z"
   },
   {
    "duration": 8,
    "start_time": "2022-05-12T05:17:57.765Z"
   },
   {
    "duration": 12,
    "start_time": "2022-05-12T05:17:57.774Z"
   },
   {
    "duration": 4,
    "start_time": "2022-05-12T05:17:57.788Z"
   },
   {
    "duration": 2319,
    "start_time": "2022-05-12T05:17:57.793Z"
   },
   {
    "duration": 0,
    "start_time": "2022-05-12T05:18:00.113Z"
   },
   {
    "duration": 0,
    "start_time": "2022-05-12T05:18:00.114Z"
   },
   {
    "duration": 0,
    "start_time": "2022-05-12T05:18:00.115Z"
   },
   {
    "duration": 6,
    "start_time": "2022-05-12T05:19:08.574Z"
   },
   {
    "duration": 6,
    "start_time": "2022-05-12T05:21:14.769Z"
   },
   {
    "duration": 1934,
    "start_time": "2022-05-12T05:22:52.401Z"
   },
   {
    "duration": 2033,
    "start_time": "2022-05-12T05:22:57.923Z"
   },
   {
    "duration": 1204,
    "start_time": "2022-05-12T05:23:10.766Z"
   },
   {
    "duration": 31,
    "start_time": "2022-05-12T05:23:11.972Z"
   },
   {
    "duration": 17,
    "start_time": "2022-05-12T05:23:12.006Z"
   },
   {
    "duration": 8,
    "start_time": "2022-05-12T05:23:12.025Z"
   },
   {
    "duration": 29,
    "start_time": "2022-05-12T05:23:12.035Z"
   },
   {
    "duration": 8,
    "start_time": "2022-05-12T05:23:12.066Z"
   },
   {
    "duration": 32,
    "start_time": "2022-05-12T05:23:12.076Z"
   },
   {
    "duration": 5,
    "start_time": "2022-05-12T05:23:12.110Z"
   },
   {
    "duration": 11,
    "start_time": "2022-05-12T05:23:12.116Z"
   },
   {
    "duration": 6,
    "start_time": "2022-05-12T05:23:12.128Z"
   },
   {
    "duration": 8,
    "start_time": "2022-05-12T05:23:12.136Z"
   },
   {
    "duration": 5,
    "start_time": "2022-05-12T05:23:12.161Z"
   },
   {
    "duration": 6,
    "start_time": "2022-05-12T05:23:12.170Z"
   },
   {
    "duration": 11,
    "start_time": "2022-05-12T05:23:12.178Z"
   },
   {
    "duration": 15,
    "start_time": "2022-05-12T05:23:12.191Z"
   },
   {
    "duration": 10,
    "start_time": "2022-05-12T05:23:12.208Z"
   },
   {
    "duration": 5,
    "start_time": "2022-05-12T05:23:12.220Z"
   },
   {
    "duration": 39,
    "start_time": "2022-05-12T05:23:12.227Z"
   },
   {
    "duration": 20,
    "start_time": "2022-05-12T05:23:12.268Z"
   },
   {
    "duration": 11,
    "start_time": "2022-05-12T05:23:12.291Z"
   },
   {
    "duration": 7,
    "start_time": "2022-05-12T05:23:12.304Z"
   },
   {
    "duration": 10,
    "start_time": "2022-05-12T05:23:12.313Z"
   },
   {
    "duration": 10,
    "start_time": "2022-05-12T05:23:12.324Z"
   },
   {
    "duration": 29,
    "start_time": "2022-05-12T05:23:12.335Z"
   },
   {
    "duration": 13,
    "start_time": "2022-05-12T05:23:12.365Z"
   },
   {
    "duration": 4,
    "start_time": "2022-05-12T05:23:12.380Z"
   },
   {
    "duration": 12,
    "start_time": "2022-05-12T05:23:12.385Z"
   },
   {
    "duration": 9,
    "start_time": "2022-05-12T05:23:12.399Z"
   },
   {
    "duration": 9,
    "start_time": "2022-05-12T05:23:12.409Z"
   },
   {
    "duration": 3,
    "start_time": "2022-05-12T05:23:12.419Z"
   },
   {
    "duration": 43,
    "start_time": "2022-05-12T05:23:12.424Z"
   },
   {
    "duration": 4,
    "start_time": "2022-05-12T05:23:12.468Z"
   },
   {
    "duration": 8,
    "start_time": "2022-05-12T05:23:12.474Z"
   },
   {
    "duration": 10,
    "start_time": "2022-05-12T05:23:12.484Z"
   },
   {
    "duration": 23,
    "start_time": "2022-05-12T05:23:12.496Z"
   },
   {
    "duration": 46,
    "start_time": "2022-05-12T05:23:12.521Z"
   },
   {
    "duration": 6,
    "start_time": "2022-05-12T05:23:12.568Z"
   },
   {
    "duration": 6,
    "start_time": "2022-05-12T05:23:12.576Z"
   },
   {
    "duration": 12,
    "start_time": "2022-05-12T05:23:12.584Z"
   },
   {
    "duration": 5,
    "start_time": "2022-05-12T05:23:12.599Z"
   },
   {
    "duration": 12,
    "start_time": "2022-05-12T05:23:12.606Z"
   },
   {
    "duration": 5,
    "start_time": "2022-05-12T05:23:12.620Z"
   },
   {
    "duration": 41,
    "start_time": "2022-05-12T05:23:12.626Z"
   },
   {
    "duration": 2098,
    "start_time": "2022-05-12T05:23:12.669Z"
   },
   {
    "duration": 0,
    "start_time": "2022-05-12T05:23:14.769Z"
   },
   {
    "duration": 0,
    "start_time": "2022-05-12T05:23:14.770Z"
   },
   {
    "duration": 0,
    "start_time": "2022-05-12T05:23:14.771Z"
   },
   {
    "duration": 0,
    "start_time": "2022-05-12T05:23:14.773Z"
   },
   {
    "duration": 0,
    "start_time": "2022-05-12T05:23:14.774Z"
   },
   {
    "duration": 0,
    "start_time": "2022-05-12T05:23:14.775Z"
   },
   {
    "duration": 0,
    "start_time": "2022-05-12T05:23:14.776Z"
   },
   {
    "duration": 0,
    "start_time": "2022-05-12T05:23:14.778Z"
   },
   {
    "duration": 0,
    "start_time": "2022-05-12T05:23:14.779Z"
   },
   {
    "duration": 0,
    "start_time": "2022-05-12T05:23:14.780Z"
   },
   {
    "duration": 0,
    "start_time": "2022-05-12T05:23:14.781Z"
   },
   {
    "duration": 0,
    "start_time": "2022-05-12T05:23:14.782Z"
   },
   {
    "duration": 0,
    "start_time": "2022-05-12T05:23:14.783Z"
   },
   {
    "duration": 0,
    "start_time": "2022-05-12T05:23:14.785Z"
   },
   {
    "duration": 1879,
    "start_time": "2022-05-12T05:23:51.752Z"
   },
   {
    "duration": 2058,
    "start_time": "2022-05-12T05:24:08.725Z"
   },
   {
    "duration": 11,
    "start_time": "2022-05-12T05:24:21.669Z"
   },
   {
    "duration": 4,
    "start_time": "2022-05-12T05:24:33.351Z"
   },
   {
    "duration": 10,
    "start_time": "2022-05-12T05:24:36.222Z"
   },
   {
    "duration": 1191,
    "start_time": "2022-05-12T05:25:06.307Z"
   },
   {
    "duration": 31,
    "start_time": "2022-05-12T05:25:07.500Z"
   },
   {
    "duration": 16,
    "start_time": "2022-05-12T05:25:07.532Z"
   },
   {
    "duration": 21,
    "start_time": "2022-05-12T05:25:07.549Z"
   },
   {
    "duration": 4,
    "start_time": "2022-05-12T05:25:07.573Z"
   },
   {
    "duration": 9,
    "start_time": "2022-05-12T05:25:07.578Z"
   },
   {
    "duration": 30,
    "start_time": "2022-05-12T05:25:07.589Z"
   },
   {
    "duration": 6,
    "start_time": "2022-05-12T05:25:07.621Z"
   },
   {
    "duration": 6,
    "start_time": "2022-05-12T05:25:07.628Z"
   },
   {
    "duration": 29,
    "start_time": "2022-05-12T05:25:07.635Z"
   },
   {
    "duration": 10,
    "start_time": "2022-05-12T05:25:07.666Z"
   },
   {
    "duration": 8,
    "start_time": "2022-05-12T05:25:07.678Z"
   },
   {
    "duration": 9,
    "start_time": "2022-05-12T05:25:07.687Z"
   },
   {
    "duration": 8,
    "start_time": "2022-05-12T05:25:07.700Z"
   },
   {
    "duration": 15,
    "start_time": "2022-05-12T05:25:07.710Z"
   },
   {
    "duration": 36,
    "start_time": "2022-05-12T05:25:07.727Z"
   },
   {
    "duration": 5,
    "start_time": "2022-05-12T05:25:07.765Z"
   },
   {
    "duration": 13,
    "start_time": "2022-05-12T05:25:07.772Z"
   },
   {
    "duration": 18,
    "start_time": "2022-05-12T05:25:07.787Z"
   },
   {
    "duration": 10,
    "start_time": "2022-05-12T05:25:07.806Z"
   },
   {
    "duration": 6,
    "start_time": "2022-05-12T05:25:07.818Z"
   },
   {
    "duration": 37,
    "start_time": "2022-05-12T05:25:07.826Z"
   },
   {
    "duration": 9,
    "start_time": "2022-05-12T05:25:07.865Z"
   },
   {
    "duration": 6,
    "start_time": "2022-05-12T05:25:07.875Z"
   },
   {
    "duration": 10,
    "start_time": "2022-05-12T05:25:07.882Z"
   },
   {
    "duration": 3,
    "start_time": "2022-05-12T05:25:07.894Z"
   },
   {
    "duration": 12,
    "start_time": "2022-05-12T05:25:07.898Z"
   },
   {
    "duration": 9,
    "start_time": "2022-05-12T05:25:07.911Z"
   },
   {
    "duration": 41,
    "start_time": "2022-05-12T05:25:07.922Z"
   },
   {
    "duration": 4,
    "start_time": "2022-05-12T05:25:07.964Z"
   },
   {
    "duration": 10,
    "start_time": "2022-05-12T05:25:07.969Z"
   },
   {
    "duration": 3,
    "start_time": "2022-05-12T05:25:07.980Z"
   },
   {
    "duration": 7,
    "start_time": "2022-05-12T05:25:07.985Z"
   },
   {
    "duration": 10,
    "start_time": "2022-05-12T05:25:07.993Z"
   },
   {
    "duration": 58,
    "start_time": "2022-05-12T05:25:08.004Z"
   },
   {
    "duration": 15,
    "start_time": "2022-05-12T05:25:08.063Z"
   },
   {
    "duration": 4,
    "start_time": "2022-05-12T05:25:08.080Z"
   },
   {
    "duration": 6,
    "start_time": "2022-05-12T05:25:08.086Z"
   },
   {
    "duration": 8,
    "start_time": "2022-05-12T05:25:08.094Z"
   },
   {
    "duration": 4,
    "start_time": "2022-05-12T05:25:08.104Z"
   },
   {
    "duration": 10,
    "start_time": "2022-05-12T05:25:08.113Z"
   },
   {
    "duration": 4,
    "start_time": "2022-05-12T05:25:08.162Z"
   },
   {
    "duration": 14,
    "start_time": "2022-05-12T05:25:08.167Z"
   },
   {
    "duration": 5,
    "start_time": "2022-05-12T05:25:08.182Z"
   },
   {
    "duration": 6,
    "start_time": "2022-05-12T05:25:08.188Z"
   },
   {
    "duration": 6,
    "start_time": "2022-05-12T05:25:08.195Z"
   },
   {
    "duration": 11,
    "start_time": "2022-05-12T05:25:08.202Z"
   },
   {
    "duration": 13,
    "start_time": "2022-05-12T05:25:08.215Z"
   },
   {
    "duration": 5,
    "start_time": "2022-05-12T05:25:08.229Z"
   },
   {
    "duration": 27,
    "start_time": "2022-05-12T05:25:08.235Z"
   },
   {
    "duration": 8,
    "start_time": "2022-05-12T05:25:08.264Z"
   },
   {
    "duration": 11,
    "start_time": "2022-05-12T05:25:08.273Z"
   },
   {
    "duration": 4,
    "start_time": "2022-05-12T05:25:08.286Z"
   },
   {
    "duration": 2071,
    "start_time": "2022-05-12T05:25:08.291Z"
   },
   {
    "duration": 0,
    "start_time": "2022-05-12T05:25:10.364Z"
   },
   {
    "duration": 0,
    "start_time": "2022-05-12T05:25:10.365Z"
   },
   {
    "duration": 0,
    "start_time": "2022-05-12T05:25:10.366Z"
   },
   {
    "duration": 2132,
    "start_time": "2022-05-12T05:25:47.204Z"
   },
   {
    "duration": 1955,
    "start_time": "2022-05-12T05:25:49.785Z"
   },
   {
    "duration": 7,
    "start_time": "2022-05-12T05:26:24.229Z"
   },
   {
    "duration": 12,
    "start_time": "2022-05-12T05:27:48.226Z"
   },
   {
    "duration": 7,
    "start_time": "2022-05-12T05:27:48.908Z"
   },
   {
    "duration": 5,
    "start_time": "2022-05-12T05:27:50.544Z"
   },
   {
    "duration": 54,
    "start_time": "2022-05-12T12:09:21.161Z"
   },
   {
    "duration": 1458,
    "start_time": "2022-05-12T12:09:28.376Z"
   },
   {
    "duration": 46,
    "start_time": "2022-05-12T12:09:29.836Z"
   },
   {
    "duration": 34,
    "start_time": "2022-05-12T12:09:29.884Z"
   },
   {
    "duration": 9,
    "start_time": "2022-05-12T12:09:31.174Z"
   },
   {
    "duration": 66,
    "start_time": "2022-05-12T12:09:35.159Z"
   },
   {
    "duration": 10,
    "start_time": "2022-05-12T12:09:43.914Z"
   },
   {
    "duration": 8,
    "start_time": "2022-05-12T12:09:46.041Z"
   },
   {
    "duration": 5,
    "start_time": "2022-05-12T12:34:36.627Z"
   },
   {
    "duration": 4,
    "start_time": "2022-05-12T12:34:39.099Z"
   },
   {
    "duration": 6,
    "start_time": "2022-05-12T12:35:00.050Z"
   },
   {
    "duration": 4,
    "start_time": "2022-05-12T12:35:15.488Z"
   },
   {
    "duration": 6,
    "start_time": "2022-05-12T12:35:18.735Z"
   },
   {
    "duration": 4,
    "start_time": "2022-05-12T12:35:19.705Z"
   },
   {
    "duration": 5,
    "start_time": "2022-05-12T12:36:22.763Z"
   },
   {
    "duration": 8,
    "start_time": "2022-05-12T12:36:41.820Z"
   },
   {
    "duration": 8,
    "start_time": "2022-05-12T12:37:07.637Z"
   },
   {
    "duration": 4,
    "start_time": "2022-05-12T12:37:38.232Z"
   },
   {
    "duration": 10,
    "start_time": "2022-05-12T12:37:38.744Z"
   },
   {
    "duration": 3,
    "start_time": "2022-05-12T12:37:43.490Z"
   },
   {
    "duration": 10,
    "start_time": "2022-05-12T12:37:44.140Z"
   },
   {
    "duration": 4,
    "start_time": "2022-05-12T12:37:47.229Z"
   },
   {
    "duration": 34,
    "start_time": "2022-05-12T12:40:42.569Z"
   },
   {
    "duration": 33,
    "start_time": "2022-05-12T12:41:24.747Z"
   },
   {
    "duration": 29,
    "start_time": "2022-05-12T12:41:25.342Z"
   },
   {
    "duration": 8,
    "start_time": "2022-05-12T12:41:49.942Z"
   },
   {
    "duration": 33,
    "start_time": "2022-05-12T12:41:50.894Z"
   },
   {
    "duration": 9,
    "start_time": "2022-05-12T12:44:10.348Z"
   },
   {
    "duration": 32,
    "start_time": "2022-05-12T12:44:11.684Z"
   },
   {
    "duration": 3,
    "start_time": "2022-05-12T12:44:19.462Z"
   },
   {
    "duration": 31,
    "start_time": "2022-05-12T12:44:20.568Z"
   },
   {
    "duration": 3,
    "start_time": "2022-05-12T12:44:33.831Z"
   },
   {
    "duration": 75,
    "start_time": "2022-05-12T12:44:52.434Z"
   },
   {
    "duration": 44,
    "start_time": "2022-05-12T12:44:52.675Z"
   },
   {
    "duration": 18,
    "start_time": "2022-05-12T12:44:53.741Z"
   },
   {
    "duration": 10,
    "start_time": "2022-05-12T12:44:54.938Z"
   },
   {
    "duration": 3,
    "start_time": "2022-05-12T12:44:57.347Z"
   },
   {
    "duration": 33,
    "start_time": "2022-05-12T12:44:59.567Z"
   },
   {
    "duration": 31,
    "start_time": "2022-05-12T12:45:24.507Z"
   },
   {
    "duration": 4,
    "start_time": "2022-05-12T12:45:26.202Z"
   },
   {
    "duration": 4,
    "start_time": "2022-05-12T12:46:21.358Z"
   },
   {
    "duration": 4,
    "start_time": "2022-05-12T12:46:24.171Z"
   },
   {
    "duration": 6,
    "start_time": "2022-05-12T12:56:51.510Z"
   },
   {
    "duration": 3,
    "start_time": "2022-05-12T12:57:20.976Z"
   },
   {
    "duration": 8,
    "start_time": "2022-05-12T12:57:21.505Z"
   },
   {
    "duration": 4,
    "start_time": "2022-05-12T12:57:22.363Z"
   },
   {
    "duration": 5,
    "start_time": "2022-05-12T12:57:23.858Z"
   },
   {
    "duration": 3,
    "start_time": "2022-05-12T12:57:36.796Z"
   },
   {
    "duration": 4,
    "start_time": "2022-05-12T12:58:23.817Z"
   },
   {
    "duration": 4,
    "start_time": "2022-05-12T13:01:30.868Z"
   },
   {
    "duration": 2,
    "start_time": "2022-05-12T13:01:31.474Z"
   },
   {
    "duration": 4,
    "start_time": "2022-05-12T13:01:33.044Z"
   },
   {
    "duration": 32,
    "start_time": "2022-05-12T13:02:07.726Z"
   },
   {
    "duration": 287,
    "start_time": "2022-05-12T13:02:36.285Z"
   },
   {
    "duration": 32,
    "start_time": "2022-05-12T13:02:36.573Z"
   },
   {
    "duration": 15,
    "start_time": "2022-05-12T13:02:36.735Z"
   },
   {
    "duration": 10,
    "start_time": "2022-05-12T13:02:36.877Z"
   },
   {
    "duration": 3,
    "start_time": "2022-05-12T13:02:37.846Z"
   },
   {
    "duration": 3,
    "start_time": "2022-05-12T13:02:38.000Z"
   },
   {
    "duration": 33,
    "start_time": "2022-05-12T13:02:38.170Z"
   },
   {
    "duration": 4,
    "start_time": "2022-05-12T13:02:38.336Z"
   },
   {
    "duration": 32,
    "start_time": "2022-05-12T13:02:39.492Z"
   },
   {
    "duration": 5,
    "start_time": "2022-05-12T13:02:39.660Z"
   },
   {
    "duration": 4,
    "start_time": "2022-05-12T13:02:40.004Z"
   },
   {
    "duration": 4,
    "start_time": "2022-05-12T13:02:40.172Z"
   },
   {
    "duration": 7,
    "start_time": "2022-05-12T13:02:40.380Z"
   },
   {
    "duration": 5,
    "start_time": "2022-05-12T13:02:40.700Z"
   },
   {
    "duration": 6,
    "start_time": "2022-05-12T13:02:40.906Z"
   },
   {
    "duration": 7,
    "start_time": "2022-05-12T13:02:41.067Z"
   },
   {
    "duration": 11,
    "start_time": "2022-05-12T13:02:41.250Z"
   },
   {
    "duration": 8,
    "start_time": "2022-05-12T13:02:41.435Z"
   },
   {
    "duration": 4,
    "start_time": "2022-05-12T13:02:41.957Z"
   },
   {
    "duration": 7,
    "start_time": "2022-05-12T13:02:42.134Z"
   },
   {
    "duration": 13,
    "start_time": "2022-05-12T13:02:42.317Z"
   },
   {
    "duration": 8,
    "start_time": "2022-05-12T13:02:42.493Z"
   },
   {
    "duration": 5,
    "start_time": "2022-05-12T13:02:42.657Z"
   },
   {
    "duration": 7,
    "start_time": "2022-05-12T13:02:42.829Z"
   },
   {
    "duration": 8,
    "start_time": "2022-05-12T13:02:43.006Z"
   },
   {
    "duration": 5,
    "start_time": "2022-05-12T13:02:43.176Z"
   },
   {
    "duration": 8,
    "start_time": "2022-05-12T13:02:43.366Z"
   },
   {
    "duration": 3,
    "start_time": "2022-05-12T13:02:43.560Z"
   },
   {
    "duration": 12,
    "start_time": "2022-05-12T13:02:43.909Z"
   },
   {
    "duration": 8,
    "start_time": "2022-05-12T13:02:44.061Z"
   },
   {
    "duration": 9,
    "start_time": "2022-05-12T13:02:44.263Z"
   },
   {
    "duration": 3,
    "start_time": "2022-05-12T13:02:44.436Z"
   },
   {
    "duration": 9,
    "start_time": "2022-05-12T13:02:44.605Z"
   },
   {
    "duration": 3,
    "start_time": "2022-05-12T13:02:44.798Z"
   },
   {
    "duration": 2,
    "start_time": "2022-05-12T13:02:44.989Z"
   },
   {
    "duration": 3,
    "start_time": "2022-05-12T13:02:45.158Z"
   },
   {
    "duration": 30,
    "start_time": "2022-05-12T13:02:45.350Z"
   },
   {
    "duration": 11,
    "start_time": "2022-05-12T13:02:45.936Z"
   },
   {
    "duration": 24,
    "start_time": "2022-05-12T13:02:47.630Z"
   },
   {
    "duration": 17,
    "start_time": "2022-05-12T13:02:47.873Z"
   },
   {
    "duration": 4,
    "start_time": "2022-05-12T13:02:51.338Z"
   },
   {
    "duration": 5,
    "start_time": "2022-05-12T13:02:53.748Z"
   },
   {
    "duration": 8,
    "start_time": "2022-05-12T13:02:54.014Z"
   },
   {
    "duration": 3,
    "start_time": "2022-05-12T13:02:54.545Z"
   },
   {
    "duration": 13,
    "start_time": "2022-05-12T13:02:55.304Z"
   },
   {
    "duration": 4,
    "start_time": "2022-05-12T13:02:55.646Z"
   },
   {
    "duration": 11,
    "start_time": "2022-05-12T13:02:58.738Z"
   },
   {
    "duration": 3,
    "start_time": "2022-05-12T13:02:59.784Z"
   },
   {
    "duration": 3,
    "start_time": "2022-05-12T13:02:59.995Z"
   },
   {
    "duration": 13,
    "start_time": "2022-05-12T13:05:40.979Z"
   },
   {
    "duration": 11,
    "start_time": "2022-05-12T13:06:02.811Z"
   },
   {
    "duration": 11,
    "start_time": "2022-05-12T13:07:29.294Z"
   },
   {
    "duration": 70,
    "start_time": "2022-05-12T13:08:11.338Z"
   },
   {
    "duration": 33,
    "start_time": "2022-05-12T13:08:11.507Z"
   },
   {
    "duration": 17,
    "start_time": "2022-05-12T13:08:11.788Z"
   },
   {
    "duration": 10,
    "start_time": "2022-05-12T13:08:11.963Z"
   },
   {
    "duration": 2,
    "start_time": "2022-05-12T13:08:12.885Z"
   },
   {
    "duration": 3,
    "start_time": "2022-05-12T13:08:13.071Z"
   },
   {
    "duration": 33,
    "start_time": "2022-05-12T13:08:13.245Z"
   },
   {
    "duration": 3,
    "start_time": "2022-05-12T13:08:13.422Z"
   },
   {
    "duration": 33,
    "start_time": "2022-05-12T13:08:14.644Z"
   },
   {
    "duration": 6,
    "start_time": "2022-05-12T13:08:14.782Z"
   },
   {
    "duration": 4,
    "start_time": "2022-05-12T13:08:15.124Z"
   },
   {
    "duration": 4,
    "start_time": "2022-05-12T13:08:15.292Z"
   },
   {
    "duration": 6,
    "start_time": "2022-05-12T13:08:15.471Z"
   },
   {
    "duration": 5,
    "start_time": "2022-05-12T13:08:15.846Z"
   },
   {
    "duration": 6,
    "start_time": "2022-05-12T13:08:16.030Z"
   },
   {
    "duration": 8,
    "start_time": "2022-05-12T13:08:16.215Z"
   },
   {
    "duration": 12,
    "start_time": "2022-05-12T13:08:16.407Z"
   },
   {
    "duration": 9,
    "start_time": "2022-05-12T13:08:16.583Z"
   },
   {
    "duration": 6,
    "start_time": "2022-05-12T13:08:16.986Z"
   },
   {
    "duration": 8,
    "start_time": "2022-05-12T13:08:17.164Z"
   },
   {
    "duration": 14,
    "start_time": "2022-05-12T13:08:17.333Z"
   },
   {
    "duration": 9,
    "start_time": "2022-05-12T13:08:17.517Z"
   },
   {
    "duration": 4,
    "start_time": "2022-05-12T13:08:17.702Z"
   },
   {
    "duration": 7,
    "start_time": "2022-05-12T13:08:17.849Z"
   },
   {
    "duration": 7,
    "start_time": "2022-05-12T13:08:18.046Z"
   },
   {
    "duration": 6,
    "start_time": "2022-05-12T13:08:18.222Z"
   },
   {
    "duration": 11,
    "start_time": "2022-05-12T13:08:18.416Z"
   },
   {
    "duration": 4,
    "start_time": "2022-05-12T13:08:18.607Z"
   },
   {
    "duration": 12,
    "start_time": "2022-05-12T13:08:18.985Z"
   },
   {
    "duration": 8,
    "start_time": "2022-05-12T13:08:19.795Z"
   },
   {
    "duration": 11,
    "start_time": "2022-05-12T13:08:19.805Z"
   },
   {
    "duration": 3,
    "start_time": "2022-05-12T13:08:19.818Z"
   },
   {
    "duration": 10,
    "start_time": "2022-05-12T13:08:19.822Z"
   },
   {
    "duration": 4,
    "start_time": "2022-05-12T13:08:19.979Z"
   },
   {
    "duration": 2,
    "start_time": "2022-05-12T13:08:20.197Z"
   },
   {
    "duration": 4,
    "start_time": "2022-05-12T13:08:20.407Z"
   },
   {
    "duration": 30,
    "start_time": "2022-05-12T13:08:20.683Z"
   },
   {
    "duration": 11,
    "start_time": "2022-05-12T13:08:21.382Z"
   },
   {
    "duration": 26,
    "start_time": "2022-05-12T13:08:22.690Z"
   },
   {
    "duration": 19,
    "start_time": "2022-05-12T13:08:22.930Z"
   },
   {
    "duration": 5,
    "start_time": "2022-05-12T13:08:23.124Z"
   },
   {
    "duration": 12,
    "start_time": "2022-05-12T13:08:24.073Z"
   },
   {
    "duration": 8,
    "start_time": "2022-05-12T13:09:10.788Z"
   },
   {
    "duration": 13,
    "start_time": "2022-05-12T13:09:16.281Z"
   },
   {
    "duration": 12,
    "start_time": "2022-05-12T13:11:01.874Z"
   },
   {
    "duration": 14,
    "start_time": "2022-05-12T13:13:20.057Z"
   },
   {
    "duration": 12,
    "start_time": "2022-05-12T13:17:23.285Z"
   },
   {
    "duration": 4,
    "start_time": "2022-05-12T13:19:34.742Z"
   },
   {
    "duration": 12,
    "start_time": "2022-05-12T13:21:03.614Z"
   },
   {
    "duration": 3,
    "start_time": "2022-05-12T13:22:43.723Z"
   },
   {
    "duration": 8,
    "start_time": "2022-05-12T13:24:49.159Z"
   },
   {
    "duration": 4,
    "start_time": "2022-05-12T13:25:49.989Z"
   },
   {
    "duration": 8,
    "start_time": "2022-05-12T13:26:05.270Z"
   },
   {
    "duration": 12,
    "start_time": "2022-05-12T13:26:30.096Z"
   },
   {
    "duration": 5,
    "start_time": "2022-05-12T13:27:18.905Z"
   },
   {
    "duration": 13,
    "start_time": "2022-05-12T13:27:21.404Z"
   },
   {
    "duration": 3,
    "start_time": "2022-05-12T13:28:06.791Z"
   },
   {
    "duration": 7,
    "start_time": "2022-05-12T13:28:19.896Z"
   },
   {
    "duration": 12,
    "start_time": "2022-05-12T13:30:12.932Z"
   },
   {
    "duration": 10,
    "start_time": "2022-05-12T15:12:58.885Z"
   },
   {
    "duration": 60,
    "start_time": "2022-05-12T15:13:00.347Z"
   },
   {
    "duration": 8,
    "start_time": "2022-05-12T15:13:07.708Z"
   },
   {
    "duration": 1560,
    "start_time": "2022-05-12T15:13:56.082Z"
   },
   {
    "duration": 43,
    "start_time": "2022-05-12T15:13:57.644Z"
   },
   {
    "duration": 19,
    "start_time": "2022-05-12T15:13:57.689Z"
   },
   {
    "duration": 31,
    "start_time": "2022-05-12T15:13:57.711Z"
   },
   {
    "duration": 5,
    "start_time": "2022-05-12T15:13:57.744Z"
   },
   {
    "duration": 4,
    "start_time": "2022-05-12T15:13:57.818Z"
   },
   {
    "duration": 35,
    "start_time": "2022-05-12T15:13:57.990Z"
   },
   {
    "duration": 4,
    "start_time": "2022-05-12T15:13:58.149Z"
   },
   {
    "duration": 35,
    "start_time": "2022-05-12T15:13:59.561Z"
   },
   {
    "duration": 7,
    "start_time": "2022-05-12T15:13:59.720Z"
   },
   {
    "duration": 5,
    "start_time": "2022-05-12T15:14:00.063Z"
   },
   {
    "duration": 4,
    "start_time": "2022-05-12T15:14:00.265Z"
   },
   {
    "duration": 6,
    "start_time": "2022-05-12T15:14:00.434Z"
   },
   {
    "duration": 6,
    "start_time": "2022-05-12T15:14:00.802Z"
   },
   {
    "duration": 7,
    "start_time": "2022-05-12T15:14:00.973Z"
   },
   {
    "duration": 8,
    "start_time": "2022-05-12T15:14:01.163Z"
   },
   {
    "duration": 14,
    "start_time": "2022-05-12T15:14:01.340Z"
   },
   {
    "duration": 11,
    "start_time": "2022-05-12T15:14:01.532Z"
   },
   {
    "duration": 5,
    "start_time": "2022-05-12T15:14:02.847Z"
   },
   {
    "duration": 12,
    "start_time": "2022-05-12T15:14:03.134Z"
   },
   {
    "duration": 20,
    "start_time": "2022-05-12T15:14:03.680Z"
   },
   {
    "duration": 13,
    "start_time": "2022-05-12T15:14:04.025Z"
   },
   {
    "duration": 6,
    "start_time": "2022-05-12T15:14:04.372Z"
   },
   {
    "duration": 11,
    "start_time": "2022-05-12T15:14:04.572Z"
   },
   {
    "duration": 11,
    "start_time": "2022-05-12T15:14:04.972Z"
   },
   {
    "duration": 8,
    "start_time": "2022-05-12T15:14:05.140Z"
   },
   {
    "duration": 13,
    "start_time": "2022-05-12T15:14:05.495Z"
   },
   {
    "duration": 5,
    "start_time": "2022-05-12T15:14:05.966Z"
   },
   {
    "duration": 18,
    "start_time": "2022-05-12T15:14:06.327Z"
   },
   {
    "duration": 11,
    "start_time": "2022-05-12T15:14:06.534Z"
   },
   {
    "duration": 11,
    "start_time": "2022-05-12T15:14:07.102Z"
   },
   {
    "duration": 4,
    "start_time": "2022-05-12T15:14:07.584Z"
   },
   {
    "duration": 10,
    "start_time": "2022-05-12T15:14:07.751Z"
   },
   {
    "duration": 5,
    "start_time": "2022-05-12T15:14:08.121Z"
   },
   {
    "duration": 2,
    "start_time": "2022-05-12T15:14:08.291Z"
   },
   {
    "duration": 4,
    "start_time": "2022-05-12T15:14:08.490Z"
   },
   {
    "duration": 39,
    "start_time": "2022-05-12T15:14:08.707Z"
   },
   {
    "duration": 12,
    "start_time": "2022-05-12T15:14:09.352Z"
   },
   {
    "duration": 28,
    "start_time": "2022-05-12T15:14:10.847Z"
   },
   {
    "duration": 19,
    "start_time": "2022-05-12T15:14:11.091Z"
   },
   {
    "duration": 4,
    "start_time": "2022-05-12T15:14:11.344Z"
   },
   {
    "duration": 8,
    "start_time": "2022-05-12T15:14:12.693Z"
   },
   {
    "duration": 4,
    "start_time": "2022-05-12T15:14:12.996Z"
   },
   {
    "duration": 8,
    "start_time": "2022-05-12T15:14:13.591Z"
   },
   {
    "duration": 8,
    "start_time": "2022-05-12T15:14:14.411Z"
   },
   {
    "duration": 4,
    "start_time": "2022-05-12T15:14:15.260Z"
   },
   {
    "duration": 12,
    "start_time": "2022-05-12T15:14:16.329Z"
   },
   {
    "duration": 3,
    "start_time": "2022-05-12T15:14:18.285Z"
   },
   {
    "duration": 3,
    "start_time": "2022-05-12T15:14:18.837Z"
   },
   {
    "duration": 4,
    "start_time": "2022-05-12T15:14:22.212Z"
   },
   {
    "duration": 8,
    "start_time": "2022-05-12T15:14:23.287Z"
   },
   {
    "duration": 12,
    "start_time": "2022-05-12T15:14:24.686Z"
   },
   {
    "duration": 6,
    "start_time": "2022-05-12T15:14:26.546Z"
   },
   {
    "duration": 4,
    "start_time": "2022-05-12T15:14:55.529Z"
   },
   {
    "duration": 8,
    "start_time": "2022-05-12T15:14:56.142Z"
   },
   {
    "duration": 11,
    "start_time": "2022-05-12T15:14:57.401Z"
   },
   {
    "duration": 6,
    "start_time": "2022-05-12T15:14:57.939Z"
   },
   {
    "duration": 4,
    "start_time": "2022-05-12T15:15:59.326Z"
   },
   {
    "duration": 3,
    "start_time": "2022-05-12T15:16:01.278Z"
   },
   {
    "duration": 8,
    "start_time": "2022-05-12T15:16:01.737Z"
   },
   {
    "duration": 10,
    "start_time": "2022-05-12T15:16:02.618Z"
   },
   {
    "duration": 6,
    "start_time": "2022-05-12T15:16:03.060Z"
   },
   {
    "duration": 85,
    "start_time": "2022-05-12T15:20:25.797Z"
   },
   {
    "duration": 33,
    "start_time": "2022-05-12T15:20:25.966Z"
   },
   {
    "duration": 19,
    "start_time": "2022-05-12T15:20:26.321Z"
   },
   {
    "duration": 11,
    "start_time": "2022-05-12T15:20:26.486Z"
   },
   {
    "duration": 2,
    "start_time": "2022-05-12T15:20:27.459Z"
   },
   {
    "duration": 4,
    "start_time": "2022-05-12T15:20:27.607Z"
   },
   {
    "duration": 35,
    "start_time": "2022-05-12T15:20:27.770Z"
   },
   {
    "duration": 4,
    "start_time": "2022-05-12T15:20:27.928Z"
   },
   {
    "duration": 35,
    "start_time": "2022-05-12T15:20:29.083Z"
   },
   {
    "duration": 7,
    "start_time": "2022-05-12T15:20:29.250Z"
   },
   {
    "duration": 3,
    "start_time": "2022-05-12T15:20:29.598Z"
   },
   {
    "duration": 4,
    "start_time": "2022-05-12T15:20:29.772Z"
   },
   {
    "duration": 6,
    "start_time": "2022-05-12T15:20:29.944Z"
   },
   {
    "duration": 5,
    "start_time": "2022-05-12T15:20:30.284Z"
   },
   {
    "duration": 7,
    "start_time": "2022-05-12T15:20:30.509Z"
   },
   {
    "duration": 9,
    "start_time": "2022-05-12T15:20:30.661Z"
   },
   {
    "duration": 13,
    "start_time": "2022-05-12T15:20:30.847Z"
   },
   {
    "duration": 10,
    "start_time": "2022-05-12T15:20:31.016Z"
   },
   {
    "duration": 5,
    "start_time": "2022-05-12T15:20:31.568Z"
   },
   {
    "duration": 7,
    "start_time": "2022-05-12T15:20:31.760Z"
   },
   {
    "duration": 14,
    "start_time": "2022-05-12T15:20:31.967Z"
   },
   {
    "duration": 9,
    "start_time": "2022-05-12T15:20:32.161Z"
   },
   {
    "duration": 4,
    "start_time": "2022-05-12T15:20:32.347Z"
   },
   {
    "duration": 7,
    "start_time": "2022-05-12T15:20:32.538Z"
   },
   {
    "duration": 8,
    "start_time": "2022-05-12T15:20:32.738Z"
   },
   {
    "duration": 6,
    "start_time": "2022-05-12T15:20:32.915Z"
   },
   {
    "duration": 10,
    "start_time": "2022-05-12T15:20:33.140Z"
   },
   {
    "duration": 5,
    "start_time": "2022-05-12T15:20:33.324Z"
   },
   {
    "duration": 19,
    "start_time": "2022-05-12T15:20:33.694Z"
   },
   {
    "duration": 12,
    "start_time": "2022-05-12T15:20:33.876Z"
   },
   {
    "duration": 12,
    "start_time": "2022-05-12T15:20:34.062Z"
   },
   {
    "duration": 4,
    "start_time": "2022-05-12T15:20:34.221Z"
   },
   {
    "duration": 10,
    "start_time": "2022-05-12T15:20:34.421Z"
   },
   {
    "duration": 5,
    "start_time": "2022-05-12T15:20:34.637Z"
   },
   {
    "duration": 2,
    "start_time": "2022-05-12T15:20:34.821Z"
   },
   {
    "duration": 4,
    "start_time": "2022-05-12T15:20:35.233Z"
   },
   {
    "duration": 37,
    "start_time": "2022-05-12T15:20:35.432Z"
   },
   {
    "duration": 13,
    "start_time": "2022-05-12T15:20:36.194Z"
   },
   {
    "duration": 27,
    "start_time": "2022-05-12T15:20:37.672Z"
   },
   {
    "duration": 20,
    "start_time": "2022-05-12T15:20:37.876Z"
   },
   {
    "duration": 6,
    "start_time": "2022-05-12T15:20:38.077Z"
   },
   {
    "duration": 8,
    "start_time": "2022-05-12T15:20:39.102Z"
   },
   {
    "duration": 5,
    "start_time": "2022-05-12T15:20:39.399Z"
   },
   {
    "duration": 8,
    "start_time": "2022-05-12T15:20:39.809Z"
   },
   {
    "duration": 9,
    "start_time": "2022-05-12T15:20:40.257Z"
   },
   {
    "duration": 4,
    "start_time": "2022-05-12T15:20:40.570Z"
   },
   {
    "duration": 11,
    "start_time": "2022-05-12T15:20:41.740Z"
   },
   {
    "duration": 3,
    "start_time": "2022-05-12T15:20:43.662Z"
   },
   {
    "duration": 3,
    "start_time": "2022-05-12T15:20:43.959Z"
   },
   {
    "duration": 4,
    "start_time": "2022-05-12T15:20:46.387Z"
   },
   {
    "duration": 8,
    "start_time": "2022-05-12T15:20:48.985Z"
   },
   {
    "duration": 10,
    "start_time": "2022-05-12T15:20:50.106Z"
   },
   {
    "duration": 6,
    "start_time": "2022-05-12T15:20:50.500Z"
   },
   {
    "duration": 71,
    "start_time": "2022-05-12T15:31:16.640Z"
   },
   {
    "duration": 9,
    "start_time": "2022-05-12T15:31:26.722Z"
   },
   {
    "duration": 12,
    "start_time": "2022-05-12T15:32:48.064Z"
   },
   {
    "duration": 4,
    "start_time": "2022-05-12T15:32:51.811Z"
   },
   {
    "duration": 12,
    "start_time": "2022-05-12T15:32:53.622Z"
   },
   {
    "duration": 2308,
    "start_time": "2022-05-12T15:39:10.283Z"
   },
   {
    "duration": 4,
    "start_time": "2022-05-12T15:39:12.746Z"
   },
   {
    "duration": 691,
    "start_time": "2022-05-12T16:03:13.340Z"
   },
   {
    "duration": 5,
    "start_time": "2022-05-12T18:21:14.672Z"
   },
   {
    "duration": 20,
    "start_time": "2022-05-12T18:21:16.401Z"
   },
   {
    "duration": 4,
    "start_time": "2022-05-12T18:22:32.030Z"
   },
   {
    "duration": 11,
    "start_time": "2022-05-12T18:22:32.583Z"
   },
   {
    "duration": 13,
    "start_time": "2022-05-12T18:22:33.767Z"
   },
   {
    "duration": 4,
    "start_time": "2022-05-12T18:23:08.826Z"
   },
   {
    "duration": 16,
    "start_time": "2022-05-12T18:23:40.229Z"
   },
   {
    "duration": 6,
    "start_time": "2022-05-12T18:24:06.604Z"
   },
   {
    "duration": 4,
    "start_time": "2022-05-12T18:24:51.668Z"
   },
   {
    "duration": 17,
    "start_time": "2022-05-12T18:24:52.261Z"
   },
   {
    "duration": 7,
    "start_time": "2022-05-12T18:24:52.846Z"
   },
   {
    "duration": 74,
    "start_time": "2022-05-12T18:25:04.173Z"
   },
   {
    "duration": 35,
    "start_time": "2022-05-12T18:25:04.322Z"
   },
   {
    "duration": 19,
    "start_time": "2022-05-12T18:25:04.798Z"
   },
   {
    "duration": 12,
    "start_time": "2022-05-12T18:25:04.962Z"
   },
   {
    "duration": 3,
    "start_time": "2022-05-12T18:25:05.976Z"
   },
   {
    "duration": 5,
    "start_time": "2022-05-12T18:25:06.138Z"
   },
   {
    "duration": 45,
    "start_time": "2022-05-12T18:25:06.315Z"
   },
   {
    "duration": 5,
    "start_time": "2022-05-12T18:25:06.489Z"
   },
   {
    "duration": 38,
    "start_time": "2022-05-12T18:25:08.264Z"
   },
   {
    "duration": 6,
    "start_time": "2022-05-12T18:25:08.304Z"
   },
   {
    "duration": 7,
    "start_time": "2022-05-12T18:25:08.312Z"
   },
   {
    "duration": 4,
    "start_time": "2022-05-12T18:25:08.419Z"
   },
   {
    "duration": 7,
    "start_time": "2022-05-12T18:25:08.598Z"
   },
   {
    "duration": 5,
    "start_time": "2022-05-12T18:25:08.973Z"
   },
   {
    "duration": 7,
    "start_time": "2022-05-12T18:25:09.151Z"
   },
   {
    "duration": 9,
    "start_time": "2022-05-12T18:25:09.564Z"
   },
   {
    "duration": 20,
    "start_time": "2022-05-12T18:25:09.724Z"
   },
   {
    "duration": 15,
    "start_time": "2022-05-12T18:25:09.904Z"
   },
   {
    "duration": 6,
    "start_time": "2022-05-12T18:25:10.281Z"
   },
   {
    "duration": 11,
    "start_time": "2022-05-12T18:25:10.483Z"
   },
   {
    "duration": 14,
    "start_time": "2022-05-12T18:25:10.657Z"
   },
   {
    "duration": 9,
    "start_time": "2022-05-12T18:25:11.026Z"
   },
   {
    "duration": 6,
    "start_time": "2022-05-12T18:25:11.202Z"
   },
   {
    "duration": 10,
    "start_time": "2022-05-12T18:25:11.395Z"
   },
   {
    "duration": 9,
    "start_time": "2022-05-12T18:25:11.578Z"
   },
   {
    "duration": 6,
    "start_time": "2022-05-12T18:25:11.765Z"
   },
   {
    "duration": 13,
    "start_time": "2022-05-12T18:25:11.989Z"
   },
   {
    "duration": 4,
    "start_time": "2022-05-12T18:25:12.172Z"
   },
   {
    "duration": 13,
    "start_time": "2022-05-12T18:25:12.562Z"
   },
   {
    "duration": 8,
    "start_time": "2022-05-12T18:25:12.751Z"
   },
   {
    "duration": 10,
    "start_time": "2022-05-12T18:25:12.958Z"
   },
   {
    "duration": 5,
    "start_time": "2022-05-12T18:25:13.231Z"
   },
   {
    "duration": 10,
    "start_time": "2022-05-12T18:25:13.447Z"
   },
   {
    "duration": 4,
    "start_time": "2022-05-12T18:25:13.671Z"
   },
   {
    "duration": 2,
    "start_time": "2022-05-12T18:25:13.879Z"
   },
   {
    "duration": 4,
    "start_time": "2022-05-12T18:25:14.080Z"
   },
   {
    "duration": 41,
    "start_time": "2022-05-12T18:25:14.321Z"
   },
   {
    "duration": 14,
    "start_time": "2022-05-12T18:25:15.009Z"
   },
   {
    "duration": 39,
    "start_time": "2022-05-12T18:25:16.340Z"
   },
   {
    "duration": 22,
    "start_time": "2022-05-12T18:25:16.516Z"
   },
   {
    "duration": 5,
    "start_time": "2022-05-12T18:25:16.725Z"
   },
   {
    "duration": 9,
    "start_time": "2022-05-12T18:25:17.750Z"
   },
   {
    "duration": 4,
    "start_time": "2022-05-12T18:25:17.968Z"
   },
   {
    "duration": 8,
    "start_time": "2022-05-12T18:25:18.209Z"
   },
   {
    "duration": 11,
    "start_time": "2022-05-12T18:25:18.413Z"
   },
   {
    "duration": 4,
    "start_time": "2022-05-12T18:25:18.649Z"
   },
   {
    "duration": 11,
    "start_time": "2022-05-12T18:25:19.313Z"
   },
   {
    "duration": 4,
    "start_time": "2022-05-12T18:25:20.380Z"
   },
   {
    "duration": 17,
    "start_time": "2022-05-12T18:25:20.637Z"
   },
   {
    "duration": 7,
    "start_time": "2022-05-12T18:25:21.438Z"
   },
   {
    "duration": 35,
    "start_time": "2022-05-12T18:25:55.233Z"
   },
   {
    "duration": 4,
    "start_time": "2022-05-12T18:26:38.792Z"
   },
   {
    "duration": 560,
    "start_time": "2022-05-12T18:26:39.557Z"
   },
   {
    "duration": 35,
    "start_time": "2022-05-12T18:26:40.453Z"
   },
   {
    "duration": 589,
    "start_time": "2022-05-12T18:26:46.960Z"
   },
   {
    "duration": 528,
    "start_time": "2022-05-12T18:30:11.831Z"
   },
   {
    "duration": 4,
    "start_time": "2022-05-12T18:30:14.815Z"
   },
   {
    "duration": 12,
    "start_time": "2022-05-12T18:30:15.362Z"
   },
   {
    "duration": 14,
    "start_time": "2022-05-12T18:31:00.173Z"
   },
   {
    "duration": 10,
    "start_time": "2022-05-12T18:31:48.662Z"
   },
   {
    "duration": 8,
    "start_time": "2022-05-12T18:32:17.272Z"
   },
   {
    "duration": 5,
    "start_time": "2022-05-12T18:33:00.655Z"
   },
   {
    "duration": 4,
    "start_time": "2022-05-12T18:33:39.568Z"
   },
   {
    "duration": 10,
    "start_time": "2022-05-12T18:33:40.681Z"
   },
   {
    "duration": 6,
    "start_time": "2022-05-12T18:33:41.202Z"
   },
   {
    "duration": 9,
    "start_time": "2022-05-12T18:34:02.393Z"
   },
   {
    "duration": 2236,
    "start_time": "2022-05-12T18:34:06.781Z"
   },
   {
    "duration": 0,
    "start_time": "2022-05-12T18:34:09.019Z"
   },
   {
    "duration": 12,
    "start_time": "2022-05-12T18:34:27.938Z"
   },
   {
    "duration": 5,
    "start_time": "2022-05-12T18:34:29.210Z"
   },
   {
    "duration": 4,
    "start_time": "2022-05-12T18:37:08.496Z"
   },
   {
    "duration": 22,
    "start_time": "2022-05-12T18:37:08.502Z"
   },
   {
    "duration": 17,
    "start_time": "2022-05-12T18:37:08.526Z"
   },
   {
    "duration": 3,
    "start_time": "2022-05-12T18:37:09.381Z"
   },
   {
    "duration": 15,
    "start_time": "2022-05-12T18:37:09.533Z"
   },
   {
    "duration": 80,
    "start_time": "2022-05-12T18:37:15.478Z"
   },
   {
    "duration": 35,
    "start_time": "2022-05-12T18:37:15.646Z"
   },
   {
    "duration": 19,
    "start_time": "2022-05-12T18:37:15.983Z"
   },
   {
    "duration": 10,
    "start_time": "2022-05-12T18:37:16.146Z"
   },
   {
    "duration": 2,
    "start_time": "2022-05-12T18:37:17.517Z"
   },
   {
    "duration": 4,
    "start_time": "2022-05-12T18:37:17.674Z"
   },
   {
    "duration": 36,
    "start_time": "2022-05-12T18:37:17.848Z"
   },
   {
    "duration": 4,
    "start_time": "2022-05-12T18:37:18.019Z"
   },
   {
    "duration": 35,
    "start_time": "2022-05-12T18:37:19.274Z"
   },
   {
    "duration": 6,
    "start_time": "2022-05-12T18:37:19.474Z"
   },
   {
    "duration": 4,
    "start_time": "2022-05-12T18:37:19.860Z"
   },
   {
    "duration": 4,
    "start_time": "2022-05-12T18:37:20.049Z"
   },
   {
    "duration": 6,
    "start_time": "2022-05-12T18:37:20.247Z"
   },
   {
    "duration": 5,
    "start_time": "2022-05-12T18:37:20.800Z"
   },
   {
    "duration": 6,
    "start_time": "2022-05-12T18:37:21.026Z"
   },
   {
    "duration": 9,
    "start_time": "2022-05-12T18:37:21.227Z"
   },
   {
    "duration": 12,
    "start_time": "2022-05-12T18:37:21.419Z"
   },
   {
    "duration": 9,
    "start_time": "2022-05-12T18:37:21.610Z"
   },
   {
    "duration": 5,
    "start_time": "2022-05-12T18:37:22.009Z"
   },
   {
    "duration": 8,
    "start_time": "2022-05-12T18:37:22.179Z"
   },
   {
    "duration": 15,
    "start_time": "2022-05-12T18:37:22.521Z"
   },
   {
    "duration": 8,
    "start_time": "2022-05-12T18:37:22.709Z"
   },
   {
    "duration": 5,
    "start_time": "2022-05-12T18:37:22.887Z"
   },
   {
    "duration": 7,
    "start_time": "2022-05-12T18:37:23.053Z"
   },
   {
    "duration": 8,
    "start_time": "2022-05-12T18:37:23.229Z"
   },
   {
    "duration": 5,
    "start_time": "2022-05-12T18:37:23.406Z"
   },
   {
    "duration": 10,
    "start_time": "2022-05-12T18:37:23.582Z"
   },
   {
    "duration": 4,
    "start_time": "2022-05-12T18:37:23.766Z"
   },
   {
    "duration": 13,
    "start_time": "2022-05-12T18:37:24.115Z"
   },
   {
    "duration": 8,
    "start_time": "2022-05-12T18:37:24.469Z"
   },
   {
    "duration": 11,
    "start_time": "2022-05-12T18:37:24.628Z"
   },
   {
    "duration": 4,
    "start_time": "2022-05-12T18:37:25.058Z"
   },
   {
    "duration": 10,
    "start_time": "2022-05-12T18:37:25.278Z"
   },
   {
    "duration": 4,
    "start_time": "2022-05-12T18:37:25.486Z"
   },
   {
    "duration": 2,
    "start_time": "2022-05-12T18:37:25.662Z"
   },
   {
    "duration": 3,
    "start_time": "2022-05-12T18:37:25.862Z"
   },
   {
    "duration": 33,
    "start_time": "2022-05-12T18:37:26.075Z"
   },
   {
    "duration": 12,
    "start_time": "2022-05-12T18:37:26.617Z"
   },
   {
    "duration": 28,
    "start_time": "2022-05-12T18:37:27.859Z"
   },
   {
    "duration": 19,
    "start_time": "2022-05-12T18:37:28.069Z"
   },
   {
    "duration": 5,
    "start_time": "2022-05-12T18:37:28.303Z"
   },
   {
    "duration": 9,
    "start_time": "2022-05-12T18:37:29.329Z"
   },
   {
    "duration": 4,
    "start_time": "2022-05-12T18:37:29.496Z"
   },
   {
    "duration": 9,
    "start_time": "2022-05-12T18:37:29.712Z"
   },
   {
    "duration": 8,
    "start_time": "2022-05-12T18:37:29.925Z"
   },
   {
    "duration": 4,
    "start_time": "2022-05-12T18:37:30.093Z"
   },
   {
    "duration": 11,
    "start_time": "2022-05-12T18:37:30.495Z"
   },
   {
    "duration": 4,
    "start_time": "2022-05-12T18:37:33.359Z"
   },
   {
    "duration": 10,
    "start_time": "2022-05-12T18:37:33.584Z"
   },
   {
    "duration": 6,
    "start_time": "2022-05-12T18:37:34.955Z"
   },
   {
    "duration": 3,
    "start_time": "2022-05-12T18:37:39.650Z"
   },
   {
    "duration": 8,
    "start_time": "2022-05-12T18:37:39.916Z"
   },
   {
    "duration": 6,
    "start_time": "2022-05-12T18:37:41.077Z"
   },
   {
    "duration": 6,
    "start_time": "2022-05-12T18:37:44.574Z"
   },
   {
    "duration": 5,
    "start_time": "2022-05-12T18:37:45.292Z"
   },
   {
    "duration": 13,
    "start_time": "2022-05-12T18:37:48.676Z"
   },
   {
    "duration": 9,
    "start_time": "2022-05-12T18:37:49.068Z"
   },
   {
    "duration": 9,
    "start_time": "2022-05-12T18:38:12.023Z"
   },
   {
    "duration": 12,
    "start_time": "2022-05-12T18:38:12.567Z"
   },
   {
    "duration": 6,
    "start_time": "2022-05-12T18:38:13.177Z"
   },
   {
    "duration": 10,
    "start_time": "2022-05-12T18:38:22.643Z"
   },
   {
    "duration": 6,
    "start_time": "2022-05-12T18:38:23.154Z"
   },
   {
    "duration": 215,
    "start_time": "2022-05-12T18:39:54.487Z"
   },
   {
    "duration": 13,
    "start_time": "2022-05-12T18:41:32.156Z"
   },
   {
    "duration": 10,
    "start_time": "2022-05-12T18:41:33.277Z"
   },
   {
    "duration": 19,
    "start_time": "2022-05-12T18:42:30.527Z"
   },
   {
    "duration": 13,
    "start_time": "2022-05-12T18:42:36.876Z"
   },
   {
    "duration": 10,
    "start_time": "2022-05-12T18:42:45.019Z"
   },
   {
    "duration": 79,
    "start_time": "2022-05-12T18:43:00.609Z"
   },
   {
    "duration": 55,
    "start_time": "2022-05-12T18:43:00.826Z"
   },
   {
    "duration": 30,
    "start_time": "2022-05-12T18:43:01.266Z"
   },
   {
    "duration": 18,
    "start_time": "2022-05-12T18:43:01.476Z"
   },
   {
    "duration": 3,
    "start_time": "2022-05-12T18:43:02.990Z"
   },
   {
    "duration": 5,
    "start_time": "2022-05-12T18:43:03.418Z"
   },
   {
    "duration": 34,
    "start_time": "2022-05-12T18:43:03.682Z"
   },
   {
    "duration": 4,
    "start_time": "2022-05-12T18:43:03.927Z"
   },
   {
    "duration": 46,
    "start_time": "2022-05-12T18:43:05.563Z"
   },
   {
    "duration": 6,
    "start_time": "2022-05-12T18:43:05.803Z"
   },
   {
    "duration": 4,
    "start_time": "2022-05-12T18:43:06.268Z"
   },
   {
    "duration": 4,
    "start_time": "2022-05-12T18:43:06.509Z"
   },
   {
    "duration": 6,
    "start_time": "2022-05-12T18:43:06.750Z"
   },
   {
    "duration": 6,
    "start_time": "2022-05-12T18:43:07.246Z"
   },
   {
    "duration": 7,
    "start_time": "2022-05-12T18:43:08.322Z"
   },
   {
    "duration": 24,
    "start_time": "2022-05-12T18:43:08.332Z"
   },
   {
    "duration": 15,
    "start_time": "2022-05-12T18:43:08.357Z"
   },
   {
    "duration": 12,
    "start_time": "2022-05-12T18:43:08.374Z"
   },
   {
    "duration": 5,
    "start_time": "2022-05-12T18:43:08.681Z"
   },
   {
    "duration": 8,
    "start_time": "2022-05-12T18:43:08.929Z"
   },
   {
    "duration": 14,
    "start_time": "2022-05-12T18:43:09.177Z"
   },
   {
    "duration": 9,
    "start_time": "2022-05-12T18:43:09.451Z"
   },
   {
    "duration": 5,
    "start_time": "2022-05-12T18:43:09.673Z"
   },
   {
    "duration": 13,
    "start_time": "2022-05-12T18:43:09.924Z"
   },
   {
    "duration": 12,
    "start_time": "2022-05-12T18:43:10.172Z"
   },
   {
    "duration": 8,
    "start_time": "2022-05-12T18:43:10.419Z"
   },
   {
    "duration": 14,
    "start_time": "2022-05-12T18:43:10.659Z"
   },
   {
    "duration": 5,
    "start_time": "2022-05-12T18:43:10.932Z"
   },
   {
    "duration": 20,
    "start_time": "2022-05-12T18:43:11.511Z"
   },
   {
    "duration": 8,
    "start_time": "2022-05-12T18:43:11.765Z"
   },
   {
    "duration": 11,
    "start_time": "2022-05-12T18:43:12.163Z"
   },
   {
    "duration": 4,
    "start_time": "2022-05-12T18:43:12.503Z"
   },
   {
    "duration": 10,
    "start_time": "2022-05-12T18:43:12.919Z"
   },
   {
    "duration": 4,
    "start_time": "2022-05-12T18:43:13.266Z"
   },
   {
    "duration": 3,
    "start_time": "2022-05-12T18:43:13.609Z"
   },
   {
    "duration": 4,
    "start_time": "2022-05-12T18:43:14.019Z"
   },
   {
    "duration": 35,
    "start_time": "2022-05-12T18:43:14.378Z"
   },
   {
    "duration": 20,
    "start_time": "2022-05-12T18:43:15.547Z"
   },
   {
    "duration": 36,
    "start_time": "2022-05-12T18:43:18.057Z"
   },
   {
    "duration": 19,
    "start_time": "2022-05-12T18:43:18.348Z"
   },
   {
    "duration": 6,
    "start_time": "2022-05-12T18:43:18.646Z"
   },
   {
    "duration": 9,
    "start_time": "2022-05-12T18:43:19.914Z"
   },
   {
    "duration": 4,
    "start_time": "2022-05-12T18:43:20.252Z"
   },
   {
    "duration": 13,
    "start_time": "2022-05-12T18:43:20.532Z"
   },
   {
    "duration": 9,
    "start_time": "2022-05-12T18:43:20.849Z"
   },
   {
    "duration": 6,
    "start_time": "2022-05-12T18:43:21.142Z"
   },
   {
    "duration": 12,
    "start_time": "2022-05-12T18:43:22.096Z"
   },
   {
    "duration": 7,
    "start_time": "2022-05-12T18:43:23.322Z"
   },
   {
    "duration": 11,
    "start_time": "2022-05-12T18:43:23.667Z"
   },
   {
    "duration": 6,
    "start_time": "2022-05-12T18:43:24.193Z"
   },
   {
    "duration": 4,
    "start_time": "2022-05-12T18:43:26.968Z"
   },
   {
    "duration": 8,
    "start_time": "2022-05-12T18:43:27.491Z"
   },
   {
    "duration": 6,
    "start_time": "2022-05-12T18:43:28.949Z"
   },
   {
    "duration": 9,
    "start_time": "2022-05-12T18:43:34.129Z"
   },
   {
    "duration": 7,
    "start_time": "2022-05-12T18:43:36.753Z"
   },
   {
    "duration": 5,
    "start_time": "2022-05-12T18:43:37.331Z"
   },
   {
    "duration": 12,
    "start_time": "2022-05-12T18:43:41.757Z"
   },
   {
    "duration": 10,
    "start_time": "2022-05-12T18:43:42.750Z"
   },
   {
    "duration": 17,
    "start_time": "2022-05-12T18:43:45.031Z"
   },
   {
    "duration": 6,
    "start_time": "2022-05-12T18:43:45.356Z"
   },
   {
    "duration": 6,
    "start_time": "2022-05-12T18:43:59.125Z"
   },
   {
    "duration": 14,
    "start_time": "2022-05-12T18:45:58.053Z"
   },
   {
    "duration": 78,
    "start_time": "2022-05-12T18:46:10.264Z"
   },
   {
    "duration": 37,
    "start_time": "2022-05-12T18:46:10.419Z"
   },
   {
    "duration": 24,
    "start_time": "2022-05-12T18:46:10.729Z"
   },
   {
    "duration": 11,
    "start_time": "2022-05-12T18:46:10.888Z"
   },
   {
    "duration": 2,
    "start_time": "2022-05-12T18:46:12.733Z"
   },
   {
    "duration": 3,
    "start_time": "2022-05-12T18:46:12.908Z"
   },
   {
    "duration": 34,
    "start_time": "2022-05-12T18:46:13.069Z"
   },
   {
    "duration": 3,
    "start_time": "2022-05-12T18:46:13.254Z"
   },
   {
    "duration": 33,
    "start_time": "2022-05-12T18:46:14.476Z"
   },
   {
    "duration": 6,
    "start_time": "2022-05-12T18:46:14.659Z"
   },
   {
    "duration": 4,
    "start_time": "2022-05-12T18:46:15.187Z"
   },
   {
    "duration": 4,
    "start_time": "2022-05-12T18:46:15.373Z"
   },
   {
    "duration": 7,
    "start_time": "2022-05-12T18:46:15.557Z"
   },
   {
    "duration": 5,
    "start_time": "2022-05-12T18:46:15.894Z"
   },
   {
    "duration": 7,
    "start_time": "2022-05-12T18:46:16.078Z"
   },
   {
    "duration": 8,
    "start_time": "2022-05-12T18:46:16.276Z"
   },
   {
    "duration": 22,
    "start_time": "2022-05-12T18:46:16.422Z"
   },
   {
    "duration": 9,
    "start_time": "2022-05-12T18:46:16.602Z"
   },
   {
    "duration": 5,
    "start_time": "2022-05-12T18:46:16.975Z"
   },
   {
    "duration": 8,
    "start_time": "2022-05-12T18:46:17.147Z"
   },
   {
    "duration": 15,
    "start_time": "2022-05-12T18:46:17.346Z"
   },
   {
    "duration": 10,
    "start_time": "2022-05-12T18:46:17.546Z"
   },
   {
    "duration": 5,
    "start_time": "2022-05-12T18:46:17.709Z"
   },
   {
    "duration": 8,
    "start_time": "2022-05-12T18:46:17.868Z"
   },
   {
    "duration": 8,
    "start_time": "2022-05-12T18:46:18.046Z"
   },
   {
    "duration": 6,
    "start_time": "2022-05-12T18:46:18.223Z"
   },
   {
    "duration": 9,
    "start_time": "2022-05-12T18:46:18.407Z"
   },
   {
    "duration": 4,
    "start_time": "2022-05-12T18:46:18.574Z"
   },
   {
    "duration": 12,
    "start_time": "2022-05-12T18:46:18.963Z"
   },
   {
    "duration": 9,
    "start_time": "2022-05-12T18:46:19.146Z"
   },
   {
    "duration": 11,
    "start_time": "2022-05-12T18:46:19.346Z"
   },
   {
    "duration": 4,
    "start_time": "2022-05-12T18:46:19.508Z"
   },
   {
    "duration": 10,
    "start_time": "2022-05-12T18:46:19.708Z"
   },
   {
    "duration": 5,
    "start_time": "2022-05-12T18:46:19.910Z"
   },
   {
    "duration": 3,
    "start_time": "2022-05-12T18:46:20.094Z"
   },
   {
    "duration": 4,
    "start_time": "2022-05-12T18:46:20.286Z"
   },
   {
    "duration": 50,
    "start_time": "2022-05-12T18:46:20.462Z"
   },
   {
    "duration": 12,
    "start_time": "2022-05-12T18:46:21.192Z"
   },
   {
    "duration": 26,
    "start_time": "2022-05-12T18:46:22.358Z"
   },
   {
    "duration": 21,
    "start_time": "2022-05-12T18:46:22.545Z"
   },
   {
    "duration": 8,
    "start_time": "2022-05-12T18:46:22.734Z"
   },
   {
    "duration": 15,
    "start_time": "2022-05-12T18:46:23.537Z"
   },
   {
    "duration": 4,
    "start_time": "2022-05-12T18:46:23.752Z"
   },
   {
    "duration": 8,
    "start_time": "2022-05-12T18:46:23.960Z"
   },
   {
    "duration": 8,
    "start_time": "2022-05-12T18:46:24.201Z"
   },
   {
    "duration": 12,
    "start_time": "2022-05-12T18:46:24.609Z"
   },
   {
    "duration": 4,
    "start_time": "2022-05-12T18:46:25.422Z"
   },
   {
    "duration": 12,
    "start_time": "2022-05-12T18:46:25.614Z"
   },
   {
    "duration": 5,
    "start_time": "2022-05-12T18:46:25.791Z"
   },
   {
    "duration": 4,
    "start_time": "2022-05-12T18:46:27.257Z"
   },
   {
    "duration": 8,
    "start_time": "2022-05-12T18:46:27.456Z"
   },
   {
    "duration": 6,
    "start_time": "2022-05-12T18:46:28.062Z"
   },
   {
    "duration": 7,
    "start_time": "2022-05-12T18:46:29.401Z"
   },
   {
    "duration": 4,
    "start_time": "2022-05-12T18:46:29.601Z"
   },
   {
    "duration": 11,
    "start_time": "2022-05-12T18:46:30.915Z"
   },
   {
    "duration": 4,
    "start_time": "2022-05-12T18:46:31.871Z"
   },
   {
    "duration": 9,
    "start_time": "2022-05-12T18:46:43.754Z"
   },
   {
    "duration": 6,
    "start_time": "2022-05-12T18:46:44.484Z"
   },
   {
    "duration": 7,
    "start_time": "2022-05-12T18:46:47.524Z"
   },
   {
    "duration": 16,
    "start_time": "2022-05-12T18:49:22.237Z"
   },
   {
    "duration": 6,
    "start_time": "2022-05-12T18:49:22.994Z"
   },
   {
    "duration": 7,
    "start_time": "2022-05-12T18:49:41.693Z"
   },
   {
    "duration": 9,
    "start_time": "2022-05-12T18:50:17.122Z"
   },
   {
    "duration": 8,
    "start_time": "2022-05-12T18:50:19.165Z"
   },
   {
    "duration": 16,
    "start_time": "2022-05-12T18:50:36.278Z"
   },
   {
    "duration": 10,
    "start_time": "2022-05-12T18:51:32.943Z"
   },
   {
    "duration": 6,
    "start_time": "2022-05-12T18:51:34.059Z"
   },
   {
    "duration": 5,
    "start_time": "2022-05-12T18:58:03.930Z"
   },
   {
    "duration": 18,
    "start_time": "2022-05-12T18:58:04.611Z"
   },
   {
    "duration": 7,
    "start_time": "2022-05-12T18:58:05.184Z"
   },
   {
    "duration": 5,
    "start_time": "2022-05-12T18:59:02.585Z"
   },
   {
    "duration": 5,
    "start_time": "2022-05-12T18:59:44.192Z"
   },
   {
    "duration": 4,
    "start_time": "2022-05-12T18:59:53.811Z"
   },
   {
    "duration": 4,
    "start_time": "2022-05-12T19:00:22.099Z"
   },
   {
    "duration": 10,
    "start_time": "2022-05-12T19:00:22.733Z"
   },
   {
    "duration": 5,
    "start_time": "2022-05-12T19:00:23.830Z"
   },
   {
    "duration": 4,
    "start_time": "2022-05-12T19:00:32.561Z"
   },
   {
    "duration": 4,
    "start_time": "2022-05-12T19:00:42.429Z"
   },
   {
    "duration": 142,
    "start_time": "2022-05-12T19:01:03.613Z"
   },
   {
    "duration": 4,
    "start_time": "2022-05-12T19:01:43.077Z"
   },
   {
    "duration": 8,
    "start_time": "2022-05-12T19:01:54.620Z"
   },
   {
    "duration": 11,
    "start_time": "2022-05-12T19:02:06.729Z"
   },
   {
    "duration": 6,
    "start_time": "2022-05-12T19:02:07.250Z"
   },
   {
    "duration": 77,
    "start_time": "2022-05-12T19:06:31.634Z"
   },
   {
    "duration": 35,
    "start_time": "2022-05-12T19:06:31.771Z"
   },
   {
    "duration": 19,
    "start_time": "2022-05-12T19:06:32.080Z"
   },
   {
    "duration": 11,
    "start_time": "2022-05-12T19:06:32.241Z"
   },
   {
    "duration": 2,
    "start_time": "2022-05-12T19:06:33.238Z"
   },
   {
    "duration": 4,
    "start_time": "2022-05-12T19:06:33.403Z"
   },
   {
    "duration": 33,
    "start_time": "2022-05-12T19:06:33.572Z"
   },
   {
    "duration": 4,
    "start_time": "2022-05-12T19:06:33.731Z"
   },
   {
    "duration": 35,
    "start_time": "2022-05-12T19:06:34.806Z"
   },
   {
    "duration": 6,
    "start_time": "2022-05-12T19:06:34.967Z"
   },
   {
    "duration": 4,
    "start_time": "2022-05-12T19:06:35.326Z"
   },
   {
    "duration": 4,
    "start_time": "2022-05-12T19:06:35.521Z"
   },
   {
    "duration": 6,
    "start_time": "2022-05-12T19:06:35.680Z"
   },
   {
    "duration": 6,
    "start_time": "2022-05-12T19:06:35.999Z"
   },
   {
    "duration": 6,
    "start_time": "2022-05-12T19:06:36.167Z"
   },
   {
    "duration": 7,
    "start_time": "2022-05-12T19:06:36.345Z"
   },
   {
    "duration": 12,
    "start_time": "2022-05-12T19:06:36.505Z"
   },
   {
    "duration": 9,
    "start_time": "2022-05-12T19:06:36.686Z"
   },
   {
    "duration": 5,
    "start_time": "2022-05-12T19:06:37.032Z"
   },
   {
    "duration": 7,
    "start_time": "2022-05-12T19:06:37.210Z"
   },
   {
    "duration": 14,
    "start_time": "2022-05-12T19:06:37.379Z"
   },
   {
    "duration": 8,
    "start_time": "2022-05-12T19:06:37.541Z"
   },
   {
    "duration": 5,
    "start_time": "2022-05-12T19:06:37.703Z"
   },
   {
    "duration": 8,
    "start_time": "2022-05-12T19:06:37.866Z"
   },
   {
    "duration": 11,
    "start_time": "2022-05-12T19:06:38.027Z"
   },
   {
    "duration": 6,
    "start_time": "2022-05-12T19:06:38.195Z"
   },
   {
    "duration": 9,
    "start_time": "2022-05-12T19:06:38.539Z"
   },
   {
    "duration": 4,
    "start_time": "2022-05-12T19:06:38.701Z"
   },
   {
    "duration": 13,
    "start_time": "2022-05-12T19:06:39.216Z"
   },
   {
    "duration": 8,
    "start_time": "2022-05-12T19:06:39.398Z"
   },
   {
    "duration": 11,
    "start_time": "2022-05-12T19:06:39.598Z"
   },
   {
    "duration": 4,
    "start_time": "2022-05-12T19:06:39.793Z"
   },
   {
    "duration": 10,
    "start_time": "2022-05-12T19:06:39.975Z"
   },
   {
    "duration": 4,
    "start_time": "2022-05-12T19:06:40.175Z"
   },
   {
    "duration": 2,
    "start_time": "2022-05-12T19:06:40.360Z"
   },
   {
    "duration": 4,
    "start_time": "2022-05-12T19:06:40.538Z"
   },
   {
    "duration": 33,
    "start_time": "2022-05-12T19:06:40.728Z"
   },
   {
    "duration": 11,
    "start_time": "2022-05-12T19:06:41.304Z"
   },
   {
    "duration": 25,
    "start_time": "2022-05-12T19:06:42.466Z"
   },
   {
    "duration": 18,
    "start_time": "2022-05-12T19:06:42.653Z"
   },
   {
    "duration": 5,
    "start_time": "2022-05-12T19:06:43.032Z"
   },
   {
    "duration": 9,
    "start_time": "2022-05-12T19:06:43.757Z"
   },
   {
    "duration": 3,
    "start_time": "2022-05-12T19:06:43.966Z"
   },
   {
    "duration": 8,
    "start_time": "2022-05-12T19:06:44.142Z"
   },
   {
    "duration": 9,
    "start_time": "2022-05-12T19:06:44.342Z"
   },
   {
    "duration": 11,
    "start_time": "2022-05-12T19:06:44.719Z"
   },
   {
    "duration": 4,
    "start_time": "2022-05-12T19:06:45.731Z"
   },
   {
    "duration": 11,
    "start_time": "2022-05-12T19:06:45.976Z"
   },
   {
    "duration": 5,
    "start_time": "2022-05-12T19:06:46.226Z"
   },
   {
    "duration": 3,
    "start_time": "2022-05-12T19:06:47.765Z"
   },
   {
    "duration": 8,
    "start_time": "2022-05-12T19:06:48.022Z"
   },
   {
    "duration": 16,
    "start_time": "2022-05-12T19:06:48.887Z"
   },
   {
    "duration": 7,
    "start_time": "2022-05-12T19:07:01.141Z"
   },
   {
    "duration": 4,
    "start_time": "2022-05-12T19:07:01.350Z"
   },
   {
    "duration": 10,
    "start_time": "2022-05-12T19:07:02.302Z"
   },
   {
    "duration": 5,
    "start_time": "2022-05-12T19:07:02.543Z"
   },
   {
    "duration": 9,
    "start_time": "2022-05-12T19:07:03.961Z"
   },
   {
    "duration": 6,
    "start_time": "2022-05-12T19:07:04.153Z"
   },
   {
    "duration": 11,
    "start_time": "2022-05-12T19:07:04.915Z"
   },
   {
    "duration": 5,
    "start_time": "2022-05-12T19:07:05.113Z"
   },
   {
    "duration": 2020,
    "start_time": "2022-05-13T14:42:26.850Z"
   },
   {
    "duration": 56,
    "start_time": "2022-05-13T14:42:28.874Z"
   },
   {
    "duration": 24,
    "start_time": "2022-05-13T14:42:28.932Z"
   },
   {
    "duration": 38,
    "start_time": "2022-05-13T14:42:28.958Z"
   },
   {
    "duration": 5,
    "start_time": "2022-05-13T14:42:29.001Z"
   },
   {
    "duration": 9,
    "start_time": "2022-05-13T14:42:29.008Z"
   },
   {
    "duration": 70,
    "start_time": "2022-05-13T14:42:29.020Z"
   },
   {
    "duration": 6,
    "start_time": "2022-05-13T14:42:29.093Z"
   },
   {
    "duration": 44,
    "start_time": "2022-05-13T14:42:29.102Z"
   },
   {
    "duration": 33,
    "start_time": "2022-05-13T14:42:29.148Z"
   },
   {
    "duration": 7,
    "start_time": "2022-05-13T14:42:29.184Z"
   },
   {
    "duration": 11,
    "start_time": "2022-05-13T14:42:29.194Z"
   },
   {
    "duration": 8,
    "start_time": "2022-05-13T14:42:29.208Z"
   },
   {
    "duration": 5,
    "start_time": "2022-05-13T14:42:29.221Z"
   },
   {
    "duration": 9,
    "start_time": "2022-05-13T14:42:29.228Z"
   },
   {
    "duration": 55,
    "start_time": "2022-05-13T14:42:29.239Z"
   },
   {
    "duration": 20,
    "start_time": "2022-05-13T14:42:29.297Z"
   },
   {
    "duration": 15,
    "start_time": "2022-05-13T14:42:29.319Z"
   },
   {
    "duration": 10,
    "start_time": "2022-05-13T14:42:29.336Z"
   },
   {
    "duration": 37,
    "start_time": "2022-05-13T14:42:29.348Z"
   },
   {
    "duration": 22,
    "start_time": "2022-05-13T14:42:29.388Z"
   },
   {
    "duration": 11,
    "start_time": "2022-05-13T14:42:29.412Z"
   },
   {
    "duration": 8,
    "start_time": "2022-05-13T14:42:29.425Z"
   },
   {
    "duration": 10,
    "start_time": "2022-05-13T14:42:29.435Z"
   },
   {
    "duration": 52,
    "start_time": "2022-05-13T14:42:29.447Z"
   },
   {
    "duration": 10,
    "start_time": "2022-05-13T14:42:29.501Z"
   },
   {
    "duration": 16,
    "start_time": "2022-05-13T14:42:29.513Z"
   },
   {
    "duration": 5,
    "start_time": "2022-05-13T14:42:29.531Z"
   },
   {
    "duration": 53,
    "start_time": "2022-05-13T14:42:29.538Z"
   },
   {
    "duration": 18,
    "start_time": "2022-05-13T14:42:29.594Z"
   },
   {
    "duration": 18,
    "start_time": "2022-05-13T14:42:29.614Z"
   },
   {
    "duration": 4,
    "start_time": "2022-05-13T14:42:29.634Z"
   },
   {
    "duration": 13,
    "start_time": "2022-05-13T14:42:29.641Z"
   },
   {
    "duration": 7,
    "start_time": "2022-05-13T14:42:29.681Z"
   },
   {
    "duration": 10,
    "start_time": "2022-05-13T14:42:29.691Z"
   },
   {
    "duration": 6,
    "start_time": "2022-05-13T14:42:29.703Z"
   },
   {
    "duration": 71,
    "start_time": "2022-05-13T14:42:29.711Z"
   },
   {
    "duration": 20,
    "start_time": "2022-05-13T14:42:29.785Z"
   },
   {
    "duration": 41,
    "start_time": "2022-05-13T14:42:29.807Z"
   },
   {
    "duration": 58,
    "start_time": "2022-05-13T14:42:29.850Z"
   },
   {
    "duration": 6,
    "start_time": "2022-05-13T14:42:29.914Z"
   },
   {
    "duration": 26,
    "start_time": "2022-05-13T14:42:29.923Z"
   },
   {
    "duration": 7,
    "start_time": "2022-05-13T14:42:29.951Z"
   },
   {
    "duration": 27,
    "start_time": "2022-05-13T14:42:29.960Z"
   },
   {
    "duration": 21,
    "start_time": "2022-05-13T14:42:29.989Z"
   },
   {
    "duration": 46,
    "start_time": "2022-05-13T14:42:30.013Z"
   },
   {
    "duration": 10,
    "start_time": "2022-05-13T14:42:30.061Z"
   },
   {
    "duration": 25,
    "start_time": "2022-05-13T14:42:30.073Z"
   },
   {
    "duration": 235,
    "start_time": "2022-05-13T14:42:30.100Z"
   },
   {
    "duration": 0,
    "start_time": "2022-05-13T14:42:30.337Z"
   },
   {
    "duration": 0,
    "start_time": "2022-05-13T14:42:30.339Z"
   },
   {
    "duration": 0,
    "start_time": "2022-05-13T14:42:30.340Z"
   },
   {
    "duration": 0,
    "start_time": "2022-05-13T14:42:30.341Z"
   },
   {
    "duration": 0,
    "start_time": "2022-05-13T14:42:30.342Z"
   },
   {
    "duration": 0,
    "start_time": "2022-05-13T14:42:30.343Z"
   },
   {
    "duration": 0,
    "start_time": "2022-05-13T14:42:30.345Z"
   },
   {
    "duration": 0,
    "start_time": "2022-05-13T14:42:30.346Z"
   },
   {
    "duration": 0,
    "start_time": "2022-05-13T14:42:30.347Z"
   },
   {
    "duration": 0,
    "start_time": "2022-05-13T14:42:30.348Z"
   },
   {
    "duration": 0,
    "start_time": "2022-05-13T14:42:30.349Z"
   },
   {
    "duration": 12,
    "start_time": "2022-05-13T14:45:52.129Z"
   },
   {
    "duration": 19,
    "start_time": "2022-05-13T14:45:59.611Z"
   },
   {
    "duration": 11,
    "start_time": "2022-05-13T14:46:09.253Z"
   },
   {
    "duration": 4,
    "start_time": "2022-05-13T14:47:28.198Z"
   },
   {
    "duration": 11,
    "start_time": "2022-05-13T14:47:29.020Z"
   },
   {
    "duration": 21,
    "start_time": "2022-05-13T14:47:42.997Z"
   },
   {
    "duration": 10,
    "start_time": "2022-05-13T14:47:50.759Z"
   },
   {
    "duration": 12,
    "start_time": "2022-05-13T14:48:38.204Z"
   },
   {
    "duration": 6,
    "start_time": "2022-05-13T14:48:38.650Z"
   },
   {
    "duration": 15,
    "start_time": "2022-05-13T14:48:40.697Z"
   },
   {
    "duration": 6,
    "start_time": "2022-05-13T14:48:41.152Z"
   },
   {
    "duration": 13,
    "start_time": "2022-05-13T14:48:43.162Z"
   },
   {
    "duration": 12,
    "start_time": "2022-05-13T14:48:43.357Z"
   },
   {
    "duration": 14,
    "start_time": "2022-05-13T14:48:46.360Z"
   },
   {
    "duration": 9,
    "start_time": "2022-05-13T14:48:46.790Z"
   },
   {
    "duration": 96,
    "start_time": "2022-05-13T16:36:02.577Z"
   },
   {
    "duration": 12,
    "start_time": "2022-05-13T16:36:04.951Z"
   },
   {
    "duration": 2045,
    "start_time": "2022-05-13T16:37:30.265Z"
   },
   {
    "duration": 61,
    "start_time": "2022-05-13T16:37:32.313Z"
   },
   {
    "duration": 26,
    "start_time": "2022-05-13T16:37:32.376Z"
   },
   {
    "duration": 24,
    "start_time": "2022-05-13T16:37:32.425Z"
   },
   {
    "duration": 48,
    "start_time": "2022-05-13T16:37:32.458Z"
   },
   {
    "duration": 57,
    "start_time": "2022-05-13T16:37:32.508Z"
   },
   {
    "duration": 74,
    "start_time": "2022-05-13T16:37:32.569Z"
   },
   {
    "duration": 7,
    "start_time": "2022-05-13T16:37:32.684Z"
   },
   {
    "duration": 44,
    "start_time": "2022-05-13T16:37:34.475Z"
   },
   {
    "duration": 9,
    "start_time": "2022-05-13T16:37:34.662Z"
   },
   {
    "duration": 8,
    "start_time": "2022-05-13T16:37:35.052Z"
   },
   {
    "duration": 5,
    "start_time": "2022-05-13T16:37:35.258Z"
   },
   {
    "duration": 9,
    "start_time": "2022-05-13T16:37:35.656Z"
   },
   {
    "duration": 6,
    "start_time": "2022-05-13T16:37:36.679Z"
   },
   {
    "duration": 13,
    "start_time": "2022-05-13T16:37:36.929Z"
   },
   {
    "duration": 18,
    "start_time": "2022-05-13T16:37:37.146Z"
   },
   {
    "duration": 21,
    "start_time": "2022-05-13T16:37:37.356Z"
   },
   {
    "duration": 12,
    "start_time": "2022-05-13T16:37:37.579Z"
   },
   {
    "duration": 6,
    "start_time": "2022-05-13T16:37:37.993Z"
   },
   {
    "duration": 10,
    "start_time": "2022-05-13T16:37:38.210Z"
   },
   {
    "duration": 25,
    "start_time": "2022-05-13T16:37:38.419Z"
   },
   {
    "duration": 16,
    "start_time": "2022-05-13T16:37:38.648Z"
   },
   {
    "duration": 7,
    "start_time": "2022-05-13T16:37:38.876Z"
   },
   {
    "duration": 9,
    "start_time": "2022-05-13T16:37:39.099Z"
   },
   {
    "duration": 9,
    "start_time": "2022-05-13T16:37:39.300Z"
   },
   {
    "duration": 9,
    "start_time": "2022-05-13T16:37:39.526Z"
   },
   {
    "duration": 11,
    "start_time": "2022-05-13T16:37:39.765Z"
   },
   {
    "duration": 6,
    "start_time": "2022-05-13T16:37:39.964Z"
   },
   {
    "duration": 18,
    "start_time": "2022-05-13T16:37:40.399Z"
   },
   {
    "duration": 19,
    "start_time": "2022-05-13T16:37:40.622Z"
   },
   {
    "duration": 12,
    "start_time": "2022-05-13T16:37:40.870Z"
   },
   {
    "duration": 5,
    "start_time": "2022-05-13T16:37:41.102Z"
   },
   {
    "duration": 14,
    "start_time": "2022-05-13T16:37:41.333Z"
   },
   {
    "duration": 6,
    "start_time": "2022-05-13T16:37:41.556Z"
   },
   {
    "duration": 4,
    "start_time": "2022-05-13T16:37:41.767Z"
   },
   {
    "duration": 5,
    "start_time": "2022-05-13T16:37:41.991Z"
   },
   {
    "duration": 51,
    "start_time": "2022-05-13T16:37:42.224Z"
   },
   {
    "duration": 14,
    "start_time": "2022-05-13T16:37:43.380Z"
   },
   {
    "duration": 46,
    "start_time": "2022-05-13T16:37:44.821Z"
   },
   {
    "duration": 29,
    "start_time": "2022-05-13T16:37:45.061Z"
   },
   {
    "duration": 7,
    "start_time": "2022-05-13T16:37:45.276Z"
   },
   {
    "duration": 11,
    "start_time": "2022-05-13T16:37:46.182Z"
   },
   {
    "duration": 6,
    "start_time": "2022-05-13T16:37:46.452Z"
   },
   {
    "duration": 10,
    "start_time": "2022-05-13T16:37:46.694Z"
   },
   {
    "duration": 16,
    "start_time": "2022-05-13T16:37:46.922Z"
   },
   {
    "duration": 17,
    "start_time": "2022-05-13T16:37:47.665Z"
   },
   {
    "duration": 6,
    "start_time": "2022-05-13T16:37:48.860Z"
   },
   {
    "duration": 15,
    "start_time": "2022-05-13T16:37:49.101Z"
   },
   {
    "duration": 11,
    "start_time": "2022-05-13T16:37:50.309Z"
   },
   {
    "duration": 219,
    "start_time": "2022-05-13T16:37:54.389Z"
   },
   {
    "duration": 112,
    "start_time": "2022-05-13T16:37:54.975Z"
   },
   {
    "duration": 138,
    "start_time": "2022-05-13T16:38:21.048Z"
   },
   {
    "duration": 5,
    "start_time": "2022-05-13T16:38:28.616Z"
   },
   {
    "duration": 12,
    "start_time": "2022-05-13T16:38:34.776Z"
   },
   {
    "duration": 23,
    "start_time": "2022-05-13T16:38:39.266Z"
   },
   {
    "duration": 14,
    "start_time": "2022-05-13T16:38:43.151Z"
   },
   {
    "duration": 5,
    "start_time": "2022-05-13T16:38:43.477Z"
   },
   {
    "duration": 21,
    "start_time": "2022-05-13T16:38:44.736Z"
   },
   {
    "duration": 7,
    "start_time": "2022-05-13T16:38:45.066Z"
   },
   {
    "duration": 10,
    "start_time": "2022-05-13T16:38:46.400Z"
   },
   {
    "duration": 13,
    "start_time": "2022-05-13T16:38:46.847Z"
   },
   {
    "duration": 8,
    "start_time": "2022-05-13T16:39:11.912Z"
   },
   {
    "duration": 13,
    "start_time": "2022-05-13T16:39:17.599Z"
   },
   {
    "duration": 8,
    "start_time": "2022-05-13T16:39:17.814Z"
   },
   {
    "duration": 14,
    "start_time": "2022-05-13T16:51:04.594Z"
   },
   {
    "duration": 12,
    "start_time": "2022-05-13T16:51:24.871Z"
   },
   {
    "duration": 8,
    "start_time": "2022-05-13T16:51:25.459Z"
   },
   {
    "duration": 101,
    "start_time": "2022-05-13T18:40:44.893Z"
   },
   {
    "duration": 64,
    "start_time": "2022-05-13T18:40:45.054Z"
   },
   {
    "duration": 38,
    "start_time": "2022-05-13T18:40:45.512Z"
   },
   {
    "duration": 18,
    "start_time": "2022-05-13T18:40:46.129Z"
   },
   {
    "duration": 4,
    "start_time": "2022-05-13T18:40:47.563Z"
   },
   {
    "duration": 5,
    "start_time": "2022-05-13T18:40:47.763Z"
   },
   {
    "duration": 52,
    "start_time": "2022-05-13T18:40:47.997Z"
   },
   {
    "duration": 6,
    "start_time": "2022-05-13T18:40:48.222Z"
   },
   {
    "duration": 45,
    "start_time": "2022-05-13T18:40:50.072Z"
   },
   {
    "duration": 9,
    "start_time": "2022-05-13T18:40:50.342Z"
   },
   {
    "duration": 6,
    "start_time": "2022-05-13T18:40:50.800Z"
   },
   {
    "duration": 6,
    "start_time": "2022-05-13T18:40:51.042Z"
   },
   {
    "duration": 8,
    "start_time": "2022-05-13T18:40:51.249Z"
   },
   {
    "duration": 7,
    "start_time": "2022-05-13T18:40:51.701Z"
   },
   {
    "duration": 9,
    "start_time": "2022-05-13T18:40:51.919Z"
   },
   {
    "duration": 12,
    "start_time": "2022-05-13T18:40:52.139Z"
   },
   {
    "duration": 18,
    "start_time": "2022-05-13T18:40:52.364Z"
   },
   {
    "duration": 11,
    "start_time": "2022-05-13T18:40:52.596Z"
   },
   {
    "duration": 6,
    "start_time": "2022-05-13T18:40:53.069Z"
   },
   {
    "duration": 10,
    "start_time": "2022-05-13T18:40:53.309Z"
   },
   {
    "duration": 29,
    "start_time": "2022-05-13T18:40:53.518Z"
   },
   {
    "duration": 12,
    "start_time": "2022-05-13T18:40:53.755Z"
   },
   {
    "duration": 7,
    "start_time": "2022-05-13T18:40:53.966Z"
   },
   {
    "duration": 11,
    "start_time": "2022-05-13T18:40:54.227Z"
   },
   {
    "duration": 10,
    "start_time": "2022-05-13T18:40:54.439Z"
   },
   {
    "duration": 9,
    "start_time": "2022-05-13T18:40:54.663Z"
   },
   {
    "duration": 12,
    "start_time": "2022-05-13T18:40:54.879Z"
   },
   {
    "duration": 6,
    "start_time": "2022-05-13T18:40:55.096Z"
   },
   {
    "duration": 27,
    "start_time": "2022-05-13T18:40:55.578Z"
   },
   {
    "duration": 11,
    "start_time": "2022-05-13T18:40:55.843Z"
   },
   {
    "duration": 13,
    "start_time": "2022-05-13T18:40:56.018Z"
   },
   {
    "duration": 5,
    "start_time": "2022-05-13T18:40:56.250Z"
   },
   {
    "duration": 13,
    "start_time": "2022-05-13T18:40:56.479Z"
   },
   {
    "duration": 5,
    "start_time": "2022-05-13T18:40:56.707Z"
   },
   {
    "duration": 4,
    "start_time": "2022-05-13T18:40:56.914Z"
   },
   {
    "duration": 6,
    "start_time": "2022-05-13T18:40:57.155Z"
   },
   {
    "duration": 50,
    "start_time": "2022-05-13T18:40:57.424Z"
   },
   {
    "duration": 15,
    "start_time": "2022-05-13T18:40:58.365Z"
   },
   {
    "duration": 46,
    "start_time": "2022-05-13T18:40:59.712Z"
   },
   {
    "duration": 28,
    "start_time": "2022-05-13T18:40:59.952Z"
   },
   {
    "duration": 7,
    "start_time": "2022-05-13T18:41:00.176Z"
   },
   {
    "duration": 12,
    "start_time": "2022-05-13T18:41:01.330Z"
   },
   {
    "duration": 6,
    "start_time": "2022-05-13T18:41:01.534Z"
   },
   {
    "duration": 11,
    "start_time": "2022-05-13T18:41:01.764Z"
   },
   {
    "duration": 11,
    "start_time": "2022-05-13T18:41:02.021Z"
   },
   {
    "duration": 17,
    "start_time": "2022-05-13T18:41:02.505Z"
   },
   {
    "duration": 6,
    "start_time": "2022-05-13T18:41:03.919Z"
   },
   {
    "duration": 14,
    "start_time": "2022-05-13T18:41:04.166Z"
   },
   {
    "duration": 11,
    "start_time": "2022-05-13T18:41:04.375Z"
   },
   {
    "duration": 5,
    "start_time": "2022-05-13T18:41:05.977Z"
   },
   {
    "duration": 13,
    "start_time": "2022-05-13T18:41:06.201Z"
   },
   {
    "duration": 10,
    "start_time": "2022-05-13T18:41:07.091Z"
   },
   {
    "duration": 10,
    "start_time": "2022-05-13T18:41:09.140Z"
   },
   {
    "duration": 6,
    "start_time": "2022-05-13T18:41:09.368Z"
   },
   {
    "duration": 18,
    "start_time": "2022-05-13T18:41:10.271Z"
   },
   {
    "duration": 6,
    "start_time": "2022-05-13T18:41:10.471Z"
   },
   {
    "duration": 11,
    "start_time": "2022-05-13T18:41:11.273Z"
   },
   {
    "duration": 7,
    "start_time": "2022-05-13T18:41:11.481Z"
   },
   {
    "duration": 13,
    "start_time": "2022-05-13T18:41:12.396Z"
   },
   {
    "duration": 9,
    "start_time": "2022-05-13T18:41:12.642Z"
   },
   {
    "duration": 1402,
    "start_time": "2022-05-14T16:28:17.111Z"
   },
   {
    "duration": 30,
    "start_time": "2022-05-14T16:28:18.515Z"
   },
   {
    "duration": 25,
    "start_time": "2022-05-14T16:28:18.547Z"
   },
   {
    "duration": 10,
    "start_time": "2022-05-14T16:28:18.573Z"
   },
   {
    "duration": 4,
    "start_time": "2022-05-14T16:28:18.585Z"
   },
   {
    "duration": 17,
    "start_time": "2022-05-14T16:28:18.591Z"
   },
   {
    "duration": 29,
    "start_time": "2022-05-14T16:28:18.610Z"
   },
   {
    "duration": 3,
    "start_time": "2022-05-14T16:28:18.640Z"
   },
   {
    "duration": 29,
    "start_time": "2022-05-14T16:28:18.661Z"
   },
   {
    "duration": 6,
    "start_time": "2022-05-14T16:28:18.692Z"
   },
   {
    "duration": 6,
    "start_time": "2022-05-14T16:28:18.700Z"
   },
   {
    "duration": 4,
    "start_time": "2022-05-14T16:28:18.708Z"
   },
   {
    "duration": 7,
    "start_time": "2022-05-14T16:28:18.714Z"
   },
   {
    "duration": 39,
    "start_time": "2022-05-14T16:28:18.723Z"
   },
   {
    "duration": 8,
    "start_time": "2022-05-14T16:28:18.764Z"
   },
   {
    "duration": 11,
    "start_time": "2022-05-14T16:28:18.774Z"
   },
   {
    "duration": 15,
    "start_time": "2022-05-14T16:28:18.787Z"
   },
   {
    "duration": 11,
    "start_time": "2022-05-14T16:28:18.804Z"
   },
   {
    "duration": 7,
    "start_time": "2022-05-14T16:28:18.816Z"
   },
   {
    "duration": 8,
    "start_time": "2022-05-14T16:28:18.825Z"
   },
   {
    "duration": 36,
    "start_time": "2022-05-14T16:28:18.835Z"
   },
   {
    "duration": 8,
    "start_time": "2022-05-14T16:28:18.873Z"
   },
   {
    "duration": 7,
    "start_time": "2022-05-14T16:28:18.883Z"
   },
   {
    "duration": 11,
    "start_time": "2022-05-14T16:28:18.892Z"
   },
   {
    "duration": 14,
    "start_time": "2022-05-14T16:28:18.904Z"
   },
   {
    "duration": 6,
    "start_time": "2022-05-14T16:28:18.920Z"
   },
   {
    "duration": 9,
    "start_time": "2022-05-14T16:28:18.928Z"
   },
   {
    "duration": 26,
    "start_time": "2022-05-14T16:28:18.938Z"
   },
   {
    "duration": 13,
    "start_time": "2022-05-14T16:28:18.965Z"
   },
   {
    "duration": 10,
    "start_time": "2022-05-14T16:28:18.980Z"
   },
   {
    "duration": 12,
    "start_time": "2022-05-14T16:28:18.992Z"
   },
   {
    "duration": 4,
    "start_time": "2022-05-14T16:28:19.006Z"
   },
   {
    "duration": 10,
    "start_time": "2022-05-14T16:28:19.012Z"
   },
   {
    "duration": 4,
    "start_time": "2022-05-14T16:28:19.024Z"
   },
   {
    "duration": 3,
    "start_time": "2022-05-14T16:28:19.062Z"
   },
   {
    "duration": 16,
    "start_time": "2022-05-14T16:28:19.067Z"
   },
   {
    "duration": 41,
    "start_time": "2022-05-14T16:28:19.084Z"
   },
   {
    "duration": 9,
    "start_time": "2022-05-14T16:28:19.127Z"
   },
   {
    "duration": 27,
    "start_time": "2022-05-14T16:28:19.137Z"
   },
   {
    "duration": 26,
    "start_time": "2022-05-14T16:28:19.166Z"
   },
   {
    "duration": 6,
    "start_time": "2022-05-14T16:28:19.198Z"
   },
   {
    "duration": 21,
    "start_time": "2022-05-14T16:28:19.206Z"
   },
   {
    "duration": 22,
    "start_time": "2022-05-14T16:28:19.228Z"
   },
   {
    "duration": 26,
    "start_time": "2022-05-14T16:28:19.251Z"
   },
   {
    "duration": 11,
    "start_time": "2022-05-14T16:28:19.279Z"
   },
   {
    "duration": 26,
    "start_time": "2022-05-14T16:28:19.292Z"
   },
   {
    "duration": 5,
    "start_time": "2022-05-14T16:28:19.320Z"
   },
   {
    "duration": 25,
    "start_time": "2022-05-14T16:28:19.326Z"
   },
   {
    "duration": 7,
    "start_time": "2022-05-14T16:28:19.352Z"
   },
   {
    "duration": 15,
    "start_time": "2022-05-14T16:28:19.360Z"
   },
   {
    "duration": 24,
    "start_time": "2022-05-14T16:28:19.377Z"
   },
   {
    "duration": 18,
    "start_time": "2022-05-14T16:28:19.403Z"
   },
   {
    "duration": 29,
    "start_time": "2022-05-14T16:28:19.423Z"
   },
   {
    "duration": 9,
    "start_time": "2022-05-14T16:28:19.454Z"
   },
   {
    "duration": 26,
    "start_time": "2022-05-14T16:28:19.465Z"
   },
   {
    "duration": 14,
    "start_time": "2022-05-14T16:28:19.492Z"
   },
   {
    "duration": 24,
    "start_time": "2022-05-14T16:28:19.508Z"
   },
   {
    "duration": 13,
    "start_time": "2022-05-14T16:28:19.534Z"
   },
   {
    "duration": 36,
    "start_time": "2022-05-14T16:28:19.549Z"
   },
   {
    "duration": 14,
    "start_time": "2022-05-14T16:28:19.586Z"
   }
  ],
  "kernelspec": {
   "display_name": "Python 3 (ipykernel)",
   "language": "python",
   "name": "python3"
  },
  "language_info": {
   "codemirror_mode": {
    "name": "ipython",
    "version": 3
   },
   "file_extension": ".py",
   "mimetype": "text/x-python",
   "name": "python",
   "nbconvert_exporter": "python",
   "pygments_lexer": "ipython3",
   "version": "3.9.5"
  },
  "toc": {
   "base_numbering": 1,
   "nav_menu": {},
   "number_sections": true,
   "sideBar": true,
   "skip_h1_title": true,
   "title_cell": "Table of Contents",
   "title_sidebar": "Contents",
   "toc_cell": false,
   "toc_position": {},
   "toc_section_display": true,
   "toc_window_display": false
  }
 },
 "nbformat": 4,
 "nbformat_minor": 5
}
